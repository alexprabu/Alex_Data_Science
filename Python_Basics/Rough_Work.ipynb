{
 "cells": [
  {
   "cell_type": "code",
   "execution_count": null,
   "metadata": {},
   "outputs": [],
   "source": [
    "N = int(input())\n",
    "if (N%2) != 0:\n",
    "    print(\"Weird\")\n",
    "else:\n",
    "    if (N >= 2) & (N <= 5):\n",
    "        print(\"Not Weird\")\n",
    "    elif (N >= 6) & (N <= 20):\n",
    "        print(\"Weird\")\n",
    "    elif (N > 20):\n",
    "        print(\"Not Weird\")"
   ]
  },
  {
   "cell_type": "code",
   "execution_count": null,
   "metadata": {},
   "outputs": [],
   "source": [
    "if __name__ == '__main__':\n",
    "    a = int(input())\n",
    "    b = int(input())\n",
    "    print(a+b)\n",
    "    print(a-b)\n",
    "    print(a*b)"
   ]
  },
  {
   "cell_type": "code",
   "execution_count": 4,
   "metadata": {},
   "outputs": [
    {
     "name": "stdout",
     "output_type": "stream",
     "text": [
      "ALEXPRABUALEXALEX\n",
      "ALE\n",
      "STR NOW:  ALE\n",
      "Start:  1\n",
      "End:  4\n",
      "STR NOW:  LEX\n",
      "Start:  2\n",
      "End:  5\n",
      "STR NOW:  EXP\n",
      "Start:  3\n",
      "End:  6\n",
      "STR NOW:  XPR\n",
      "Start:  4\n",
      "End:  7\n",
      "STR NOW:  PRA\n",
      "Start:  5\n",
      "End:  8\n",
      "STR NOW:  RAB\n",
      "Start:  6\n",
      "End:  9\n",
      "STR NOW:  ABU\n",
      "Start:  7\n",
      "End:  10\n",
      "STR NOW:  BUA\n",
      "Start:  8\n",
      "End:  11\n",
      "STR NOW:  UAL\n",
      "Start:  9\n",
      "End:  12\n",
      "STR NOW:  ALE\n",
      "Start:  10\n",
      "End:  13\n",
      "STR NOW:  LEX\n",
      "Start:  11\n",
      "End:  14\n",
      "STR NOW:  EXA\n",
      "Start:  12\n",
      "End:  15\n",
      "STR NOW:  XAL\n",
      "Start:  13\n",
      "End:  16\n",
      "STR NOW:  ALE\n",
      "Start:  14\n",
      "End:  17\n",
      "STR NOW:  LEX\n",
      "Start:  15\n",
      "End:  18\n",
      "3\n"
     ]
    }
   ],
   "source": [
    "# ABCDCDC\n",
    "\n",
    "def total_occurances(string,sub):\n",
    "    count = 0\n",
    "    strLen = len(string)\n",
    "    subLen = len(sub)\n",
    "    if sub in string:\n",
    "        start = 0\n",
    "        end = subLen\n",
    "        for i in string:\n",
    "            if (sub in string[start:end]):\n",
    "                count += 1\n",
    "            start += 1\n",
    "            end += 1\n",
    "            if end > strLen:\n",
    "                break\n",
    "            \n",
    "    return count\n",
    "    \n",
    "if __name__ == '__main__':\n",
    "    string = input()\n",
    "    sub = input()\n",
    "    print(total_occurances(string, sub))"
   ]
  },
  {
   "cell_type": "code",
   "execution_count": 11,
   "metadata": {},
   "outputs": [
    {
     "name": "stdout",
     "output_type": "stream",
     "text": [
      "10\n",
      "161 182 161 154 176 170 167 171 170 174\n",
      "169.375\n"
     ]
    }
   ],
   "source": [
    "def average(array):\n",
    "    trees_with_distinct_heights = set(array)\n",
    "    sum_of_distinct_heights = 0\n",
    "    for i in trees_with_distinct_heights:\n",
    "        sum_of_distinct_heights  += i\n",
    "    avg = sum_of_distinct_heights/len(trees_with_distinct_heights)\n",
    "    return avg\n",
    "\n",
    "if __name__ == '__main__':\n",
    "    n = int(input())\n",
    "    arr = list(map(int, input().split()))\n",
    "    result = average(arr)\n",
    "    print(result)"
   ]
  },
  {
   "cell_type": "code",
   "execution_count": 15,
   "metadata": {},
   "outputs": [
    {
     "name": "stdout",
     "output_type": "stream",
     "text": [
      "ABCDEFGHIJKLIMNOQRSTUVWXYZ\n",
      "4\n",
      "ABCD\n",
      "EFGH\n",
      "IJKL\n",
      "IMNO\n",
      "QRST\n",
      "UVWX\n",
      "YZ\n",
      "\n",
      "\n",
      "\n",
      "\n",
      "\n",
      "\n",
      "\n",
      "\n",
      "\n",
      "\n",
      "\n",
      "\n",
      "\n",
      "\n",
      "\n",
      "\n",
      "\n",
      "\n",
      "\n",
      "\n"
     ]
    }
   ],
   "source": [
    "import textwrap\n",
    "\n",
    "def wrap(string, max_width):\n",
    "    wrappedTxt = \"\"\n",
    "    strLen = len(string)\n",
    "\n",
    "    start = 0\n",
    "    end = max_width\n",
    "    for i in string:\n",
    "        wrappedTxt = wrappedTxt + string[start:end] + \"\\n\"\n",
    "        start += max_width\n",
    "        end += max_width\n",
    "            \n",
    "    return wrappedTxt\n",
    "\n",
    "if __name__ == '__main__':\n",
    "    string, max_width = input(), int(input())\n",
    "    result = wrap(string, max_width)\n",
    "    print(result)\n",
    "    \n",
    "# ABCDEFGHIJKLIMNOQRSTUVWXYZ"
   ]
  },
  {
   "cell_type": "code",
   "execution_count": 19,
   "metadata": {},
   "outputs": [
    {
     "name": "stdout",
     "output_type": "stream",
     "text": [
      "2\n",
      "1 2\n",
      "3713081631934410656\n"
     ]
    }
   ],
   "source": [
    "if __name__ == '__main__':\n",
    "    n = int(input())\n",
    "    integer_list = map(int, input().split())    \n",
    "    t = tuple(integer_list)\n",
    "    print(hash(t))"
   ]
  },
  {
   "cell_type": "code",
   "execution_count": 1,
   "metadata": {},
   "outputs": [
    {
     "name": "stdout",
     "output_type": "stream",
     "text": [
      "9\n",
      "29\n",
      "7\n",
      "27\n",
      "4710194409608608369201743232\n"
     ]
    }
   ],
   "source": [
    "a = int(input())\n",
    "b = int(input())\n",
    "c = int(input())\n",
    "d = int(input())\n",
    "\n",
    "result = (a**b) + (c**d)\n",
    "print(result)\n"
   ]
  },
  {
   "cell_type": "code",
   "execution_count": null,
   "metadata": {},
   "outputs": [],
   "source": []
  }
 ],
 "metadata": {
  "kernelspec": {
   "display_name": "Python 3",
   "language": "python",
   "name": "python3"
  },
  "language_info": {
   "codemirror_mode": {
    "name": "ipython",
    "version": 3
   },
   "file_extension": ".py",
   "mimetype": "text/x-python",
   "name": "python",
   "nbconvert_exporter": "python",
   "pygments_lexer": "ipython3",
   "version": "3.7.1"
  }
 },
 "nbformat": 4,
 "nbformat_minor": 2
}
