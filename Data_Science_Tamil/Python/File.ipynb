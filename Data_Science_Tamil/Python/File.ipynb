{
 "cells": [
  {
   "cell_type": "code",
   "execution_count": null,
   "metadata": {},
   "outputs": [],
   "source": []
  },
  {
   "cell_type": "markdown",
   "metadata": {},
   "source": [
    "<b>like String, List, Set, Tuple, Dict are sequences where we can use for loop, 'File' is also a sequence which can be iterable in for loop"
   ]
  },
  {
   "cell_type": "code",
   "execution_count": 1,
   "metadata": {},
   "outputs": [
    {
     "name": "stdout",
     "output_type": "stream",
     "text": [
      "N\n",
      "i\n",
      "r\n",
      "a\n",
      "l\n",
      "y\n",
      "a\n",
      " \n",
      "A\n",
      "l\n",
      "e\n",
      "x\n"
     ]
    }
   ],
   "source": [
    "#String\n",
    "name = \"Niralya Alex\"\n",
    "for item in name:\n",
    "    print(item)\n"
   ]
  },
  {
   "cell_type": "code",
   "execution_count": 2,
   "metadata": {},
   "outputs": [
    {
     "name": "stdout",
     "output_type": "stream",
     "text": [
      "test\n",
      "1\n",
      "3\n",
      "(3, 3)\n"
     ]
    }
   ],
   "source": [
    "#List\n",
    "lst = ['test',1,3,(3,3)]\n",
    "for item in lst:\n",
    "    print(item)"
   ]
  },
  {
   "cell_type": "code",
   "execution_count": null,
   "metadata": {},
   "outputs": [],
   "source": []
  },
  {
   "cell_type": "code",
   "execution_count": 3,
   "metadata": {},
   "outputs": [],
   "source": [
    "bankFile = open(file='bank.txt', mode='r')"
   ]
  },
  {
   "cell_type": "code",
   "execution_count": 4,
   "metadata": {},
   "outputs": [
    {
     "name": "stdout",
     "output_type": "stream",
     "text": [
      "<class '_io.TextIOWrapper'>\n"
     ]
    }
   ],
   "source": [
    "print(type(bankFile))"
   ]
  },
  {
   "cell_type": "code",
   "execution_count": 5,
   "metadata": {},
   "outputs": [
    {
     "name": "stdout",
     "output_type": "stream",
     "text": [
      "2469222818272\n"
     ]
    }
   ],
   "source": [
    "print(id(bankFile))"
   ]
  },
  {
   "cell_type": "code",
   "execution_count": 6,
   "metadata": {},
   "outputs": [
    {
     "name": "stdout",
     "output_type": "stream",
     "text": [
      "This is IOB bank page\n",
      "<class 'str'>\n",
      "\n",
      "<class 'str'>\n",
      "\n",
      "<class 'str'>\n",
      "Indian Overseas Bank\n",
      "<class 'str'>\n",
      "\n",
      "<class 'str'>\n",
      "\n",
      "<class 'str'>\n",
      "Head office at Chennai\n",
      "<class 'str'>\n",
      "Public sector bank\n",
      "<class 'str'>\n",
      "branch1 = {'Name':'Mount Road','IFSC':'IOB000001','Manager':'Mr. Siva Kumar'}\n",
      "<class 'str'>\n"
     ]
    }
   ],
   "source": [
    "for line in bankFile:\n",
    "#     print(line) #will print with whitespaces\n",
    "    line = line.strip()\n",
    "    print(line)\n",
    "#     print(type(line))"
   ]
  },
  {
   "cell_type": "code",
   "execution_count": null,
   "metadata": {},
   "outputs": [],
   "source": []
  },
  {
   "cell_type": "code",
   "execution_count": null,
   "metadata": {},
   "outputs": [],
   "source": []
  },
  {
   "cell_type": "code",
   "execution_count": null,
   "metadata": {},
   "outputs": [],
   "source": []
  },
  {
   "cell_type": "code",
   "execution_count": null,
   "metadata": {},
   "outputs": [],
   "source": []
  }
 ],
 "metadata": {
  "kernelspec": {
   "display_name": "Python 3",
   "language": "python",
   "name": "python3"
  },
  "language_info": {
   "codemirror_mode": {
    "name": "ipython",
    "version": 3
   },
   "file_extension": ".py",
   "mimetype": "text/x-python",
   "name": "python",
   "nbconvert_exporter": "python",
   "pygments_lexer": "ipython3",
   "version": "3.8.5"
  }
 },
 "nbformat": 4,
 "nbformat_minor": 4
}
