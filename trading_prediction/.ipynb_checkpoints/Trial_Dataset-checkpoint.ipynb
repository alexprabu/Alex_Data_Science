{
 "cells": [
  {
   "cell_type": "code",
   "execution_count": 1,
   "metadata": {},
   "outputs": [],
   "source": [
    "import pandas as pd\n",
    "import numpy as np\n",
    "import matplotlib.pyplot as plt\n",
    "import seaborn as sns\n",
    "from sklearn import preprocessing"
   ]
  },
  {
   "cell_type": "code",
   "execution_count": 2,
   "metadata": {},
   "outputs": [],
   "source": [
    "%matplotlib inline"
   ]
  },
  {
   "cell_type": "code",
   "execution_count": 3,
   "metadata": {},
   "outputs": [],
   "source": [
    "df = pd.read_csv(\"trial_sample_dataset.csv\");"
   ]
  },
  {
   "cell_type": "code",
   "execution_count": 4,
   "metadata": {},
   "outputs": [
    {
     "data": {
      "text/plain": [
       "(2286, 8)"
      ]
     },
     "execution_count": 4,
     "metadata": {},
     "output_type": "execute_result"
    }
   ],
   "source": [
    "df.shape"
   ]
  },
  {
   "cell_type": "code",
   "execution_count": 5,
   "metadata": {},
   "outputs": [
    {
     "data": {
      "text/html": [
       "<div>\n",
       "<style scoped>\n",
       "    .dataframe tbody tr th:only-of-type {\n",
       "        vertical-align: middle;\n",
       "    }\n",
       "\n",
       "    .dataframe tbody tr th {\n",
       "        vertical-align: top;\n",
       "    }\n",
       "\n",
       "    .dataframe thead th {\n",
       "        text-align: right;\n",
       "    }\n",
       "</style>\n",
       "<table border=\"1\" class=\"dataframe\">\n",
       "  <thead>\n",
       "    <tr style=\"text-align: right;\">\n",
       "      <th></th>\n",
       "      <th>Asset</th>\n",
       "      <th>Options</th>\n",
       "      <th>Opening_Quote</th>\n",
       "      <th>Closing_Quote</th>\n",
       "      <th>Trade_USD</th>\n",
       "      <th>Income_USD</th>\n",
       "      <th>Profit_Loss</th>\n",
       "      <th>Status</th>\n",
       "    </tr>\n",
       "  </thead>\n",
       "  <tbody>\n",
       "    <tr>\n",
       "      <td>0</td>\n",
       "      <td>EUR USD</td>\n",
       "      <td>82%</td>\n",
       "      <td>1.17280\\n02 October 2020 17:39:55</td>\n",
       "      <td>1.17285\\n02 October 2020 17:40:55</td>\n",
       "      <td>1</td>\n",
       "      <td>1.82</td>\n",
       "      <td>0.82</td>\n",
       "      <td>Profit</td>\n",
       "    </tr>\n",
       "    <tr>\n",
       "      <td>1</td>\n",
       "      <td>Ethereum Classic</td>\n",
       "      <td>80%</td>\n",
       "      <td>5.08511\\n02 October 2020 17:25:47</td>\n",
       "      <td>5.08660\\n02 October 2020 17:26:34</td>\n",
       "      <td>1</td>\n",
       "      <td>1.05</td>\n",
       "      <td>0.05</td>\n",
       "      <td>Profit</td>\n",
       "    </tr>\n",
       "    <tr>\n",
       "      <td>2</td>\n",
       "      <td>Ethereum Classic</td>\n",
       "      <td>80%</td>\n",
       "      <td>5.08305\\n02 October 2020 15:15:59</td>\n",
       "      <td>5.08845\\n02 October 2020 15:30:59</td>\n",
       "      <td>2</td>\n",
       "      <td>3.60</td>\n",
       "      <td>1.60</td>\n",
       "      <td>Profit</td>\n",
       "    </tr>\n",
       "    <tr>\n",
       "      <td>3</td>\n",
       "      <td>Zcash</td>\n",
       "      <td>80%</td>\n",
       "      <td>64.50559\\n02 October 2020 01:42:38</td>\n",
       "      <td>64.49942\\n02 October 2020 01:43:38</td>\n",
       "      <td>1</td>\n",
       "      <td>1.80</td>\n",
       "      <td>0.80</td>\n",
       "      <td>Profit</td>\n",
       "    </tr>\n",
       "    <tr>\n",
       "      <td>4</td>\n",
       "      <td>Zcash</td>\n",
       "      <td>80%</td>\n",
       "      <td>64.67999\\n02 October 2020 01:38:50</td>\n",
       "      <td>64.72243\\n02 October 2020 01:38:56</td>\n",
       "      <td>1</td>\n",
       "      <td>1.41</td>\n",
       "      <td>0.41</td>\n",
       "      <td>Profit</td>\n",
       "    </tr>\n",
       "  </tbody>\n",
       "</table>\n",
       "</div>"
      ],
      "text/plain": [
       "              Asset Options                       Opening_Quote  \\\n",
       "0           EUR USD     82%   1.17280\\n02 October 2020 17:39:55   \n",
       "1  Ethereum Classic     80%   5.08511\\n02 October 2020 17:25:47   \n",
       "2  Ethereum Classic     80%   5.08305\\n02 October 2020 15:15:59   \n",
       "3             Zcash     80%  64.50559\\n02 October 2020 01:42:38   \n",
       "4             Zcash     80%  64.67999\\n02 October 2020 01:38:50   \n",
       "\n",
       "                        Closing_Quote  Trade_USD  Income_USD  Profit_Loss  \\\n",
       "0   1.17285\\n02 October 2020 17:40:55          1        1.82         0.82   \n",
       "1   5.08660\\n02 October 2020 17:26:34          1        1.05         0.05   \n",
       "2   5.08845\\n02 October 2020 15:30:59          2        3.60         1.60   \n",
       "3  64.49942\\n02 October 2020 01:43:38          1        1.80         0.80   \n",
       "4  64.72243\\n02 October 2020 01:38:56          1        1.41         0.41   \n",
       "\n",
       "   Status  \n",
       "0  Profit  \n",
       "1  Profit  \n",
       "2  Profit  \n",
       "3  Profit  \n",
       "4  Profit  "
      ]
     },
     "execution_count": 5,
     "metadata": {},
     "output_type": "execute_result"
    }
   ],
   "source": [
    "df.head()"
   ]
  },
  {
   "cell_type": "code",
   "execution_count": 6,
   "metadata": {},
   "outputs": [
    {
     "name": "stdout",
     "output_type": "stream",
     "text": [
      "<class 'pandas.core.frame.DataFrame'>\n",
      "RangeIndex: 2286 entries, 0 to 2285\n",
      "Data columns (total 8 columns):\n",
      "Asset            2286 non-null object\n",
      "Options          2286 non-null object\n",
      "Opening_Quote    2286 non-null object\n",
      "Closing_Quote    2286 non-null object\n",
      "Trade_USD        2286 non-null int64\n",
      "Income_USD       2286 non-null float64\n",
      "Profit_Loss      2286 non-null float64\n",
      "Status           2286 non-null object\n",
      "dtypes: float64(2), int64(1), object(5)\n",
      "memory usage: 143.0+ KB\n"
     ]
    }
   ],
   "source": [
    "df.info()"
   ]
  },
  {
   "cell_type": "code",
   "execution_count": 7,
   "metadata": {},
   "outputs": [
    {
     "data": {
      "text/html": [
       "<div>\n",
       "<style scoped>\n",
       "    .dataframe tbody tr th:only-of-type {\n",
       "        vertical-align: middle;\n",
       "    }\n",
       "\n",
       "    .dataframe tbody tr th {\n",
       "        vertical-align: top;\n",
       "    }\n",
       "\n",
       "    .dataframe thead th {\n",
       "        text-align: right;\n",
       "    }\n",
       "</style>\n",
       "<table border=\"1\" class=\"dataframe\">\n",
       "  <thead>\n",
       "    <tr style=\"text-align: right;\">\n",
       "      <th></th>\n",
       "      <th>Asset</th>\n",
       "      <th>Options</th>\n",
       "      <th>Opening_Quote</th>\n",
       "      <th>Closing_Quote</th>\n",
       "      <th>Trade_USD</th>\n",
       "      <th>Income_USD</th>\n",
       "      <th>Profit_Loss</th>\n",
       "      <th>Status</th>\n",
       "    </tr>\n",
       "  </thead>\n",
       "  <tbody>\n",
       "    <tr>\n",
       "      <td>2281</td>\n",
       "      <td>Ethereum Classic</td>\n",
       "      <td>0.8</td>\n",
       "      <td>3.82741\\n23 November 2019 14:16:43</td>\n",
       "      <td>3.83066\\n23 November 2019 14:25:43</td>\n",
       "      <td>10</td>\n",
       "      <td>18.0</td>\n",
       "      <td>8.0</td>\n",
       "      <td>Profit</td>\n",
       "    </tr>\n",
       "    <tr>\n",
       "      <td>2282</td>\n",
       "      <td>Ethereum Classic</td>\n",
       "      <td>0.8</td>\n",
       "      <td>3.86514\\n23 November 2019 13:40:50</td>\n",
       "      <td>3.86305\\n23 November 2019 13:49:50</td>\n",
       "      <td>6</td>\n",
       "      <td>10.8</td>\n",
       "      <td>4.8</td>\n",
       "      <td>Profit</td>\n",
       "    </tr>\n",
       "    <tr>\n",
       "      <td>2283</td>\n",
       "      <td>Ethereum Classic</td>\n",
       "      <td>0.8</td>\n",
       "      <td>3.82321\\n23 November 2019 12:59:41</td>\n",
       "      <td>3.85393\\n23 November 2019 13:08:41</td>\n",
       "      <td>4</td>\n",
       "      <td>7.2</td>\n",
       "      <td>3.2</td>\n",
       "      <td>Profit</td>\n",
       "    </tr>\n",
       "    <tr>\n",
       "      <td>2284</td>\n",
       "      <td>Ethereum Classic</td>\n",
       "      <td>0.8</td>\n",
       "      <td>3.87457\\n23 November 2019 12:34:19</td>\n",
       "      <td>3.87024\\n23 November 2019 12:43:19</td>\n",
       "      <td>3</td>\n",
       "      <td>5.4</td>\n",
       "      <td>2.4</td>\n",
       "      <td>Profit</td>\n",
       "    </tr>\n",
       "    <tr>\n",
       "      <td>2285</td>\n",
       "      <td>Ethereum Classic</td>\n",
       "      <td>0.8</td>\n",
       "      <td>3.86811\\n23 November 2019 12:04:25</td>\n",
       "      <td>3.86684\\n23 November 2019 12:13:25</td>\n",
       "      <td>3</td>\n",
       "      <td>5.4</td>\n",
       "      <td>2.4</td>\n",
       "      <td>Profit</td>\n",
       "    </tr>\n",
       "  </tbody>\n",
       "</table>\n",
       "</div>"
      ],
      "text/plain": [
       "                 Asset Options                       Opening_Quote  \\\n",
       "2281  Ethereum Classic     0.8  3.82741\\n23 November 2019 14:16:43   \n",
       "2282  Ethereum Classic     0.8  3.86514\\n23 November 2019 13:40:50   \n",
       "2283  Ethereum Classic     0.8  3.82321\\n23 November 2019 12:59:41   \n",
       "2284  Ethereum Classic     0.8  3.87457\\n23 November 2019 12:34:19   \n",
       "2285  Ethereum Classic     0.8  3.86811\\n23 November 2019 12:04:25   \n",
       "\n",
       "                           Closing_Quote  Trade_USD  Income_USD  Profit_Loss  \\\n",
       "2281  3.83066\\n23 November 2019 14:25:43         10        18.0          8.0   \n",
       "2282  3.86305\\n23 November 2019 13:49:50          6        10.8          4.8   \n",
       "2283  3.85393\\n23 November 2019 13:08:41          4         7.2          3.2   \n",
       "2284  3.87024\\n23 November 2019 12:43:19          3         5.4          2.4   \n",
       "2285  3.86684\\n23 November 2019 12:13:25          3         5.4          2.4   \n",
       "\n",
       "      Status  \n",
       "2281  Profit  \n",
       "2282  Profit  \n",
       "2283  Profit  \n",
       "2284  Profit  \n",
       "2285  Profit  "
      ]
     },
     "execution_count": 7,
     "metadata": {},
     "output_type": "execute_result"
    }
   ],
   "source": [
    "df.tail()"
   ]
  },
  {
   "cell_type": "code",
   "execution_count": 8,
   "metadata": {},
   "outputs": [],
   "source": [
    "df[[\"Opening_Quote_USD\", \"Opening_Quote_Time\"]] = df.Opening_Quote.str.split(\"\\n\", expand = True)"
   ]
  },
  {
   "cell_type": "code",
   "execution_count": 9,
   "metadata": {},
   "outputs": [],
   "source": [
    "df[[\"Closing_Quote_USD\", \"Closing_Quote_Time\"]] = df.Closing_Quote.str.split(\"\\n\", expand = True)"
   ]
  },
  {
   "cell_type": "code",
   "execution_count": 10,
   "metadata": {},
   "outputs": [
    {
     "data": {
      "text/html": [
       "<div>\n",
       "<style scoped>\n",
       "    .dataframe tbody tr th:only-of-type {\n",
       "        vertical-align: middle;\n",
       "    }\n",
       "\n",
       "    .dataframe tbody tr th {\n",
       "        vertical-align: top;\n",
       "    }\n",
       "\n",
       "    .dataframe thead th {\n",
       "        text-align: right;\n",
       "    }\n",
       "</style>\n",
       "<table border=\"1\" class=\"dataframe\">\n",
       "  <thead>\n",
       "    <tr style=\"text-align: right;\">\n",
       "      <th></th>\n",
       "      <th>Asset</th>\n",
       "      <th>Options</th>\n",
       "      <th>Opening_Quote</th>\n",
       "      <th>Closing_Quote</th>\n",
       "      <th>Trade_USD</th>\n",
       "      <th>Income_USD</th>\n",
       "      <th>Profit_Loss</th>\n",
       "      <th>Status</th>\n",
       "      <th>Opening_Quote_USD</th>\n",
       "      <th>Opening_Quote_Time</th>\n",
       "      <th>Closing_Quote_USD</th>\n",
       "      <th>Closing_Quote_Time</th>\n",
       "    </tr>\n",
       "  </thead>\n",
       "  <tbody>\n",
       "    <tr>\n",
       "      <td>2281</td>\n",
       "      <td>Ethereum Classic</td>\n",
       "      <td>0.8</td>\n",
       "      <td>3.82741\\n23 November 2019 14:16:43</td>\n",
       "      <td>3.83066\\n23 November 2019 14:25:43</td>\n",
       "      <td>10</td>\n",
       "      <td>18.0</td>\n",
       "      <td>8.0</td>\n",
       "      <td>Profit</td>\n",
       "      <td>3.82741</td>\n",
       "      <td>23 November 2019 14:16:43</td>\n",
       "      <td>3.83066</td>\n",
       "      <td>23 November 2019 14:25:43</td>\n",
       "    </tr>\n",
       "    <tr>\n",
       "      <td>2282</td>\n",
       "      <td>Ethereum Classic</td>\n",
       "      <td>0.8</td>\n",
       "      <td>3.86514\\n23 November 2019 13:40:50</td>\n",
       "      <td>3.86305\\n23 November 2019 13:49:50</td>\n",
       "      <td>6</td>\n",
       "      <td>10.8</td>\n",
       "      <td>4.8</td>\n",
       "      <td>Profit</td>\n",
       "      <td>3.86514</td>\n",
       "      <td>23 November 2019 13:40:50</td>\n",
       "      <td>3.86305</td>\n",
       "      <td>23 November 2019 13:49:50</td>\n",
       "    </tr>\n",
       "    <tr>\n",
       "      <td>2283</td>\n",
       "      <td>Ethereum Classic</td>\n",
       "      <td>0.8</td>\n",
       "      <td>3.82321\\n23 November 2019 12:59:41</td>\n",
       "      <td>3.85393\\n23 November 2019 13:08:41</td>\n",
       "      <td>4</td>\n",
       "      <td>7.2</td>\n",
       "      <td>3.2</td>\n",
       "      <td>Profit</td>\n",
       "      <td>3.82321</td>\n",
       "      <td>23 November 2019 12:59:41</td>\n",
       "      <td>3.85393</td>\n",
       "      <td>23 November 2019 13:08:41</td>\n",
       "    </tr>\n",
       "    <tr>\n",
       "      <td>2284</td>\n",
       "      <td>Ethereum Classic</td>\n",
       "      <td>0.8</td>\n",
       "      <td>3.87457\\n23 November 2019 12:34:19</td>\n",
       "      <td>3.87024\\n23 November 2019 12:43:19</td>\n",
       "      <td>3</td>\n",
       "      <td>5.4</td>\n",
       "      <td>2.4</td>\n",
       "      <td>Profit</td>\n",
       "      <td>3.87457</td>\n",
       "      <td>23 November 2019 12:34:19</td>\n",
       "      <td>3.87024</td>\n",
       "      <td>23 November 2019 12:43:19</td>\n",
       "    </tr>\n",
       "    <tr>\n",
       "      <td>2285</td>\n",
       "      <td>Ethereum Classic</td>\n",
       "      <td>0.8</td>\n",
       "      <td>3.86811\\n23 November 2019 12:04:25</td>\n",
       "      <td>3.86684\\n23 November 2019 12:13:25</td>\n",
       "      <td>3</td>\n",
       "      <td>5.4</td>\n",
       "      <td>2.4</td>\n",
       "      <td>Profit</td>\n",
       "      <td>3.86811</td>\n",
       "      <td>23 November 2019 12:04:25</td>\n",
       "      <td>3.86684</td>\n",
       "      <td>23 November 2019 12:13:25</td>\n",
       "    </tr>\n",
       "  </tbody>\n",
       "</table>\n",
       "</div>"
      ],
      "text/plain": [
       "                 Asset Options                       Opening_Quote  \\\n",
       "2281  Ethereum Classic     0.8  3.82741\\n23 November 2019 14:16:43   \n",
       "2282  Ethereum Classic     0.8  3.86514\\n23 November 2019 13:40:50   \n",
       "2283  Ethereum Classic     0.8  3.82321\\n23 November 2019 12:59:41   \n",
       "2284  Ethereum Classic     0.8  3.87457\\n23 November 2019 12:34:19   \n",
       "2285  Ethereum Classic     0.8  3.86811\\n23 November 2019 12:04:25   \n",
       "\n",
       "                           Closing_Quote  Trade_USD  Income_USD  Profit_Loss  \\\n",
       "2281  3.83066\\n23 November 2019 14:25:43         10        18.0          8.0   \n",
       "2282  3.86305\\n23 November 2019 13:49:50          6        10.8          4.8   \n",
       "2283  3.85393\\n23 November 2019 13:08:41          4         7.2          3.2   \n",
       "2284  3.87024\\n23 November 2019 12:43:19          3         5.4          2.4   \n",
       "2285  3.86684\\n23 November 2019 12:13:25          3         5.4          2.4   \n",
       "\n",
       "      Status Opening_Quote_USD         Opening_Quote_Time Closing_Quote_USD  \\\n",
       "2281  Profit           3.82741  23 November 2019 14:16:43           3.83066   \n",
       "2282  Profit           3.86514  23 November 2019 13:40:50           3.86305   \n",
       "2283  Profit           3.82321  23 November 2019 12:59:41           3.85393   \n",
       "2284  Profit           3.87457  23 November 2019 12:34:19           3.87024   \n",
       "2285  Profit           3.86811  23 November 2019 12:04:25           3.86684   \n",
       "\n",
       "             Closing_Quote_Time  \n",
       "2281  23 November 2019 14:25:43  \n",
       "2282  23 November 2019 13:49:50  \n",
       "2283  23 November 2019 13:08:41  \n",
       "2284  23 November 2019 12:43:19  \n",
       "2285  23 November 2019 12:13:25  "
      ]
     },
     "execution_count": 10,
     "metadata": {},
     "output_type": "execute_result"
    }
   ],
   "source": [
    "df.tail()"
   ]
  },
  {
   "cell_type": "code",
   "execution_count": 11,
   "metadata": {},
   "outputs": [
    {
     "data": {
      "text/html": [
       "<div>\n",
       "<style scoped>\n",
       "    .dataframe tbody tr th:only-of-type {\n",
       "        vertical-align: middle;\n",
       "    }\n",
       "\n",
       "    .dataframe tbody tr th {\n",
       "        vertical-align: top;\n",
       "    }\n",
       "\n",
       "    .dataframe thead th {\n",
       "        text-align: right;\n",
       "    }\n",
       "</style>\n",
       "<table border=\"1\" class=\"dataframe\">\n",
       "  <thead>\n",
       "    <tr style=\"text-align: right;\">\n",
       "      <th></th>\n",
       "      <th>Asset</th>\n",
       "      <th>Options</th>\n",
       "      <th>Opening_Quote</th>\n",
       "      <th>Closing_Quote</th>\n",
       "      <th>Trade_USD</th>\n",
       "      <th>Income_USD</th>\n",
       "      <th>Profit_Loss</th>\n",
       "      <th>Status</th>\n",
       "      <th>Opening_Quote_USD</th>\n",
       "      <th>Opening_Quote_Time</th>\n",
       "      <th>Closing_Quote_USD</th>\n",
       "      <th>Closing_Quote_Time</th>\n",
       "    </tr>\n",
       "  </thead>\n",
       "  <tbody>\n",
       "    <tr>\n",
       "      <td>0</td>\n",
       "      <td>EUR USD</td>\n",
       "      <td>82%</td>\n",
       "      <td>1.17280\\n02 October 2020 17:39:55</td>\n",
       "      <td>1.17285\\n02 October 2020 17:40:55</td>\n",
       "      <td>1</td>\n",
       "      <td>1.82</td>\n",
       "      <td>0.82</td>\n",
       "      <td>Profit</td>\n",
       "      <td>1.17280</td>\n",
       "      <td>02 October 2020 17:39:55</td>\n",
       "      <td>1.17285</td>\n",
       "      <td>02 October 2020 17:40:55</td>\n",
       "    </tr>\n",
       "    <tr>\n",
       "      <td>1</td>\n",
       "      <td>Ethereum Classic</td>\n",
       "      <td>80%</td>\n",
       "      <td>5.08511\\n02 October 2020 17:25:47</td>\n",
       "      <td>5.08660\\n02 October 2020 17:26:34</td>\n",
       "      <td>1</td>\n",
       "      <td>1.05</td>\n",
       "      <td>0.05</td>\n",
       "      <td>Profit</td>\n",
       "      <td>5.08511</td>\n",
       "      <td>02 October 2020 17:25:47</td>\n",
       "      <td>5.08660</td>\n",
       "      <td>02 October 2020 17:26:34</td>\n",
       "    </tr>\n",
       "    <tr>\n",
       "      <td>2</td>\n",
       "      <td>Ethereum Classic</td>\n",
       "      <td>80%</td>\n",
       "      <td>5.08305\\n02 October 2020 15:15:59</td>\n",
       "      <td>5.08845\\n02 October 2020 15:30:59</td>\n",
       "      <td>2</td>\n",
       "      <td>3.60</td>\n",
       "      <td>1.60</td>\n",
       "      <td>Profit</td>\n",
       "      <td>5.08305</td>\n",
       "      <td>02 October 2020 15:15:59</td>\n",
       "      <td>5.08845</td>\n",
       "      <td>02 October 2020 15:30:59</td>\n",
       "    </tr>\n",
       "    <tr>\n",
       "      <td>3</td>\n",
       "      <td>Zcash</td>\n",
       "      <td>80%</td>\n",
       "      <td>64.50559\\n02 October 2020 01:42:38</td>\n",
       "      <td>64.49942\\n02 October 2020 01:43:38</td>\n",
       "      <td>1</td>\n",
       "      <td>1.80</td>\n",
       "      <td>0.80</td>\n",
       "      <td>Profit</td>\n",
       "      <td>64.50559</td>\n",
       "      <td>02 October 2020 01:42:38</td>\n",
       "      <td>64.49942</td>\n",
       "      <td>02 October 2020 01:43:38</td>\n",
       "    </tr>\n",
       "    <tr>\n",
       "      <td>4</td>\n",
       "      <td>Zcash</td>\n",
       "      <td>80%</td>\n",
       "      <td>64.67999\\n02 October 2020 01:38:50</td>\n",
       "      <td>64.72243\\n02 October 2020 01:38:56</td>\n",
       "      <td>1</td>\n",
       "      <td>1.41</td>\n",
       "      <td>0.41</td>\n",
       "      <td>Profit</td>\n",
       "      <td>64.67999</td>\n",
       "      <td>02 October 2020 01:38:50</td>\n",
       "      <td>64.72243</td>\n",
       "      <td>02 October 2020 01:38:56</td>\n",
       "    </tr>\n",
       "  </tbody>\n",
       "</table>\n",
       "</div>"
      ],
      "text/plain": [
       "              Asset Options                       Opening_Quote  \\\n",
       "0           EUR USD     82%   1.17280\\n02 October 2020 17:39:55   \n",
       "1  Ethereum Classic     80%   5.08511\\n02 October 2020 17:25:47   \n",
       "2  Ethereum Classic     80%   5.08305\\n02 October 2020 15:15:59   \n",
       "3             Zcash     80%  64.50559\\n02 October 2020 01:42:38   \n",
       "4             Zcash     80%  64.67999\\n02 October 2020 01:38:50   \n",
       "\n",
       "                        Closing_Quote  Trade_USD  Income_USD  Profit_Loss  \\\n",
       "0   1.17285\\n02 October 2020 17:40:55          1        1.82         0.82   \n",
       "1   5.08660\\n02 October 2020 17:26:34          1        1.05         0.05   \n",
       "2   5.08845\\n02 October 2020 15:30:59          2        3.60         1.60   \n",
       "3  64.49942\\n02 October 2020 01:43:38          1        1.80         0.80   \n",
       "4  64.72243\\n02 October 2020 01:38:56          1        1.41         0.41   \n",
       "\n",
       "   Status Opening_Quote_USD        Opening_Quote_Time Closing_Quote_USD  \\\n",
       "0  Profit           1.17280  02 October 2020 17:39:55           1.17285   \n",
       "1  Profit           5.08511  02 October 2020 17:25:47           5.08660   \n",
       "2  Profit           5.08305  02 October 2020 15:15:59           5.08845   \n",
       "3  Profit          64.50559  02 October 2020 01:42:38          64.49942   \n",
       "4  Profit          64.67999  02 October 2020 01:38:50          64.72243   \n",
       "\n",
       "         Closing_Quote_Time  \n",
       "0  02 October 2020 17:40:55  \n",
       "1  02 October 2020 17:26:34  \n",
       "2  02 October 2020 15:30:59  \n",
       "3  02 October 2020 01:43:38  \n",
       "4  02 October 2020 01:38:56  "
      ]
     },
     "execution_count": 11,
     "metadata": {},
     "output_type": "execute_result"
    }
   ],
   "source": [
    "df.head()"
   ]
  },
  {
   "cell_type": "code",
   "execution_count": 12,
   "metadata": {},
   "outputs": [],
   "source": [
    "df.drop(columns=['Opening_Quote', 'Closing_Quote'], inplace = True)"
   ]
  },
  {
   "cell_type": "code",
   "execution_count": 13,
   "metadata": {},
   "outputs": [
    {
     "data": {
      "text/plain": [
       "Index(['Asset', 'Options', 'Trade_USD', 'Income_USD', 'Profit_Loss', 'Status',\n",
       "       'Opening_Quote_USD', 'Opening_Quote_Time', 'Closing_Quote_USD',\n",
       "       'Closing_Quote_Time'],\n",
       "      dtype='object')"
      ]
     },
     "execution_count": 13,
     "metadata": {},
     "output_type": "execute_result"
    }
   ],
   "source": [
    "df.columns"
   ]
  },
  {
   "cell_type": "code",
   "execution_count": 14,
   "metadata": {},
   "outputs": [],
   "source": [
    "df = df[['Asset', 'Options', 'Opening_Quote_USD', 'Opening_Quote_Time', 'Closing_Quote_USD', 'Closing_Quote_Time', 'Trade_USD', 'Income_USD', 'Profit_Loss', 'Status']]"
   ]
  },
  {
   "cell_type": "code",
   "execution_count": 15,
   "metadata": {},
   "outputs": [
    {
     "data": {
      "text/html": [
       "<div>\n",
       "<style scoped>\n",
       "    .dataframe tbody tr th:only-of-type {\n",
       "        vertical-align: middle;\n",
       "    }\n",
       "\n",
       "    .dataframe tbody tr th {\n",
       "        vertical-align: top;\n",
       "    }\n",
       "\n",
       "    .dataframe thead th {\n",
       "        text-align: right;\n",
       "    }\n",
       "</style>\n",
       "<table border=\"1\" class=\"dataframe\">\n",
       "  <thead>\n",
       "    <tr style=\"text-align: right;\">\n",
       "      <th></th>\n",
       "      <th>Asset</th>\n",
       "      <th>Options</th>\n",
       "      <th>Opening_Quote_USD</th>\n",
       "      <th>Opening_Quote_Time</th>\n",
       "      <th>Closing_Quote_USD</th>\n",
       "      <th>Closing_Quote_Time</th>\n",
       "      <th>Trade_USD</th>\n",
       "      <th>Income_USD</th>\n",
       "      <th>Profit_Loss</th>\n",
       "      <th>Status</th>\n",
       "    </tr>\n",
       "  </thead>\n",
       "  <tbody>\n",
       "    <tr>\n",
       "      <td>0</td>\n",
       "      <td>EUR USD</td>\n",
       "      <td>82%</td>\n",
       "      <td>1.17280</td>\n",
       "      <td>02 October 2020 17:39:55</td>\n",
       "      <td>1.17285</td>\n",
       "      <td>02 October 2020 17:40:55</td>\n",
       "      <td>1</td>\n",
       "      <td>1.82</td>\n",
       "      <td>0.82</td>\n",
       "      <td>Profit</td>\n",
       "    </tr>\n",
       "    <tr>\n",
       "      <td>1</td>\n",
       "      <td>Ethereum Classic</td>\n",
       "      <td>80%</td>\n",
       "      <td>5.08511</td>\n",
       "      <td>02 October 2020 17:25:47</td>\n",
       "      <td>5.08660</td>\n",
       "      <td>02 October 2020 17:26:34</td>\n",
       "      <td>1</td>\n",
       "      <td>1.05</td>\n",
       "      <td>0.05</td>\n",
       "      <td>Profit</td>\n",
       "    </tr>\n",
       "    <tr>\n",
       "      <td>2</td>\n",
       "      <td>Ethereum Classic</td>\n",
       "      <td>80%</td>\n",
       "      <td>5.08305</td>\n",
       "      <td>02 October 2020 15:15:59</td>\n",
       "      <td>5.08845</td>\n",
       "      <td>02 October 2020 15:30:59</td>\n",
       "      <td>2</td>\n",
       "      <td>3.60</td>\n",
       "      <td>1.60</td>\n",
       "      <td>Profit</td>\n",
       "    </tr>\n",
       "    <tr>\n",
       "      <td>3</td>\n",
       "      <td>Zcash</td>\n",
       "      <td>80%</td>\n",
       "      <td>64.50559</td>\n",
       "      <td>02 October 2020 01:42:38</td>\n",
       "      <td>64.49942</td>\n",
       "      <td>02 October 2020 01:43:38</td>\n",
       "      <td>1</td>\n",
       "      <td>1.80</td>\n",
       "      <td>0.80</td>\n",
       "      <td>Profit</td>\n",
       "    </tr>\n",
       "    <tr>\n",
       "      <td>4</td>\n",
       "      <td>Zcash</td>\n",
       "      <td>80%</td>\n",
       "      <td>64.67999</td>\n",
       "      <td>02 October 2020 01:38:50</td>\n",
       "      <td>64.72243</td>\n",
       "      <td>02 October 2020 01:38:56</td>\n",
       "      <td>1</td>\n",
       "      <td>1.41</td>\n",
       "      <td>0.41</td>\n",
       "      <td>Profit</td>\n",
       "    </tr>\n",
       "    <tr>\n",
       "      <td>...</td>\n",
       "      <td>...</td>\n",
       "      <td>...</td>\n",
       "      <td>...</td>\n",
       "      <td>...</td>\n",
       "      <td>...</td>\n",
       "      <td>...</td>\n",
       "      <td>...</td>\n",
       "      <td>...</td>\n",
       "      <td>...</td>\n",
       "      <td>...</td>\n",
       "    </tr>\n",
       "    <tr>\n",
       "      <td>2281</td>\n",
       "      <td>Ethereum Classic</td>\n",
       "      <td>0.8</td>\n",
       "      <td>3.82741</td>\n",
       "      <td>23 November 2019 14:16:43</td>\n",
       "      <td>3.83066</td>\n",
       "      <td>23 November 2019 14:25:43</td>\n",
       "      <td>10</td>\n",
       "      <td>18.00</td>\n",
       "      <td>8.00</td>\n",
       "      <td>Profit</td>\n",
       "    </tr>\n",
       "    <tr>\n",
       "      <td>2282</td>\n",
       "      <td>Ethereum Classic</td>\n",
       "      <td>0.8</td>\n",
       "      <td>3.86514</td>\n",
       "      <td>23 November 2019 13:40:50</td>\n",
       "      <td>3.86305</td>\n",
       "      <td>23 November 2019 13:49:50</td>\n",
       "      <td>6</td>\n",
       "      <td>10.80</td>\n",
       "      <td>4.80</td>\n",
       "      <td>Profit</td>\n",
       "    </tr>\n",
       "    <tr>\n",
       "      <td>2283</td>\n",
       "      <td>Ethereum Classic</td>\n",
       "      <td>0.8</td>\n",
       "      <td>3.82321</td>\n",
       "      <td>23 November 2019 12:59:41</td>\n",
       "      <td>3.85393</td>\n",
       "      <td>23 November 2019 13:08:41</td>\n",
       "      <td>4</td>\n",
       "      <td>7.20</td>\n",
       "      <td>3.20</td>\n",
       "      <td>Profit</td>\n",
       "    </tr>\n",
       "    <tr>\n",
       "      <td>2284</td>\n",
       "      <td>Ethereum Classic</td>\n",
       "      <td>0.8</td>\n",
       "      <td>3.87457</td>\n",
       "      <td>23 November 2019 12:34:19</td>\n",
       "      <td>3.87024</td>\n",
       "      <td>23 November 2019 12:43:19</td>\n",
       "      <td>3</td>\n",
       "      <td>5.40</td>\n",
       "      <td>2.40</td>\n",
       "      <td>Profit</td>\n",
       "    </tr>\n",
       "    <tr>\n",
       "      <td>2285</td>\n",
       "      <td>Ethereum Classic</td>\n",
       "      <td>0.8</td>\n",
       "      <td>3.86811</td>\n",
       "      <td>23 November 2019 12:04:25</td>\n",
       "      <td>3.86684</td>\n",
       "      <td>23 November 2019 12:13:25</td>\n",
       "      <td>3</td>\n",
       "      <td>5.40</td>\n",
       "      <td>2.40</td>\n",
       "      <td>Profit</td>\n",
       "    </tr>\n",
       "  </tbody>\n",
       "</table>\n",
       "<p>2286 rows × 10 columns</p>\n",
       "</div>"
      ],
      "text/plain": [
       "                 Asset Options Opening_Quote_USD         Opening_Quote_Time  \\\n",
       "0              EUR USD     82%           1.17280   02 October 2020 17:39:55   \n",
       "1     Ethereum Classic     80%           5.08511   02 October 2020 17:25:47   \n",
       "2     Ethereum Classic     80%           5.08305   02 October 2020 15:15:59   \n",
       "3                Zcash     80%          64.50559   02 October 2020 01:42:38   \n",
       "4                Zcash     80%          64.67999   02 October 2020 01:38:50   \n",
       "...                ...     ...               ...                        ...   \n",
       "2281  Ethereum Classic     0.8           3.82741  23 November 2019 14:16:43   \n",
       "2282  Ethereum Classic     0.8           3.86514  23 November 2019 13:40:50   \n",
       "2283  Ethereum Classic     0.8           3.82321  23 November 2019 12:59:41   \n",
       "2284  Ethereum Classic     0.8           3.87457  23 November 2019 12:34:19   \n",
       "2285  Ethereum Classic     0.8           3.86811  23 November 2019 12:04:25   \n",
       "\n",
       "     Closing_Quote_USD         Closing_Quote_Time  Trade_USD  Income_USD  \\\n",
       "0              1.17285   02 October 2020 17:40:55          1        1.82   \n",
       "1              5.08660   02 October 2020 17:26:34          1        1.05   \n",
       "2              5.08845   02 October 2020 15:30:59          2        3.60   \n",
       "3             64.49942   02 October 2020 01:43:38          1        1.80   \n",
       "4             64.72243   02 October 2020 01:38:56          1        1.41   \n",
       "...                ...                        ...        ...         ...   \n",
       "2281           3.83066  23 November 2019 14:25:43         10       18.00   \n",
       "2282           3.86305  23 November 2019 13:49:50          6       10.80   \n",
       "2283           3.85393  23 November 2019 13:08:41          4        7.20   \n",
       "2284           3.87024  23 November 2019 12:43:19          3        5.40   \n",
       "2285           3.86684  23 November 2019 12:13:25          3        5.40   \n",
       "\n",
       "      Profit_Loss  Status  \n",
       "0            0.82  Profit  \n",
       "1            0.05  Profit  \n",
       "2            1.60  Profit  \n",
       "3            0.80  Profit  \n",
       "4            0.41  Profit  \n",
       "...           ...     ...  \n",
       "2281         8.00  Profit  \n",
       "2282         4.80  Profit  \n",
       "2283         3.20  Profit  \n",
       "2284         2.40  Profit  \n",
       "2285         2.40  Profit  \n",
       "\n",
       "[2286 rows x 10 columns]"
      ]
     },
     "execution_count": 15,
     "metadata": {},
     "output_type": "execute_result"
    }
   ],
   "source": [
    "df"
   ]
  },
  {
   "cell_type": "code",
   "execution_count": 16,
   "metadata": {},
   "outputs": [
    {
     "data": {
      "text/plain": [
       "array(['82%', '80%', '32%', '71%', '77%', '78%', '79%', '70%', '76%',\n",
       "       '75%', '66%', '67%', '84%', '0.84', '0.82', '0.8', '0.7', '0.6',\n",
       "       '0.73', '0.48', '0.79', '0.77', '0.63', '0.74', '1', '0.65',\n",
       "       '0.99', '0.55', '0.51', '0.62', '0.2', '0.76', '0.75', '0.5',\n",
       "       '0.42', '0.43', '0.22', '0.4', '0.46', '0.54', '0.71', '0.1',\n",
       "       '0.32', '0.49', '0.72', '0.78', '0.98', '0.25', '0.35', '0.19',\n",
       "       '0.26', '0.64', '0.61', '0.85', '0.68', '0.3', '0.92', '0.91',\n",
       "       '0.88', '0.81', '0.12', '0.9', '0.87', '0.67', '0.56', '0.38',\n",
       "       '0.69', '0.33', '0.31', '0.57', '0.58', '0.44', '0.53', '0.66',\n",
       "       '0.52', '0.41', '0.45'], dtype=object)"
      ]
     },
     "execution_count": 16,
     "metadata": {},
     "output_type": "execute_result"
    }
   ],
   "source": [
    "df.Options.unique()"
   ]
  },
  {
   "cell_type": "code",
   "execution_count": 17,
   "metadata": {},
   "outputs": [],
   "source": [
    "df.Options = df.Options.str.replace('%', '')"
   ]
  },
  {
   "cell_type": "code",
   "execution_count": 18,
   "metadata": {},
   "outputs": [
    {
     "data": {
      "text/plain": [
       "array(['82', '80', '32', '71', '77', '78', '79', '70', '76', '75', '66',\n",
       "       '67', '84', '0.84', '0.82', '0.8', '0.7', '0.6', '0.73', '0.48',\n",
       "       '0.79', '0.77', '0.63', '0.74', '1', '0.65', '0.99', '0.55',\n",
       "       '0.51', '0.62', '0.2', '0.76', '0.75', '0.5', '0.42', '0.43',\n",
       "       '0.22', '0.4', '0.46', '0.54', '0.71', '0.1', '0.32', '0.49',\n",
       "       '0.72', '0.78', '0.98', '0.25', '0.35', '0.19', '0.26', '0.64',\n",
       "       '0.61', '0.85', '0.68', '0.3', '0.92', '0.91', '0.88', '0.81',\n",
       "       '0.12', '0.9', '0.87', '0.67', '0.56', '0.38', '0.69', '0.33',\n",
       "       '0.31', '0.57', '0.58', '0.44', '0.53', '0.66', '0.52', '0.41',\n",
       "       '0.45'], dtype=object)"
      ]
     },
     "execution_count": 18,
     "metadata": {},
     "output_type": "execute_result"
    }
   ],
   "source": [
    "df.Options.unique()"
   ]
  },
  {
   "cell_type": "code",
   "execution_count": 19,
   "metadata": {},
   "outputs": [],
   "source": [
    "df.Options = df.Options.astype(float)"
   ]
  },
  {
   "cell_type": "code",
   "execution_count": 20,
   "metadata": {
    "scrolled": false
   },
   "outputs": [
    {
     "data": {
      "text/plain": [
       "array([82.  , 80.  , 32.  , 71.  , 77.  , 78.  , 79.  , 70.  , 76.  ,\n",
       "       75.  , 66.  , 67.  , 84.  ,  0.84,  0.82,  0.8 ,  0.7 ,  0.6 ,\n",
       "        0.73,  0.48,  0.79,  0.77,  0.63,  0.74,  1.  ,  0.65,  0.99,\n",
       "        0.55,  0.51,  0.62,  0.2 ,  0.76,  0.75,  0.5 ,  0.42,  0.43,\n",
       "        0.22,  0.4 ,  0.46,  0.54,  0.71,  0.1 ,  0.32,  0.49,  0.72,\n",
       "        0.78,  0.98,  0.25,  0.35,  0.19,  0.26,  0.64,  0.61,  0.85,\n",
       "        0.68,  0.3 ,  0.92,  0.91,  0.88,  0.81,  0.12,  0.9 ,  0.87,\n",
       "        0.67,  0.56,  0.38,  0.69,  0.33,  0.31,  0.57,  0.58,  0.44,\n",
       "        0.53,  0.66,  0.52,  0.41,  0.45])"
      ]
     },
     "execution_count": 20,
     "metadata": {},
     "output_type": "execute_result"
    }
   ],
   "source": [
    "df.Options.unique()"
   ]
  },
  {
   "cell_type": "code",
   "execution_count": 21,
   "metadata": {},
   "outputs": [],
   "source": [
    "df.Options.mask(df.Options <= 1.0, (100 * df.Options), inplace = True)"
   ]
  },
  {
   "cell_type": "code",
   "execution_count": 22,
   "metadata": {
    "scrolled": false
   },
   "outputs": [
    {
     "data": {
      "text/plain": [
       "array([ 82.,  80.,  32.,  71.,  77.,  78.,  79.,  70.,  76.,  75.,  66.,\n",
       "        67.,  84.,  60.,  73.,  48.,  63.,  74., 100.,  65.,  99.,  55.,\n",
       "        51.,  62.,  20.,  50.,  42.,  43.,  22.,  40.,  46.,  54.,  10.,\n",
       "        49.,  72.,  98.,  25.,  35.,  19.,  26.,  64.,  61.,  85.,  68.,\n",
       "        30.,  92.,  91.,  88.,  81.,  12.,  90.,  87.,  56.,  38.,  69.,\n",
       "        33.,  31.,  57.,  58.,  44.,  53.,  52.,  41.,  45.])"
      ]
     },
     "execution_count": 22,
     "metadata": {},
     "output_type": "execute_result"
    }
   ],
   "source": [
    "df.Options.unique()"
   ]
  },
  {
   "cell_type": "code",
   "execution_count": 23,
   "metadata": {},
   "outputs": [],
   "source": [
    "df.Options = df.Options.astype(int)"
   ]
  },
  {
   "cell_type": "code",
   "execution_count": 24,
   "metadata": {},
   "outputs": [
    {
     "data": {
      "text/plain": [
       "array([ 82,  80,  32,  71,  77,  78,  79,  70,  76,  75,  66,  67,  84,\n",
       "        60,  73,  48,  63,  74, 100,  65,  99,  55,  51,  62,  20,  50,\n",
       "        42,  43,  22,  40,  46,  54,  10,  49,  72,  98,  25,  35,  19,\n",
       "        26,  64,  61,  85,  68,  30,  92,  91,  88,  81,  12,  90,  87,\n",
       "        56,  38,  69,  33,  31,  57,  44,  53,  52,  41,  45], dtype=int64)"
      ]
     },
     "execution_count": 24,
     "metadata": {},
     "output_type": "execute_result"
    }
   ],
   "source": [
    "df.Options.unique()"
   ]
  },
  {
   "cell_type": "code",
   "execution_count": 38,
   "metadata": {},
   "outputs": [
    {
     "data": {
      "text/plain": [
       "80     1437\n",
       "82      542\n",
       "100      32\n",
       "98       18\n",
       "20       17\n",
       "       ... \n",
       "31        1\n",
       "25        1\n",
       "92        1\n",
       "91        1\n",
       "99        1\n",
       "Name: Options, Length: 63, dtype: int64"
      ]
     },
     "execution_count": 38,
     "metadata": {},
     "output_type": "execute_result"
    }
   ],
   "source": []
  },
  {
   "cell_type": "code",
   "execution_count": null,
   "metadata": {},
   "outputs": [],
   "source": []
  },
  {
   "cell_type": "code",
   "execution_count": null,
   "metadata": {},
   "outputs": [],
   "source": []
  },
  {
   "cell_type": "code",
   "execution_count": null,
   "metadata": {},
   "outputs": [],
   "source": []
  },
  {
   "cell_type": "code",
   "execution_count": null,
   "metadata": {},
   "outputs": [],
   "source": []
  },
  {
   "cell_type": "code",
   "execution_count": null,
   "metadata": {},
   "outputs": [],
   "source": []
  },
  {
   "cell_type": "code",
   "execution_count": 25,
   "metadata": {},
   "outputs": [
    {
     "data": {
      "text/plain": [
       "Profit    51.443570\n",
       "Loss      45.625547\n",
       "Void       2.930884\n",
       "Name: Status, dtype: float64"
      ]
     },
     "execution_count": 25,
     "metadata": {},
     "output_type": "execute_result"
    }
   ],
   "source": [
    "df.Status.value_counts(normalize=True) * 100"
   ]
  },
  {
   "cell_type": "code",
   "execution_count": 26,
   "metadata": {},
   "outputs": [
    {
     "data": {
      "text/plain": [
       "<matplotlib.axes._subplots.AxesSubplot at 0x260fbb1b808>"
      ]
     },
     "execution_count": 26,
     "metadata": {},
     "output_type": "execute_result"
    },
    {
     "data": {
      "image/png": "[encoded data removed]",
      "text/plain": [
       "<Figure size 432x288 with 1 Axes>"
      ]
     },
     "metadata": {},
     "output_type": "display_data"
    }
   ],
   "source": [
    "df.Status.value_counts().plot(kind='pie')"
   ]
  },
  {
   "cell_type": "code",
   "execution_count": 27,
   "metadata": {},
   "outputs": [
    {
     "data": {
      "text/plain": [
       "80     62.860892\n",
       "82     23.709536\n",
       "100     1.399825\n",
       "98      0.787402\n",
       "20      0.743657\n",
       "         ...    \n",
       "31      0.043745\n",
       "25      0.043745\n",
       "92      0.043745\n",
       "91      0.043745\n",
       "99      0.043745\n",
       "Name: Options, Length: 63, dtype: float64"
      ]
     },
     "execution_count": 27,
     "metadata": {},
     "output_type": "execute_result"
    }
   ],
   "source": [
    "df.Options.value_counts(normalize=True) * 100"
   ]
  },
  {
   "cell_type": "code",
   "execution_count": 28,
   "metadata": {},
   "outputs": [
    {
     "data": {
      "text/plain": [
       "0.00     811\n",
       "1.80     360\n",
       "1.82     202\n",
       "18.00     83\n",
       "3.60      56\n",
       "        ... \n",
       "0.40       1\n",
       "1.91       1\n",
       "19.80      1\n",
       "3.80       1\n",
       "3.12       1\n",
       "Name: Income_USD, Length: 280, dtype: int64"
      ]
     },
     "execution_count": 28,
     "metadata": {},
     "output_type": "execute_result"
    }
   ],
   "source": [
    "df.Income_USD.value_counts()"
   ]
  },
  {
   "cell_type": "code",
   "execution_count": 29,
   "metadata": {},
   "outputs": [
    {
     "data": {
      "text/plain": [
       "1     1576\n",
       "10     228\n",
       "2      203\n",
       "5       96\n",
       "3       88\n",
       "20      39\n",
       "15      19\n",
       "4       14\n",
       "30       7\n",
       "8        6\n",
       "6        5\n",
       "25       1\n",
       "9        1\n",
       "50       1\n",
       "40       1\n",
       "14       1\n",
       "Name: Trade_USD, dtype: int64"
      ]
     },
     "execution_count": 29,
     "metadata": {},
     "output_type": "execute_result"
    }
   ],
   "source": [
    "df.Trade_USD.value_counts()"
   ]
  },
  {
   "cell_type": "code",
   "execution_count": 30,
   "metadata": {},
   "outputs": [
    {
     "data": {
      "text/plain": [
       "<matplotlib.axes._subplots.AxesSubplot at 0x260fbaebfc8>"
      ]
     },
     "execution_count": 30,
     "metadata": {},
     "output_type": "execute_result"
    },
    {
     "data": {
      "image/png": "[encoded data removed]",
      "text/plain": [
       "<Figure size 432x288 with 1 Axes>"
      ]
     },
     "metadata": {
      "needs_background": "light"
     },
     "output_type": "display_data"
    }
   ],
   "source": [
    "df.Trade_USD.value_counts().plot(kind='bar')"
   ]
  },
  {
   "cell_type": "code",
   "execution_count": 31,
   "metadata": {},
   "outputs": [
    {
     "data": {
      "text/html": [
       "<div>\n",
       "<style scoped>\n",
       "    .dataframe tbody tr th:only-of-type {\n",
       "        vertical-align: middle;\n",
       "    }\n",
       "\n",
       "    .dataframe tbody tr th {\n",
       "        vertical-align: top;\n",
       "    }\n",
       "\n",
       "    .dataframe thead th {\n",
       "        text-align: right;\n",
       "    }\n",
       "</style>\n",
       "<table border=\"1\" class=\"dataframe\">\n",
       "  <thead>\n",
       "    <tr style=\"text-align: right;\">\n",
       "      <th></th>\n",
       "      <th>Asset</th>\n",
       "      <th>Options</th>\n",
       "      <th>Opening_Quote_USD</th>\n",
       "      <th>Opening_Quote_Time</th>\n",
       "      <th>Closing_Quote_USD</th>\n",
       "      <th>Closing_Quote_Time</th>\n",
       "      <th>Trade_USD</th>\n",
       "      <th>Income_USD</th>\n",
       "      <th>Profit_Loss</th>\n",
       "      <th>Status</th>\n",
       "    </tr>\n",
       "  </thead>\n",
       "  <tbody>\n",
       "    <tr>\n",
       "      <td>657</td>\n",
       "      <td>Ethereum Classic</td>\n",
       "      <td>80</td>\n",
       "      <td>12.18864</td>\n",
       "      <td>13 February 2020 03:29:08</td>\n",
       "      <td>12.18617</td>\n",
       "      <td>13 February 2020 03:29:44</td>\n",
       "      <td>30</td>\n",
       "      <td>11.7</td>\n",
       "      <td>-18.3</td>\n",
       "      <td>Loss</td>\n",
       "    </tr>\n",
       "    <tr>\n",
       "      <td>917</td>\n",
       "      <td>Basic Altcoin Index</td>\n",
       "      <td>80</td>\n",
       "      <td>5.95563</td>\n",
       "      <td>22 January 2020 03:21:22</td>\n",
       "      <td>5.95929</td>\n",
       "      <td>22 January 2020 03:22:22</td>\n",
       "      <td>30</td>\n",
       "      <td>0.0</td>\n",
       "      <td>-30.0</td>\n",
       "      <td>Loss</td>\n",
       "    </tr>\n",
       "    <tr>\n",
       "      <td>940</td>\n",
       "      <td>Ethereum Classic</td>\n",
       "      <td>80</td>\n",
       "      <td>8.71287</td>\n",
       "      <td>22 January 2020 01:20:48</td>\n",
       "      <td>8.72350</td>\n",
       "      <td>22 January 2020 01:29:48</td>\n",
       "      <td>30</td>\n",
       "      <td>54.0</td>\n",
       "      <td>24.0</td>\n",
       "      <td>Profit</td>\n",
       "    </tr>\n",
       "    <tr>\n",
       "      <td>1223</td>\n",
       "      <td>Ethereum Classic</td>\n",
       "      <td>80</td>\n",
       "      <td>5.39670</td>\n",
       "      <td>13 January 2020 18:04:36</td>\n",
       "      <td>5.40641</td>\n",
       "      <td>13 January 2020 18:13:36</td>\n",
       "      <td>30</td>\n",
       "      <td>54.0</td>\n",
       "      <td>24.0</td>\n",
       "      <td>Profit</td>\n",
       "    </tr>\n",
       "    <tr>\n",
       "      <td>1274</td>\n",
       "      <td>Ethereum Classic</td>\n",
       "      <td>10</td>\n",
       "      <td>5.52608</td>\n",
       "      <td>13 January 2020 04:37:08</td>\n",
       "      <td>5.52669</td>\n",
       "      <td>13 January 2020 04:38:08</td>\n",
       "      <td>30</td>\n",
       "      <td>33.0</td>\n",
       "      <td>3.0</td>\n",
       "      <td>Profit</td>\n",
       "    </tr>\n",
       "    <tr>\n",
       "      <td>1312</td>\n",
       "      <td>Ethereum Classic</td>\n",
       "      <td>76</td>\n",
       "      <td>5.65300</td>\n",
       "      <td>12 January 2020 03:35:14</td>\n",
       "      <td>5.58354</td>\n",
       "      <td>12 January 2020 03:44:14</td>\n",
       "      <td>30</td>\n",
       "      <td>0.0</td>\n",
       "      <td>-30.0</td>\n",
       "      <td>Loss</td>\n",
       "    </tr>\n",
       "    <tr>\n",
       "      <td>1319</td>\n",
       "      <td>Bitcoin</td>\n",
       "      <td>80</td>\n",
       "      <td>8156.726</td>\n",
       "      <td>12 January 2020 03:00:19</td>\n",
       "      <td>8156.724</td>\n",
       "      <td>12 January 2020 03:01:19</td>\n",
       "      <td>30</td>\n",
       "      <td>0.0</td>\n",
       "      <td>-30.0</td>\n",
       "      <td>Loss</td>\n",
       "    </tr>\n",
       "  </tbody>\n",
       "</table>\n",
       "</div>"
      ],
      "text/plain": [
       "                    Asset  Options Opening_Quote_USD  \\\n",
       "657      Ethereum Classic       80          12.18864   \n",
       "917   Basic Altcoin Index       80           5.95563   \n",
       "940      Ethereum Classic       80           8.71287   \n",
       "1223     Ethereum Classic       80           5.39670   \n",
       "1274     Ethereum Classic       10           5.52608   \n",
       "1312     Ethereum Classic       76           5.65300   \n",
       "1319              Bitcoin       80          8156.726   \n",
       "\n",
       "             Opening_Quote_Time Closing_Quote_USD         Closing_Quote_Time  \\\n",
       "657   13 February 2020 03:29:08          12.18617  13 February 2020 03:29:44   \n",
       "917    22 January 2020 03:21:22           5.95929   22 January 2020 03:22:22   \n",
       "940    22 January 2020 01:20:48           8.72350   22 January 2020 01:29:48   \n",
       "1223   13 January 2020 18:04:36           5.40641   13 January 2020 18:13:36   \n",
       "1274   13 January 2020 04:37:08           5.52669   13 January 2020 04:38:08   \n",
       "1312   12 January 2020 03:35:14           5.58354   12 January 2020 03:44:14   \n",
       "1319   12 January 2020 03:00:19          8156.724   12 January 2020 03:01:19   \n",
       "\n",
       "      Trade_USD  Income_USD  Profit_Loss  Status  \n",
       "657          30        11.7        -18.3    Loss  \n",
       "917          30         0.0        -30.0    Loss  \n",
       "940          30        54.0         24.0  Profit  \n",
       "1223         30        54.0         24.0  Profit  \n",
       "1274         30        33.0          3.0  Profit  \n",
       "1312         30         0.0        -30.0    Loss  \n",
       "1319         30         0.0        -30.0    Loss  "
      ]
     },
     "execution_count": 31,
     "metadata": {},
     "output_type": "execute_result"
    }
   ],
   "source": [
    "df[df.Trade_USD == 30]"
   ]
  },
  {
   "cell_type": "code",
   "execution_count": 32,
   "metadata": {},
   "outputs": [
    {
     "data": {
      "text/plain": [
       "count    2286.000000\n",
       "mean        2.769291\n",
       "std         6.024202\n",
       "min         0.000000\n",
       "25%         0.000000\n",
       "50%         1.260000\n",
       "75%         1.820000\n",
       "max        90.000000\n",
       "Name: Income_USD, dtype: float64"
      ]
     },
     "execution_count": 32,
     "metadata": {},
     "output_type": "execute_result"
    }
   ],
   "source": [
    "df.Income_USD.describe()"
   ]
  },
  {
   "cell_type": "code",
   "execution_count": 33,
   "metadata": {},
   "outputs": [
    {
     "data": {
      "text/plain": [
       "<matplotlib.axes._subplots.AxesSubplot at 0x260fbf6f108>"
      ]
     },
     "execution_count": 33,
     "metadata": {},
     "output_type": "execute_result"
    },
    {
     "data": {
      "image/png": "[encoded data removed]",
      "text/plain": [
       "<Figure size 432x288 with 1 Axes>"
      ]
     },
     "metadata": {
      "needs_background": "light"
     },
     "output_type": "display_data"
    }
   ],
   "source": [
    "df.Trade_USD.plot(kind=\"hist\")"
   ]
  },
  {
   "cell_type": "code",
   "execution_count": 34,
   "metadata": {},
   "outputs": [
    {
     "data": {
      "text/plain": [
       "<matplotlib.axes._subplots.AxesSubplot at 0x260fbfd0148>"
      ]
     },
     "execution_count": 34,
     "metadata": {},
     "output_type": "execute_result"
    },
    {
     "data": {
      "image/png": "[encoded data removed]",
      "text/plain": [
       "<Figure size 432x288 with 1 Axes>"
      ]
     },
     "metadata": {
      "needs_background": "light"
     },
     "output_type": "display_data"
    }
   ],
   "source": [
    "df.Profit_Loss.plot(kind=\"line\")"
   ]
  },
  {
   "cell_type": "code",
   "execution_count": 35,
   "metadata": {},
   "outputs": [
    {
     "data": {
      "text/plain": [
       "<seaborn.axisgrid.PairGrid at 0x260fc055b08>"
      ]
     },
     "execution_count": 35,
     "metadata": {},
     "output_type": "execute_result"
    },
    {
     "name": "stdout",
     "output_type": "stream",
     "text": [
      "Error in callback <function flush_figures at 0x00000260F92AF8B8> (for post_execute):\n"
     ]
    },
    {
     "name": "stderr",
     "output_type": "stream",
     "text": [
      "ERROR:root:Internal Python error in the inspect module.\n",
      "Below is the traceback from this internal error.\n",
      "\n"
     ]
    },
    {
     "name": "stdout",
     "output_type": "stream",
     "text": [
      "Traceback (most recent call last):\n",
      "  File \"D:\\Anaconda3\\lib\\site-packages\\IPython\\core\\events.py\", line 88, in trigger\n",
      "    func(*args, **kwargs)\n",
      "  File \"D:\\Anaconda3\\lib\\site-packages\\ipykernel\\pylab\\backend_inline.py\", line 117, in flush_figures\n",
      "    return show(True)\n",
      "  File \"D:\\Anaconda3\\lib\\site-packages\\ipykernel\\pylab\\backend_inline.py\", line 39, in show\n",
      "    metadata=_fetch_figure_metadata(figure_manager.canvas.figure)\n",
      "  File \"D:\\Anaconda3\\lib\\site-packages\\IPython\\core\\display.py\", line 306, in display\n",
      "    format_dict, md_dict = format(obj, include=include, exclude=exclude)\n",
      "  File \"D:\\Anaconda3\\lib\\site-packages\\IPython\\core\\formatters.py\", line 180, in format\n",
      "    data = formatter(obj)\n",
      "  File \"<D:\\Anaconda3\\lib\\site-packages\\decorator.py:decorator-gen-9>\", line 2, in __call__\n",
      "  File \"D:\\Anaconda3\\lib\\site-packages\\IPython\\core\\formatters.py\", line 224, in catch_format_error\n",
      "    r = method(self, *args, **kwargs)\n",
      "  File \"D:\\Anaconda3\\lib\\site-packages\\IPython\\core\\formatters.py\", line 341, in __call__\n",
      "    return printer(obj)\n",
      "  File \"D:\\Anaconda3\\lib\\site-packages\\IPython\\core\\pylabtools.py\", line 244, in <lambda>\n",
      "    png_formatter.for_type(Figure, lambda fig: print_figure(fig, 'png', **kwargs))\n",
      "  File \"D:\\Anaconda3\\lib\\site-packages\\IPython\\core\\pylabtools.py\", line 128, in print_figure\n",
      "    fig.canvas.print_figure(bytes_io, **kw)\n",
      "  File \"D:\\Anaconda3\\lib\\site-packages\\matplotlib\\backend_bases.py\", line 2056, in print_figure\n",
      "    **kwargs)\n",
      "  File \"D:\\Anaconda3\\lib\\site-packages\\matplotlib\\backends\\backend_agg.py\", line 527, in print_png\n",
      "    FigureCanvasAgg.draw(self)\n",
      "  File \"D:\\Anaconda3\\lib\\site-packages\\matplotlib\\backends\\backend_agg.py\", line 388, in draw\n",
      "    self.figure.draw(self.renderer)\n",
      "  File \"D:\\Anaconda3\\lib\\site-packages\\matplotlib\\artist.py\", line 38, in draw_wrapper\n",
      "    return draw(artist, renderer, *args, **kwargs)\n",
      "  File \"D:\\Anaconda3\\lib\\site-packages\\matplotlib\\figure.py\", line 1709, in draw\n",
      "    renderer, self, artists, self.suppressComposite)\n",
      "  File \"D:\\Anaconda3\\lib\\site-packages\\matplotlib\\image.py\", line 135, in _draw_list_compositing_images\n",
      "    a.draw(renderer)\n",
      "  File \"D:\\Anaconda3\\lib\\site-packages\\matplotlib\\artist.py\", line 38, in draw_wrapper\n",
      "    return draw(artist, renderer, *args, **kwargs)\n",
      "  File \"D:\\Anaconda3\\lib\\site-packages\\matplotlib\\axes\\_base.py\", line 2607, in draw\n",
      "    self._update_title_position(renderer)\n",
      "  File \"D:\\Anaconda3\\lib\\site-packages\\matplotlib\\axes\\_base.py\", line 2549, in _update_title_position\n",
      "    bb = ax.xaxis.get_tightbbox(renderer)\n",
      "  File \"D:\\Anaconda3\\lib\\site-packages\\matplotlib\\axis.py\", line 1162, in get_tightbbox\n",
      "    ticks_to_draw = self._update_ticks()\n",
      "  File \"D:\\Anaconda3\\lib\\site-packages\\matplotlib\\axis.py\", line 1080, in _update_ticks\n",
      "    major_labels = self.major.formatter.format_ticks(major_locs)\n",
      "  File \"D:\\Anaconda3\\lib\\site-packages\\matplotlib\\ticker.py\", line 259, in format_ticks\n",
      "    return [self(value, i) for i, value in enumerate(values)]\n",
      "  File \"D:\\Anaconda3\\lib\\site-packages\\matplotlib\\ticker.py\", line 259, in <listcomp>\n",
      "    return [self(value, i) for i, value in enumerate(values)]\n",
      "  File \"D:\\Anaconda3\\lib\\site-packages\\matplotlib\\category.py\", line 154, in __call__\n",
      "    for k, v in self._units.items()}\n",
      "  File \"D:\\Anaconda3\\lib\\site-packages\\matplotlib\\category.py\", line 154, in <dictcomp>\n",
      "    for k, v in self._units.items()}\n",
      "KeyboardInterrupt\n",
      "\n",
      "During handling of the above exception, another exception occurred:\n",
      "\n",
      "Traceback (most recent call last):\n",
      "  File \"D:\\Anaconda3\\lib\\site-packages\\IPython\\core\\interactiveshell.py\", line 2040, in showtraceback\n",
      "    stb = value._render_traceback_()\n",
      "AttributeError: 'KeyboardInterrupt' object has no attribute '_render_traceback_'\n",
      "\n",
      "During handling of the above exception, another exception occurred:\n",
      "\n",
      "Traceback (most recent call last):\n",
      "  File \"D:\\Anaconda3\\lib\\site-packages\\IPython\\core\\ultratb.py\", line 1101, in get_records\n",
      "    return _fixed_getinnerframes(etb, number_of_lines_of_context, tb_offset)\n",
      "  File \"D:\\Anaconda3\\lib\\site-packages\\IPython\\core\\ultratb.py\", line 319, in wrapped\n",
      "    return f(*args, **kwargs)\n",
      "  File \"D:\\Anaconda3\\lib\\site-packages\\IPython\\core\\ultratb.py\", line 353, in _fixed_getinnerframes\n",
      "    records = fix_frame_records_filenames(inspect.getinnerframes(etb, context))\n",
      "  File \"D:\\Anaconda3\\lib\\inspect.py\", line 1502, in getinnerframes\n",
      "    frameinfo = (tb.tb_frame,) + getframeinfo(tb, context)\n",
      "  File \"D:\\Anaconda3\\lib\\inspect.py\", line 1464, in getframeinfo\n",
      "    lines, lnum = findsource(frame)\n",
      "  File \"D:\\Anaconda3\\lib\\site-packages\\IPython\\core\\ultratb.py\", line 185, in findsource\n",
      "    lines = linecache.getlines(file, globals_dict)\n",
      "  File \"D:\\Anaconda3\\lib\\linecache.py\", line 47, in getlines\n",
      "    return updatecache(filename, module_globals)\n",
      "  File \"D:\\Anaconda3\\lib\\linecache.py\", line 136, in updatecache\n",
      "    with tokenize.open(fullname) as fp:\n",
      "  File \"D:\\Anaconda3\\lib\\tokenize.py\", line 449, in open\n",
      "    encoding, lines = detect_encoding(buffer.readline)\n",
      "  File \"D:\\Anaconda3\\lib\\tokenize.py\", line 418, in detect_encoding\n",
      "    first = read_or_stop()\n",
      "  File \"D:\\Anaconda3\\lib\\tokenize.py\", line 376, in read_or_stop\n",
      "    return readline()\n",
      "KeyboardInterrupt\n"
     ]
    },
    {
     "ename": "KeyboardInterrupt",
     "evalue": "",
     "output_type": "error",
     "traceback": [
      "\u001b[1;31m---------------------------------------------------------------------------\u001b[0m"
     ]
    }
   ],
   "source": [
    "sns.pairplot(df)"
   ]
  },
  {
   "cell_type": "code",
   "execution_count": 36,
   "metadata": {},
   "outputs": [
    {
     "data": {
      "text/html": [
       "<div>\n",
       "<style scoped>\n",
       "    .dataframe tbody tr th:only-of-type {\n",
       "        vertical-align: middle;\n",
       "    }\n",
       "\n",
       "    .dataframe tbody tr th {\n",
       "        vertical-align: top;\n",
       "    }\n",
       "\n",
       "    .dataframe thead th {\n",
       "        text-align: right;\n",
       "    }\n",
       "</style>\n",
       "<table border=\"1\" class=\"dataframe\">\n",
       "  <thead>\n",
       "    <tr style=\"text-align: right;\">\n",
       "      <th></th>\n",
       "      <th>Options</th>\n",
       "      <th>Trade_USD</th>\n",
       "      <th>Income_USD</th>\n",
       "      <th>Profit_Loss</th>\n",
       "    </tr>\n",
       "  </thead>\n",
       "  <tbody>\n",
       "    <tr>\n",
       "      <td>Options</td>\n",
       "      <td>1.000000</td>\n",
       "      <td>-0.043125</td>\n",
       "      <td>-0.027092</td>\n",
       "      <td>0.005018</td>\n",
       "    </tr>\n",
       "    <tr>\n",
       "      <td>Trade_USD</td>\n",
       "      <td>-0.043125</td>\n",
       "      <td>1.000000</td>\n",
       "      <td>0.728786</td>\n",
       "      <td>0.030429</td>\n",
       "    </tr>\n",
       "    <tr>\n",
       "      <td>Income_USD</td>\n",
       "      <td>-0.027092</td>\n",
       "      <td>0.728786</td>\n",
       "      <td>1.000000</td>\n",
       "      <td>0.706601</td>\n",
       "    </tr>\n",
       "    <tr>\n",
       "      <td>Profit_Loss</td>\n",
       "      <td>0.005018</td>\n",
       "      <td>0.030429</td>\n",
       "      <td>0.706601</td>\n",
       "      <td>1.000000</td>\n",
       "    </tr>\n",
       "  </tbody>\n",
       "</table>\n",
       "</div>"
      ],
      "text/plain": [
       "              Options  Trade_USD  Income_USD  Profit_Loss\n",
       "Options      1.000000  -0.043125   -0.027092     0.005018\n",
       "Trade_USD   -0.043125   1.000000    0.728786     0.030429\n",
       "Income_USD  -0.027092   0.728786    1.000000     0.706601\n",
       "Profit_Loss  0.005018   0.030429    0.706601     1.000000"
      ]
     },
     "execution_count": 36,
     "metadata": {},
     "output_type": "execute_result"
    }
   ],
   "source": [
    "df.corr()"
   ]
  },
  {
   "cell_type": "code",
   "execution_count": null,
   "metadata": {},
   "outputs": [],
   "source": []
  },
  {
   "cell_type": "code",
   "execution_count": null,
   "metadata": {},
   "outputs": [],
   "source": []
  },
  {
   "cell_type": "code",
   "execution_count": null,
   "metadata": {},
   "outputs": [],
   "source": []
  },
  {
   "cell_type": "code",
   "execution_count": null,
   "metadata": {},
   "outputs": [],
   "source": []
  },
  {
   "cell_type": "code",
   "execution_count": null,
   "metadata": {},
   "outputs": [],
   "source": []
  },
  {
   "cell_type": "code",
   "execution_count": null,
   "metadata": {},
   "outputs": [],
   "source": []
  }
 ],
 "metadata": {
  "kernelspec": {
   "display_name": "Python 3",
   "language": "python",
   "name": "python3"
  },
  "language_info": {
   "codemirror_mode": {
    "name": "ipython",
    "version": 3
   },
   "file_extension": ".py",
   "mimetype": "text/x-python",
   "name": "python",
   "nbconvert_exporter": "python",
   "pygments_lexer": "ipython3",
   "version": "3.7.4"
  }
 },
 "nbformat": 4,
 "nbformat_minor": 2
}
