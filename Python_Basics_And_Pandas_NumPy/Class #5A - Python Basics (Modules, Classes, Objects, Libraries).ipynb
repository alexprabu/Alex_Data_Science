{
 "cells": [
  {
   "cell_type": "markdown",
   "metadata": {},
   "source": [
    "# Modules"
   ]
  },
  {
   "cell_type": "code",
   "execution_count": 25,
   "metadata": {},
   "outputs": [],
   "source": [
    "# created new file called addsub and it has functions add, sub (refer the files)"
   ]
  },
  {
   "cell_type": "code",
   "execution_count": 18,
   "metadata": {},
   "outputs": [],
   "source": [
    "import addsub"
   ]
  },
  {
   "cell_type": "code",
   "execution_count": 21,
   "metadata": {},
   "outputs": [
    {
     "data": {
      "text/plain": [
       "60"
      ]
     },
     "execution_count": 21,
     "metadata": {},
     "output_type": "execute_result"
    }
   ],
   "source": [
    "addsub.add(56,4)"
   ]
  },
  {
   "cell_type": "code",
   "execution_count": 22,
   "metadata": {},
   "outputs": [
    {
     "data": {
      "text/plain": [
       "52"
      ]
     },
     "execution_count": 22,
     "metadata": {},
     "output_type": "execute_result"
    }
   ],
   "source": [
    "from addsub import sub\n",
    "sub(56,4)"
   ]
  },
  {
   "cell_type": "markdown",
   "metadata": {},
   "source": [
    "above is the recommended way as this will import only necessary things. But in just import it will import all the things available in that module"
   ]
  },
  {
   "cell_type": "markdown",
   "metadata": {},
   "source": [
    "# Class and Object"
   ]
  },
  {
   "cell_type": "code",
   "execution_count": 8,
   "metadata": {},
   "outputs": [],
   "source": [
    "# Building and prototype example"
   ]
  },
  {
   "cell_type": "code",
   "execution_count": 4,
   "metadata": {},
   "outputs": [],
   "source": [
    "class test:\n",
    "    def __init__(self,x)\n",
    "        self.training = \"\"\n",
    "    training = \"Inceptez\"\n",
    "    def welcome(self):\n",
    "        print(\"Hi Wecome to the \", self.training)"
   ]
  },
  {
   "cell_type": "code",
   "execution_count": 5,
   "metadata": {},
   "outputs": [],
   "source": [
    "obj = test()"
   ]
  },
  {
   "cell_type": "code",
   "execution_count": 6,
   "metadata": {},
   "outputs": [
    {
     "data": {
      "text/plain": [
       "'Inceptez'"
      ]
     },
     "execution_count": 6,
     "metadata": {},
     "output_type": "execute_result"
    }
   ],
   "source": [
    "obj.training"
   ]
  },
  {
   "cell_type": "markdown",
   "metadata": {},
   "source": [
    "# Libraries"
   ]
  },
  {
   "cell_type": "markdown",
   "metadata": {},
   "source": [
    "os library\n",
    "    \n",
    "    \n",
    "        to get system related info or use system related operations"
   ]
  },
  {
   "cell_type": "code",
   "execution_count": 11,
   "metadata": {},
   "outputs": [],
   "source": [
    "import os"
   ]
  },
  {
   "cell_type": "code",
   "execution_count": 12,
   "metadata": {},
   "outputs": [
    {
     "data": {
      "text/plain": [
       "'C:\\\\Users\\\\Alex\\\\DataScience\\\\data_science_course\\\\PythonBasics'"
      ]
     },
     "execution_count": 12,
     "metadata": {},
     "output_type": "execute_result"
    }
   ],
   "source": [
    "os.getcwd()"
   ]
  },
  {
   "cell_type": "code",
   "execution_count": 13,
   "metadata": {},
   "outputs": [
    {
     "data": {
      "text/plain": [
       "['.ipynb_checkpoints',\n",
       " 'addsub.py',\n",
       " 'Assignment-1.ipynb',\n",
       " 'Class #0 - Introduction Session.ipynb',\n",
       " 'Class #3 - Python Basics (IF-ELSE, WHILE, FOR LOOP, FUNCTIONS).ipynb',\n",
       " 'Class #4 - Python Basics (RECURSIVE, LAMBDA, MAP, REDUCE functions, LIST COMPREHENSION, EXCEPTIONS).ipynb',\n",
       " 'Class #5 - Python Basics.ipynb',\n",
       " 'Python Functions.ipynb',\n",
       " 'Python_Flow_Control.ipynb',\n",
       " 'Python_Introduction.ipynb',\n",
       " 'Rough_Work.ipynb']"
      ]
     },
     "execution_count": 13,
     "metadata": {},
     "output_type": "execute_result"
    }
   ],
   "source": [
    "os.listdir()"
   ]
  },
  {
   "cell_type": "code",
   "execution_count": 14,
   "metadata": {},
   "outputs": [],
   "source": [
    "os.mkdir(\"test\")"
   ]
  },
  {
   "cell_type": "code",
   "execution_count": 15,
   "metadata": {},
   "outputs": [
    {
     "data": {
      "text/plain": [
       "['.ipynb_checkpoints',\n",
       " 'addsub.py',\n",
       " 'Assignment-1.ipynb',\n",
       " 'Class #0 - Introduction Session.ipynb',\n",
       " 'Class #3 - Python Basics (IF-ELSE, WHILE, FOR LOOP, FUNCTIONS).ipynb',\n",
       " 'Class #4 - Python Basics (RECURSIVE, LAMBDA, MAP, REDUCE functions, LIST COMPREHENSION, EXCEPTIONS).ipynb',\n",
       " 'Class #5 - Python Basics.ipynb',\n",
       " 'Python Functions.ipynb',\n",
       " 'Python_Flow_Control.ipynb',\n",
       " 'Python_Introduction.ipynb',\n",
       " 'Rough_Work.ipynb',\n",
       " 'test']"
      ]
     },
     "execution_count": 15,
     "metadata": {},
     "output_type": "execute_result"
    }
   ],
   "source": [
    "os.listdir()"
   ]
  },
  {
   "cell_type": "code",
   "execution_count": 16,
   "metadata": {},
   "outputs": [],
   "source": [
    "os.rename(\"test\",\"test123\")"
   ]
  },
  {
   "cell_type": "code",
   "execution_count": 17,
   "metadata": {},
   "outputs": [
    {
     "data": {
      "text/plain": [
       "['.ipynb_checkpoints',\n",
       " 'addsub.py',\n",
       " 'Assignment-1.ipynb',\n",
       " 'Class #0 - Introduction Session.ipynb',\n",
       " 'Class #3 - Python Basics (IF-ELSE, WHILE, FOR LOOP, FUNCTIONS).ipynb',\n",
       " 'Class #4 - Python Basics (RECURSIVE, LAMBDA, MAP, REDUCE functions, LIST COMPREHENSION, EXCEPTIONS).ipynb',\n",
       " 'Class #5 - Python Basics.ipynb',\n",
       " 'Python Functions.ipynb',\n",
       " 'Python_Flow_Control.ipynb',\n",
       " 'Python_Introduction.ipynb',\n",
       " 'Rough_Work.ipynb',\n",
       " 'test123']"
      ]
     },
     "execution_count": 17,
     "metadata": {},
     "output_type": "execute_result"
    }
   ],
   "source": [
    "os.listdir()"
   ]
  }
 ],
 "metadata": {
  "kernelspec": {
   "display_name": "Python 3",
   "language": "python",
   "name": "python3"
  },
  "language_info": {
   "codemirror_mode": {
    "name": "ipython",
    "version": 3
   },
   "file_extension": ".py",
   "mimetype": "text/x-python",
   "name": "python",
   "nbconvert_exporter": "python",
   "pygments_lexer": "ipython3",
   "version": "3.7.1"
  }
 },
 "nbformat": 4,
 "nbformat_minor": 2
}
