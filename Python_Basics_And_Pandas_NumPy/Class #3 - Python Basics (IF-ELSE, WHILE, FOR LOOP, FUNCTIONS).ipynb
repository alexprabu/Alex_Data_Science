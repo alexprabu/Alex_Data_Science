{
 "cells": [
  {
   "cell_type": "markdown",
   "metadata": {},
   "source": [
    "# Exercise 1"
   ]
  },
  {
   "cell_type": "code",
   "execution_count": 2,
   "metadata": {},
   "outputs": [
    {
     "name": "stdout",
     "output_type": "stream",
     "text": [
      "Enter the size of list: 5\n",
      "1\n",
      "32\n",
      "33\n",
      "21\n",
      "2\n",
      "Sum:  89\n"
     ]
    }
   ],
   "source": [
    "size = int(input(\"Enter the size of list: \"))\n",
    "li = []\n",
    "\n",
    "for i in range(0, size):\n",
    "    val = int(input())\n",
    "    li.append(val)\n",
    "\n",
    "summ = 0\n",
    "for x in li:\n",
    "    summ = summ + x\n",
    "\n",
    "print(\"Sum: \",summ)"
   ]
  },
  {
   "cell_type": "markdown",
   "metadata": {},
   "source": [
    "# Exercise 2"
   ]
  },
  {
   "cell_type": "code",
   "execution_count": 7,
   "metadata": {},
   "outputs": [
    {
     "name": "stdout",
     "output_type": "stream",
     "text": [
      "Enter the number: 4\n",
      "24\n"
     ]
    }
   ],
   "source": [
    "# Factorial\n",
    "\n",
    "n = int(input(\"Enter the number: \"))\n",
    "f = 1\n",
    "\n",
    "while (n >= 1):\n",
    "    f = f * n\n",
    "    n-=1\n",
    "    \n",
    "print(f)"
   ]
  },
  {
   "cell_type": "code",
   "execution_count": null,
   "metadata": {},
   "outputs": [],
   "source": []
  },
  {
   "cell_type": "markdown",
   "metadata": {},
   "source": [
    "# Exercise 3"
   ]
  },
  {
   "cell_type": "code",
   "execution_count": 8,
   "metadata": {},
   "outputs": [
    {
     "name": "stdout",
     "output_type": "stream",
     "text": [
      "Enter number 1: 5\n",
      "Enter number 2: 4\n",
      " 1. Add\n",
      " 2. Multiply \n",
      " 3. Substract \n",
      " 4. Divide \n",
      " 5. Modulo \n",
      " 6. Exit\n",
      "Enter your choice: 5\n",
      "1\n",
      " 1. Add\n",
      " 2. Multiply \n",
      " 3. Substract \n",
      " 4. Divide \n",
      " 5. Modulo \n",
      " 6. Exit\n",
      "Enter your choice: 4\n",
      "1.25\n",
      " 1. Add\n",
      " 2. Multiply \n",
      " 3. Substract \n",
      " 4. Divide \n",
      " 5. Modulo \n",
      " 6. Exit\n",
      "Enter your choice: 3\n",
      "1\n",
      " 1. Add\n",
      " 2. Multiply \n",
      " 3. Substract \n",
      " 4. Divide \n",
      " 5. Modulo \n",
      " 6. Exit\n",
      "Enter your choice: 2\n",
      "20\n",
      " 1. Add\n",
      " 2. Multiply \n",
      " 3. Substract \n",
      " 4. Divide \n",
      " 5. Modulo \n",
      " 6. Exit\n",
      "Enter your choice: 1\n",
      "9\n",
      " 1. Add\n",
      " 2. Multiply \n",
      " 3. Substract \n",
      " 4. Divide \n",
      " 5. Modulo \n",
      " 6. Exit\n",
      "Enter your choice: 9\n"
     ]
    }
   ],
   "source": [
    "def add(a, b):\n",
    "    print(a+b)\n",
    "def multiply(a, b):\n",
    "    print(a*b)\n",
    "def sub(a, b):\n",
    "    print(a-b)\n",
    "def divide(a, b):\n",
    "    print(a/b)\n",
    "def modulo(a, b):\n",
    "    print(a%b)\n",
    "\n",
    "a = int(input(\"Enter number 1: \"))\n",
    "b = int(input(\"Enter number 2: \"))\n",
    "while(True):\n",
    "    print(\" 1. Add\\n 2. Multiply \\n 3. Substract \\n 4. Divide \\n 5. Modulo \\n 6. Exit\")\n",
    "    choice = int(input(\"Enter your choice: \"))\n",
    "    if (choice == 1):\n",
    "        add(a,b)\n",
    "    elif (choice == 2):\n",
    "        multiply(a,b)\n",
    "    elif (choice == 3):\n",
    "        sub(a,b)\n",
    "    elif (choice == 4):\n",
    "        divide(a,b)\n",
    "    elif (choice == 5):\n",
    "        modulo(a,b)\n",
    "    else:\n",
    "        break\n"
   ]
  },
  {
   "cell_type": "markdown",
   "metadata": {},
   "source": [
    "# Exercise 4"
   ]
  },
  {
   "cell_type": "markdown",
   "metadata": {},
   "source": [
    "# Incomplete\n",
    "\n",
    "get input of a list of numbers, and a int value n.\n",
    "find the top n values from the list"
   ]
  },
  {
   "cell_type": "markdown",
   "metadata": {},
   "source": [
    "# Exercise 5"
   ]
  },
  {
   "cell_type": "code",
   "execution_count": 3,
   "metadata": {},
   "outputs": [],
   "source": [
    "\n",
    "vowels = ['a', 'e', 'i', 'o', 'u']\n"
   ]
  },
  {
   "cell_type": "code",
   "execution_count": null,
   "metadata": {},
   "outputs": [],
   "source": []
  },
  {
   "cell_type": "code",
   "execution_count": null,
   "metadata": {},
   "outputs": [],
   "source": []
  }
 ],
 "metadata": {
  "kernelspec": {
   "display_name": "Python 3",
   "language": "python",
   "name": "python3"
  },
  "language_info": {
   "codemirror_mode": {
    "name": "ipython",
    "version": 3
   },
   "file_extension": ".py",
   "mimetype": "text/x-python",
   "name": "python",
   "nbconvert_exporter": "python",
   "pygments_lexer": "ipython3",
   "version": "3.7.1"
  }
 },
 "nbformat": 4,
 "nbformat_minor": 2
}
