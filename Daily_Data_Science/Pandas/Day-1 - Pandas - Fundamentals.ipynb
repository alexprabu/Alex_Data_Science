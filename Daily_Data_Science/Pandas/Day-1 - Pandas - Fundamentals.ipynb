{
 "cells": [
  {
   "cell_type": "markdown",
   "metadata": {},
   "source": [
    "# Pandas Fundamentals\n",
    "\n",
    "\n",
    "For notes, please refer Melcose sir's notes (word document)\n",
    "\n",
    "#### IMPORTANT: Read \"Day-1_Pandas_Fundamentals.pdf\" along with this notebook (KEEP THIS COMMENT IN UPCOMING NOTEBOOKS ALSO)"
   ]
  },
  {
   "cell_type": "markdown",
   "metadata": {},
   "source": [
    "PANDAS - <b>PAN</b>EL <b>DA</b>TA\n",
    "\n",
    "High performance, flexible tool for Analysis of data\n",
    "\n"
   ]
  },
  {
   "cell_type": "markdown",
   "metadata": {},
   "source": [
    "####  Pandas Data Structure:\n",
    "\n",
    "1. Series\n",
    "2. Data Frame\n",
    "3. Panel\n",
    "\n",
    "These 3 data structures are built on top of NumPy Arrays, which means they are fast\n",
    "\n",
    "    1. Series - 1D Array, Homogeneous, Labeled, Size Immutable, the axis labels are collectively called Index\n",
    "    2. DataFrame - 2D Array, Hetrogeneous, Labeled, Size Mutable, Values of Data Mutable, Tabular Format, Data is represented in Rows and Columns\n",
    "    3. Panel - 3D Array, Hetrogeneous, Labeled, Size Mutable, Values of Data Mutable\n",
    "\n",
    "Panel ---> DataFrame ---> Series\n",
    "\n",
    "\n",
    "Panel is a container of DataFrames, DataFrame is a container of Series"
   ]
  },
  {
   "cell_type": "code",
   "execution_count": 1,
   "metadata": {},
   "outputs": [],
   "source": [
    "import pandas as pd\n",
    "import numpy as np\n",
    "import matplotlib.pyplot as plt"
   ]
  },
  {
   "cell_type": "code",
   "execution_count": 34,
   "metadata": {},
   "outputs": [
    {
     "name": "stdout",
     "output_type": "stream",
     "text": [
      "   column_A\n",
      "a  1.411559\n",
      "b  2.242345\n",
      "c  2.554495\n",
      "d  2.066552\n"
     ]
    },
    {
     "data": {
      "image/png": "[encoded data removed]",
      "text/plain": [
       "<Figure size 432x288 with 1 Axes>"
      ]
     },
     "metadata": {},
     "output_type": "display_data"
    }
   ],
   "source": [
    "df = pd.DataFrame(data=3*np.random.rand(4),index=['a','b','c','d'], columns=['column_A'])\n",
    "print(df)\n",
    "df.plot.pie(subplots=True)\n",
    "plt.show()"
   ]
  },
  {
   "cell_type": "code",
   "execution_count": 44,
   "metadata": {},
   "outputs": [
    {
     "data": {
      "text/plain": [
       "array([0.93313624, 0.32328121, 0.03240697, 0.07755979])"
      ]
     },
     "execution_count": 44,
     "metadata": {},
     "output_type": "execute_result"
    }
   ],
   "source": [
    "np.random.rand(4)"
   ]
  },
  {
   "cell_type": "code",
   "execution_count": 50,
   "metadata": {},
   "outputs": [
    {
     "data": {
      "text/plain": [
       "array([[0.32523659, 0.47227075],\n",
       "       [0.37508578, 0.7927137 ],\n",
       "       [0.31085988, 0.11852269],\n",
       "       [0.52369215, 0.44985129]])"
      ]
     },
     "execution_count": 50,
     "metadata": {},
     "output_type": "execute_result"
    }
   ],
   "source": [
    "np.random.rand(4,2)"
   ]
  },
  {
   "cell_type": "code",
   "execution_count": 53,
   "metadata": {},
   "outputs": [
    {
     "name": "stdout",
     "output_type": "stream",
     "text": [
      "          A         B         C         D\n",
      "0  0.683940  0.405732  0.315761  0.152397\n",
      "1  0.347837  0.765246  0.085120  0.110403\n",
      "2  0.708715  0.107323  0.357343  0.322008\n",
      "3  0.239178  0.461037  0.058213  0.194261\n",
      "4  0.893596  0.753354  0.132408  0.086455\n",
      "5  0.434411  0.226555  0.940926  0.604117\n",
      "6  0.046469  0.382511  0.020711  0.842022\n",
      "7  0.326258  0.017010  0.958364  0.012958\n",
      "8  0.512740  0.424745  0.351282  0.134281\n",
      "9  0.151956  0.068273  0.494491  0.510723\n"
     ]
    },
    {
     "data": {
      "image/png": "[encoded data removed]",
      "text/plain": [
       "<Figure size 432x288 with 1 Axes>"
      ]
     },
     "metadata": {
      "needs_background": "light"
     },
     "output_type": "display_data"
    }
   ],
   "source": [
    "df = pd.DataFrame(np.random.rand(10,4), columns=['A','B','C','D'])\n",
    "print(df)\n",
    "df.plot.bar()\n",
    "plt.show()"
   ]
  },
  {
   "cell_type": "code",
   "execution_count": 42,
   "metadata": {},
   "outputs": [
    {
     "name": "stdout",
     "output_type": "stream",
     "text": [
      "          A         B         C         D\n",
      "0  0.779953  0.551194  0.118092  0.421875\n",
      "1  0.779989  0.387561  0.728609  0.845451\n",
      "2  0.706303  0.455688  0.320817  0.916282\n",
      "3  0.554211  0.934805  0.736297  0.580307\n",
      "4  0.807618  0.487416  0.129302  0.442716\n",
      "5  0.939977  0.631933  0.958761  0.911817\n",
      "6  0.448032  0.647597  0.443784  0.954352\n",
      "7  0.805241  0.337668  0.710820  0.493401\n",
      "8  0.551076  0.626158  0.119250  0.959640\n",
      "9  0.620014  0.959980  0.827629  0.700433\n"
     ]
    },
    {
     "data": {
      "image/png": "[encoded data removed]",
      "text/plain": [
       "<Figure size 432x288 with 1 Axes>"
      ]
     },
     "metadata": {
      "needs_background": "light"
     },
     "output_type": "display_data"
    }
   ],
   "source": [
    "df = pd.DataFrame(np.random.rand(10,4), columns=['A','B','C','D'])\n",
    "print(df)\n",
    "df.plot.bar(stacked=True)\n",
    "plt.show()"
   ]
  },
  {
   "cell_type": "markdown",
   "metadata": {},
   "source": [
    "## Series "
   ]
  },
  {
   "cell_type": "markdown",
   "metadata": {},
   "source": [
    "Constructor\n",
    "\n",
    "    pd.Series(\n",
    "        data=None,\n",
    "        index=None,\n",
    "        dtype=None,\n",
    "        name=None,\n",
    "        copy=False,\n",
    "        fastpath=False,\n",
    "    )"
   ]
  },
  {
   "cell_type": "code",
   "execution_count": 56,
   "metadata": {},
   "outputs": [
    {
     "name": "stdout",
     "output_type": "stream",
     "text": [
      "Series([], dtype: float64)\n"
     ]
    }
   ],
   "source": [
    "#Empty Series\n",
    "\n",
    "s = pd.Series()\n",
    "print(s)"
   ]
  },
  {
   "cell_type": "code",
   "execution_count": 58,
   "metadata": {},
   "outputs": [
    {
     "name": "stdout",
     "output_type": "stream",
     "text": [
      "Series([], dtype: object)\n"
     ]
    }
   ],
   "source": [
    "s = pd.Series(dtype=object)\n",
    "print(s)"
   ]
  },
  {
   "cell_type": "code",
   "execution_count": 61,
   "metadata": {},
   "outputs": [
    {
     "name": "stdout",
     "output_type": "stream",
     "text": [
      "0    a\n",
      "1    b\n",
      "2    c\n",
      "3    d\n",
      "4    e\n",
      "dtype: object\n",
      "<class 'pandas.core.series.Series'>\n"
     ]
    }
   ],
   "source": [
    "#Creating series from ndarray\n",
    "\n",
    "data = np.array(['a','b','c','d','e'])\n",
    "s = pd.Series(data)\n",
    "print(s)\n",
    "print(type(s))"
   ]
  },
  {
   "cell_type": "code",
   "execution_count": 63,
   "metadata": {},
   "outputs": [
    {
     "name": "stdout",
     "output_type": "stream",
     "text": [
      "10    a\n",
      "20    b\n",
      "30    c\n",
      "40    d\n",
      "50    e\n",
      "Name: Series 1, dtype: object\n",
      "<class 'pandas.core.series.Series'>\n"
     ]
    }
   ],
   "source": [
    "#Using parameters\n",
    "\n",
    "data = np.array(['a','b','c','d','e'])\n",
    "s = pd.Series(data = data, index=[10,20,30,40,50], dtype=object, copy=True, name= \"Series 1\")\n",
    "print(s)\n",
    "print(type(s))"
   ]
  },
  {
   "cell_type": "code",
   "execution_count": 66,
   "metadata": {},
   "outputs": [
    {
     "name": "stdout",
     "output_type": "stream",
     "text": [
      "2      2.0\n",
      "4      4.0\n",
      "6      6.0\n",
      "8      8.0\n",
      "10    10.0\n",
      "Name: Series from List, dtype: float64\n",
      "<class 'pandas.core.series.Series'>\n"
     ]
    }
   ],
   "source": [
    "#Using list to create series\n",
    "lst = [2,4,6,8,10]\n",
    "ndarr = np.array(lst)\n",
    "s = pd.Series(data=ndarr, dtype=float, index = lst, copy = True,name=\"Series from List\")\n",
    "print(s)\n",
    "print(type(s))"
   ]
  },
  {
   "cell_type": "code",
   "execution_count": 114,
   "metadata": {},
   "outputs": [
    {
     "name": "stdout",
     "output_type": "stream",
     "text": [
      "0     2\n",
      "1     4\n",
      "2     6\n",
      "3     8\n",
      "4    10\n",
      "dtype: int64\n",
      "<class 'pandas.core.series.Series'>\n"
     ]
    }
   ],
   "source": [
    "#using list\n",
    "lst = [2,4,6,8,10]\n",
    "s = pd.Series(lst)\n",
    "print(s)\n",
    "print(type(s))"
   ]
  },
  {
   "cell_type": "code",
   "execution_count": 69,
   "metadata": {},
   "outputs": [
    {
     "name": "stdout",
     "output_type": "stream",
     "text": [
      "1st Std    [200, 300, 600, 800, 100, 2]\n",
      "2nd Std                 [200, 300, 600]\n",
      "3rd Std                      [200, 300]\n",
      "4th Std                           [200]\n",
      "dtype: object\n"
     ]
    }
   ],
   "source": [
    "#Using list of lists\n",
    "lst = [[ 200, 300, 600, 800,100,2 ],[200, 300, 600], [200, 300],[200]]\n",
    "s = pd.Series(data=lst, dtype=object, index=[\"1st Std\", \"2nd Std\", \"3rd Std\", \"4th Std\"], copy=False)\n",
    "print(s)"
   ]
  },
  {
   "cell_type": "code",
   "execution_count": 70,
   "metadata": {},
   "outputs": [],
   "source": [
    "# try examples of copy = True and copy = False"
   ]
  },
  {
   "cell_type": "code",
   "execution_count": 103,
   "metadata": {},
   "outputs": [
    {
     "name": "stdout",
     "output_type": "stream",
     "text": [
      "0     2\n",
      "1     4\n",
      "2     6\n",
      "3     8\n",
      "4    10\n",
      "dtype: int64\n"
     ]
    }
   ],
   "source": [
    "s2 = pd.Series(data=[2,4,6,8,10], copy=False)\n",
    "s = pd.Series(data=s2, copy=False)\n",
    "\n",
    "print(s)"
   ]
  },
  {
   "cell_type": "code",
   "execution_count": 104,
   "metadata": {},
   "outputs": [],
   "source": [
    "s = s.append(pd.Series([1,2,4]))"
   ]
  },
  {
   "cell_type": "code",
   "execution_count": 105,
   "metadata": {},
   "outputs": [
    {
     "name": "stdout",
     "output_type": "stream",
     "text": [
      "0     2\n",
      "1     4\n",
      "2     6\n",
      "3     8\n",
      "4    10\n",
      "0     1\n",
      "1     2\n",
      "2     4\n",
      "dtype: int64\n"
     ]
    }
   ],
   "source": [
    "print(s)"
   ]
  },
  {
   "cell_type": "code",
   "execution_count": 106,
   "metadata": {},
   "outputs": [
    {
     "name": "stdout",
     "output_type": "stream",
     "text": [
      "0     2\n",
      "1     4\n",
      "2     6\n",
      "3     8\n",
      "4    10\n",
      "dtype: int64\n"
     ]
    }
   ],
   "source": [
    "print(s2)"
   ]
  },
  {
   "cell_type": "code",
   "execution_count": null,
   "metadata": {},
   "outputs": [],
   "source": []
  },
  {
   "cell_type": "code",
   "execution_count": null,
   "metadata": {},
   "outputs": [],
   "source": []
  },
  {
   "cell_type": "code",
   "execution_count": null,
   "metadata": {},
   "outputs": [],
   "source": []
  },
  {
   "cell_type": "code",
   "execution_count": null,
   "metadata": {},
   "outputs": [],
   "source": []
  },
  {
   "cell_type": "code",
   "execution_count": null,
   "metadata": {},
   "outputs": [],
   "source": []
  }
 ],
 "metadata": {
  "kernelspec": {
   "display_name": "Python 3",
   "language": "python",
   "name": "python3"
  },
  "language_info": {
   "codemirror_mode": {
    "name": "ipython",
    "version": 3
   },
   "file_extension": ".py",
   "mimetype": "text/x-python",
   "name": "python",
   "nbconvert_exporter": "python",
   "pygments_lexer": "ipython3",
   "version": "3.7.4"
  }
 },
 "nbformat": 4,
 "nbformat_minor": 2
}
