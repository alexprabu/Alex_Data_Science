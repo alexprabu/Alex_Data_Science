{
 "cells": [
  {
   "cell_type": "markdown",
   "metadata": {},
   "source": [
    "# Series"
   ]
  },
  {
   "cell_type": "code",
   "execution_count": 1,
   "metadata": {},
   "outputs": [],
   "source": [
    "import pandas as pd\n",
    "import numpy as np"
   ]
  },
  {
   "cell_type": "code",
   "execution_count": 2,
   "metadata": {},
   "outputs": [
    {
     "name": "stdout",
     "output_type": "stream",
     "text": [
      "[list([200, 300, 600, 800, 100, 2]) list([200, 300, 600]) list([200, 300])\n",
      " list([200])]\n",
      "0    [200, 300, 600, 800, 100, 2]\n",
      "1                 [200, 300, 600]\n",
      "2                      [200, 300]\n",
      "3                           [200]\n",
      "dtype: object\n"
     ]
    }
   ],
   "source": [
    "#Convert list as asarray and use the same to create series\n",
    "\n",
    "lst = [[200, 300, 600, 800,100,2],[200, 300, 600],[200, 300],[200]]\n",
    "ndArray = np.asarray(lst)\n",
    "print(ndArray)\n",
    "\n",
    "s = pd.Series(data=ndArray)\n",
    "print(s)\n"
   ]
  },
  {
   "cell_type": "code",
   "execution_count": 3,
   "metadata": {},
   "outputs": [
    {
     "name": "stdout",
     "output_type": "stream",
     "text": [
      "1st Std    [200, 300, 600, 800, 100, 2]\n",
      "2nd Std                 [200, 300, 600]\n",
      "3rd Std                      [200, 300]\n",
      "4th Std                           [200]\n",
      "dtype: object\n"
     ]
    }
   ],
   "source": [
    "\n",
    "s = pd.Series(data=ndArray, dtype=object, index=[\"1st Std\", \"2nd Std\", \"3rd Std\", \"4th Std\"], copy=False)\n",
    "print(s)"
   ]
  },
  {
   "cell_type": "code",
   "execution_count": 4,
   "metadata": {},
   "outputs": [
    {
     "name": "stdout",
     "output_type": "stream",
     "text": [
      "Monday        96.0\n",
      "Tuesday      102.0\n",
      "Wednesday     88.0\n",
      "Thursday      68.0\n",
      "Friday        78.5\n",
      "dtype: float64\n"
     ]
    }
   ],
   "source": [
    "#Custom index can be in string format, creating series using numpy array\n",
    "\n",
    "temperature = [96, 102, 88, 68, 78.5]\n",
    "temp_data = np.array(temperature)\n",
    "days = [\"Monday\",\"Tuesday\", \"Wednesday\", \"Thursday\",\"Friday\" ]\n",
    "\n",
    "s = pd.Series(data = temp_data, index = days, dtype=float, copy=True)\n",
    "print(s)"
   ]
  },
  {
   "cell_type": "code",
   "execution_count": 6,
   "metadata": {},
   "outputs": [
    {
     "name": "stdout",
     "output_type": "stream",
     "text": [
      "Mel            10.0\n",
      "               20.0\n",
      "Lord Muruga    30.0\n",
      "dtype: float64\n"
     ]
    }
   ],
   "source": [
    "#Creating Series using python dict\n",
    " \n",
    "data = {'Mel' : 10., '' : 20., 'Lord Muruga' : 30.} #Watch EMPTY KEY\n",
    "\n",
    "s = pd.Series(data)\n",
    "print(s)"
   ]
  },
  {
   "cell_type": "code",
   "execution_count": 23,
   "metadata": {},
   "outputs": [
    {
     "name": "stdout",
     "output_type": "stream",
     "text": [
      "Mel       10.0\n",
      "Nathan    20.0\n",
      "Lara      30.0\n",
      "dtype: float64\n",
      "***************\n",
      "ABC   NaN\n",
      "XYZ   NaN\n",
      "SSS   NaN\n",
      "dtype: float64\n"
     ]
    }
   ],
   "source": [
    "data = {'Mel' : 10., 'Nathan' : 20., 'Lara' : 30.}\n",
    "s = pd.Series(data=data)\n",
    "print(s)\n",
    "\n",
    "print(\"*\"*15)\n",
    "\n",
    "s = pd.Series(data=data, index=[\"ABC\", \"XYZ\", \"SSS\"])\n",
    "print(s)\n"
   ]
  },
  {
   "cell_type": "code",
   "execution_count": 24,
   "metadata": {},
   "outputs": [
    {
     "name": "stdout",
     "output_type": "stream",
     "text": [
      "Mel       10.0\n",
      "Nathan    20.0\n",
      "ABSENT     NaN\n",
      "Lara      30.0\n",
      "dtype: float64\n"
     ]
    }
   ],
   "source": [
    "data = {'Mel' : 10., 'Nathan' : 20., 'Lara' : 30.}\n",
    "s = pd.Series(data=data, index=[\"Mel\", \"Nathan\", \"ABSENT\", 'Lara'])\n",
    "print(s)"
   ]
  },
  {
   "cell_type": "code",
   "execution_count": 29,
   "metadata": {},
   "outputs": [
    {
     "name": "stdout",
     "output_type": "stream",
     "text": [
      "20      2.0\n",
      "40      4.0\n",
      "60      6.0\n",
      "80      8.0\n",
      "100    10.0\n",
      "dtype: float64\n",
      "\n",
      "\n",
      "20     200.0\n",
      "40       4.0\n",
      "60       6.0\n",
      "80       8.0\n",
      "100     10.0\n",
      "dtype: float64\n"
     ]
    }
   ],
   "source": [
    "# Series dataset value is mutable (Value can be modified) But new column Will NOT added / deleted / modified\n",
    "\n",
    "# If the index is there, the index value is modified / mutable\n",
    "\n",
    "lst = [2, 4, 6, 8, 10]\n",
    "idx = [20, 40, 60, 80, 100]\n",
    "\n",
    "s = pd.Series(data=lst, dtype=float, index = idx)\n",
    "print(s)\n",
    "\n",
    "print(\"\\n\")\n",
    "\n",
    "s[20] = 200  # Modifying the value of the Series\n",
    "print(s)"
   ]
  },
  {
   "cell_type": "code",
   "execution_count": 31,
   "metadata": {},
   "outputs": [
    {
     "name": "stdout",
     "output_type": "stream",
     "text": [
      "20     200.0\n",
      "40       4.0\n",
      "60       6.0\n",
      "80       8.0\n",
      "100     10.0\n",
      "21     800.0\n",
      "dtype: float64\n"
     ]
    }
   ],
   "source": [
    "s[21] = 800 # If the index is NOT there, a new row / data is added at the end\n",
    "\n",
    "print(s)"
   ]
  },
  {
   "cell_type": "code",
   "execution_count": 35,
   "metadata": {},
   "outputs": [
    {
     "name": "stdout",
     "output_type": "stream",
     "text": [
      "[ 96.  102.   88.   68.   78.5]\n",
      "Original Series: \n",
      " 0     96.0\n",
      "1    102.0\n",
      "2     88.0\n",
      "3     68.0\n",
      "4     78.5\n",
      "dtype: float64\n",
      "Index is 0 and the Value is 96.0\n",
      "Index is 1 and the Value is 102.0\n",
      "Index is 2 and the Value is 88.0\n",
      "Index is 3 and the Value is 68.0\n",
      "Index is 4 and the Value is 78.5\n"
     ]
    }
   ],
   "source": [
    "#Default Index starts from zero (0)\n",
    "\n",
    "lst = [96, 102, 88, 68, 78.5]\n",
    "arr = np.array(lst)\n",
    "print(arr)\n",
    "\n",
    "s = pd.Series(arr)\n",
    "print(\"Original Series: \\n\", s)\n",
    "\n",
    "for index, value in enumerate(s):\n",
    "    print(\"Index is {} and the Value is {}\".format(index, value))"
   ]
  },
  {
   "cell_type": "code",
   "execution_count": 36,
   "metadata": {},
   "outputs": [
    {
     "name": "stdout",
     "output_type": "stream",
     "text": [
      "0      96.0\n",
      "1    9999.0\n",
      "2      88.0\n",
      "3      68.0\n",
      "4      78.5\n",
      "dtype: float64\n"
     ]
    }
   ],
   "source": [
    "s[1] = 9999 # If the index is there, the index value is modified\n",
    "\n",
    "print(s)"
   ]
  },
  {
   "cell_type": "code",
   "execution_count": null,
   "metadata": {},
   "outputs": [],
   "source": []
  },
  {
   "cell_type": "markdown",
   "metadata": {},
   "source": [
    "## Series Properties"
   ]
  },
  {
   "cell_type": "code",
   "execution_count": 37,
   "metadata": {},
   "outputs": [
    {
     "name": "stdout",
     "output_type": "stream",
     "text": [
      "Shape:  (5,)\n"
     ]
    }
   ],
   "source": [
    "print(\"Shape: \", s.shape)"
   ]
  },
  {
   "cell_type": "code",
   "execution_count": 38,
   "metadata": {},
   "outputs": [
    {
     "name": "stdout",
     "output_type": "stream",
     "text": [
      "Dimension:  1\n"
     ]
    }
   ],
   "source": [
    "print(\"Dimension: \", s.ndim)"
   ]
  },
  {
   "cell_type": "code",
   "execution_count": 39,
   "metadata": {},
   "outputs": [
    {
     "name": "stdout",
     "output_type": "stream",
     "text": [
      "Size:  5\n"
     ]
    }
   ],
   "source": [
    "print(\"Size: \", s.size)"
   ]
  },
  {
   "cell_type": "code",
   "execution_count": 40,
   "metadata": {},
   "outputs": [
    {
     "name": "stdout",
     "output_type": "stream",
     "text": [
      "NBytes:  40\n"
     ]
    }
   ],
   "source": [
    "print(\"NBytes: \", s.nbytes)"
   ]
  },
  {
   "cell_type": "code",
   "execution_count": 41,
   "metadata": {},
   "outputs": [
    {
     "name": "stdout",
     "output_type": "stream",
     "text": [
      "Length:  5\n"
     ]
    }
   ],
   "source": [
    "print(\"Length: \", len(s))"
   ]
  },
  {
   "cell_type": "code",
   "execution_count": 42,
   "metadata": {},
   "outputs": [
    {
     "name": "stdout",
     "output_type": "stream",
     "text": [
      "[ 2  4  6  8 10]\n",
      "SIZE IS :  5\n",
      "200      2\n",
      "300      4\n",
      "600      6\n",
      "800      8\n",
      "1000    10\n",
      "dtype: int32\n"
     ]
    }
   ],
   "source": [
    "#The axis labels are collectively called index.\n",
    "#Now we are passing index. The index must be of same size of the Series’ data\n",
    "\n",
    "lst = [2, 4, 6, 8, 10]\n",
    "data1 = np.array(lst)\n",
    "print (data1)\n",
    "print(\"SIZE IS : \",data1.size)\n",
    "s = pd.Series(data=data1,dtype=int, index=[200, 300, 600, 800,1000],copy=True)\n",
    "print(s)"
   ]
  },
  {
   "cell_type": "code",
   "execution_count": 43,
   "metadata": {},
   "outputs": [
    {
     "ename": "ValueError",
     "evalue": "Length of passed values is 5, index implies 4",
     "output_type": "error",
     "traceback": [
      "\u001b[1;31m---------------------------------------------------------------------------\u001b[0m",
      "\u001b[1;31mValueError\u001b[0m                                Traceback (most recent call last)",
      "\u001b[1;32m<ipython-input-43-237c4a0de0c8>\u001b[0m in \u001b[0;36m<module>\u001b[1;34m\u001b[0m\n\u001b[0;32m      1\u001b[0m \u001b[1;31m# If we pass less number of index of size of Series, it is an error\u001b[0m\u001b[1;33m\u001b[0m\u001b[1;33m\u001b[0m\u001b[1;33m\u001b[0m\u001b[0m\n\u001b[0;32m      2\u001b[0m \u001b[1;33m\u001b[0m\u001b[0m\n\u001b[1;32m----> 3\u001b[1;33m \u001b[0ms\u001b[0m \u001b[1;33m=\u001b[0m \u001b[0mpd\u001b[0m\u001b[1;33m.\u001b[0m\u001b[0mSeries\u001b[0m\u001b[1;33m(\u001b[0m\u001b[0mdata\u001b[0m\u001b[1;33m=\u001b[0m\u001b[0mdata1\u001b[0m\u001b[1;33m,\u001b[0m\u001b[0mdtype\u001b[0m\u001b[1;33m=\u001b[0m\u001b[0mint\u001b[0m\u001b[1;33m,\u001b[0m \u001b[0mindex\u001b[0m\u001b[1;33m=\u001b[0m\u001b[1;33m[\u001b[0m\u001b[1;36m200\u001b[0m\u001b[1;33m,\u001b[0m \u001b[1;36m300\u001b[0m\u001b[1;33m,\u001b[0m \u001b[1;36m600\u001b[0m\u001b[1;33m,\u001b[0m \u001b[1;36m800\u001b[0m\u001b[1;33m]\u001b[0m\u001b[1;33m,\u001b[0m\u001b[0mcopy\u001b[0m\u001b[1;33m=\u001b[0m\u001b[1;32mTrue\u001b[0m\u001b[1;33m)\u001b[0m\u001b[1;33m\u001b[0m\u001b[1;33m\u001b[0m\u001b[0m\n\u001b[0m\u001b[0;32m      4\u001b[0m \u001b[0mprint\u001b[0m\u001b[1;33m(\u001b[0m\u001b[0ms\u001b[0m\u001b[1;33m)\u001b[0m\u001b[1;33m\u001b[0m\u001b[1;33m\u001b[0m\u001b[0m\n",
      "\u001b[1;32mD:\\Anaconda3\\lib\\site-packages\\pandas\\core\\series.py\u001b[0m in \u001b[0;36m__init__\u001b[1;34m(self, data, index, dtype, name, copy, fastpath)\u001b[0m\n\u001b[0;32m    297\u001b[0m                         raise ValueError(\n\u001b[0;32m    298\u001b[0m                             \u001b[1;34m\"Length of passed values is {val}, \"\u001b[0m\u001b[1;33m\u001b[0m\u001b[1;33m\u001b[0m\u001b[0m\n\u001b[1;32m--> 299\u001b[1;33m                             \u001b[1;34m\"index implies {ind}\"\u001b[0m\u001b[1;33m.\u001b[0m\u001b[0mformat\u001b[0m\u001b[1;33m(\u001b[0m\u001b[0mval\u001b[0m\u001b[1;33m=\u001b[0m\u001b[0mlen\u001b[0m\u001b[1;33m(\u001b[0m\u001b[0mdata\u001b[0m\u001b[1;33m)\u001b[0m\u001b[1;33m,\u001b[0m \u001b[0mind\u001b[0m\u001b[1;33m=\u001b[0m\u001b[0mlen\u001b[0m\u001b[1;33m(\u001b[0m\u001b[0mindex\u001b[0m\u001b[1;33m)\u001b[0m\u001b[1;33m)\u001b[0m\u001b[1;33m\u001b[0m\u001b[1;33m\u001b[0m\u001b[0m\n\u001b[0m\u001b[0;32m    300\u001b[0m                         )\n\u001b[0;32m    301\u001b[0m                 \u001b[1;32mexcept\u001b[0m \u001b[0mTypeError\u001b[0m\u001b[1;33m:\u001b[0m\u001b[1;33m\u001b[0m\u001b[1;33m\u001b[0m\u001b[0m\n",
      "\u001b[1;31mValueError\u001b[0m: Length of passed values is 5, index implies 4"
     ]
    }
   ],
   "source": [
    "# If we pass less number of index of size of Series, it is an error\n",
    "\n",
    "s = pd.Series(data=data1,dtype=int, index=[200, 300, 600, 800],copy=True)\n",
    "print(s)\n"
   ]
  },
  {
   "cell_type": "code",
   "execution_count": null,
   "metadata": {},
   "outputs": [],
   "source": []
  },
  {
   "cell_type": "code",
   "execution_count": 46,
   "metadata": {},
   "outputs": [
    {
     "name": "stdout",
     "output_type": "stream",
     "text": [
      "NAME                  Aafi\n",
      "SUBJECT       Data Science\n",
      "MARK                    98\n",
      "CLASS MODE          ONLINE\n",
      "TUTOR NAME         Melcose\n",
      "dtype: object\n"
     ]
    }
   ],
   "source": [
    "studentInfo = {\"NAME\" :\"Aafi\", \"SUBJECT\":\"Data Science\", \"MARK\":98, \"CLASS MODE\": \"ONLINE\", \"TUTOR NAME\" : \"Melcose\"}\n",
    "\n",
    "s = pd.Series(data = studentInfo)\n",
    "print(s)"
   ]
  },
  {
   "cell_type": "code",
   "execution_count": 48,
   "metadata": {},
   "outputs": [
    {
     "name": "stdout",
     "output_type": "stream",
     "text": [
      "a    0.0\n",
      "b    1.0\n",
      "c    2.0\n",
      "dtype: float64\n"
     ]
    }
   ],
   "source": [
    "'''A dict can be passed as input and if no index is specified, then the dictionary\n",
    "keys are taken to construct index. If index is passed, the values in data\n",
    "corresponding to the labels in the index will be pulled out'''\n",
    "\n",
    "data = {'a' : 0., 'b' : 1., 'c' : 2.}\n",
    "s = pd.Series(data)\n",
    "print(s)"
   ]
  },
  {
   "cell_type": "code",
   "execution_count": 51,
   "metadata": {},
   "outputs": [
    {
     "name": "stdout",
     "output_type": "stream",
     "text": [
      "x   NaN\n",
      "y   NaN\n",
      "z   NaN\n",
      "dtype: float64\n"
     ]
    }
   ],
   "source": [
    "s = pd.Series(data, index=['x','y','z'])\n",
    "print(s)"
   ]
  },
  {
   "cell_type": "code",
   "execution_count": 52,
   "metadata": {},
   "outputs": [
    {
     "name": "stdout",
     "output_type": "stream",
     "text": [
      "0    CLASS MODE\n",
      "1          MARK\n",
      "2          NAME\n",
      "3       SUBJECT\n",
      "4    TUTOR NAME\n",
      "dtype: object\n"
     ]
    }
   ],
   "source": [
    "studentInfo = {\"NAME\" :\"Aafi\", \"SUBJECT\":\"Data Science\", \"MARK\":98, \"CLASS MODE\":\n",
    "\"ONLINE\", \"TUTOR NAME\" : \"Melcose\"}\n",
    "s = pd.Series(sorted(studentInfo))\n",
    "print(s)\n"
   ]
  },
  {
   "cell_type": "code",
   "execution_count": 53,
   "metadata": {},
   "outputs": [
    {
     "name": "stdout",
     "output_type": "stream",
     "text": [
      "NAME                  Aafi\n",
      "SUBJECT       Data Science\n",
      "MARK                    98\n",
      "CLASS MODE          ONLINE\n",
      "TUTOR NAME         Melcose\n",
      "dtype: object\n"
     ]
    }
   ],
   "source": [
    "studentInfo = {\"NAME\" :\"Aafi\", \"SUBJECT\":\"Data Science\", \"MARK\":98, \"CLASS MODE\":\n",
    "\"ONLINE\", \"TUTOR NAME\" : \"Melcose\"}\n",
    "s = pd.Series(data = studentInfo, index=studentInfo)\n",
    "print(s)\n"
   ]
  },
  {
   "cell_type": "code",
   "execution_count": 54,
   "metadata": {},
   "outputs": [
    {
     "name": "stdout",
     "output_type": "stream",
     "text": [
      "SORTED WITH INDEX:\n",
      " a    a\n",
      "c    b\n",
      "b    c\n",
      "dtype: object\n"
     ]
    }
   ],
   "source": [
    "data1 = {'a' : 10., 'c' : 11., 'b' : 12.}\n",
    "s = pd.Series(data=sorted(data1), index=data1)\n",
    "print(\"SORTED WITH INDEX:\\n\",s)"
   ]
  },
  {
   "cell_type": "code",
   "execution_count": 55,
   "metadata": {},
   "outputs": [
    {
     "name": "stdout",
     "output_type": "stream",
     "text": [
      "SORTED WITH INDEX:\n",
      " a    120.0\n",
      "b     11.0\n",
      "c    100.0\n",
      "dtype: float64\n"
     ]
    }
   ],
   "source": [
    "data1 = {'c' : 100., 'b' : 11., 'a' : 120.}\n",
    "s = pd.Series(data=(data1), index=sorted(data1))\n",
    "print(\"SORTED WITH INDEX:\\n\",s)\n"
   ]
  },
  {
   "cell_type": "code",
   "execution_count": 57,
   "metadata": {},
   "outputs": [
    {
     "name": "stdout",
     "output_type": "stream",
     "text": [
      "b    12.0\n",
      "c    11.0\n",
      "d     NaN\n",
      "a    10.0\n",
      "dtype: float64\n"
     ]
    }
   ],
   "source": [
    "# Pandas supplies NaN to missing values\n",
    "data1 = {'a' : 10., 'c' : 11., 'b' : 12.}\n",
    "s = pd.Series(data=data1, index=['b', 'c', 'd', 'a'])\n",
    "print(s)"
   ]
  },
  {
   "cell_type": "code",
   "execution_count": 58,
   "metadata": {},
   "outputs": [
    {
     "name": "stdout",
     "output_type": "stream",
     "text": [
      "a    10.0\n",
      "b    12.0\n",
      "c    11.0\n",
      "dtype: float64\n"
     ]
    }
   ],
   "source": [
    "data1 = {'a' : 10., 'c' : 11., 'b' : 12.}\n",
    "s = pd.Series(data1, index=['a', 'b', 'c'])\n",
    "print(s)\n"
   ]
  },
  {
   "cell_type": "code",
   "execution_count": 59,
   "metadata": {},
   "outputs": [
    {
     "name": "stdout",
     "output_type": "stream",
     "text": [
      "x   NaN\n",
      "y   NaN\n",
      "z   NaN\n",
      "dtype: float64\n"
     ]
    }
   ],
   "source": [
    "data1 = {'a' : 10., 'c' : 11., 'b' : 12.}\n",
    "s = pd.Series(data1, index=['x', 'y', 'z'])\n",
    "print(s)"
   ]
  },
  {
   "cell_type": "code",
   "execution_count": 76,
   "metadata": {},
   "outputs": [
    {
     "name": "stdout",
     "output_type": "stream",
     "text": [
      "*****************Original Series******************\n",
      "b    0.0\n",
      "a    1.0\n",
      "c    2.0\n",
      "dtype: float64 \n",
      "\n",
      "***************Sorted - Index based***************\n",
      "a    1.0\n",
      "b    0.0\n",
      "c    2.0\n",
      "dtype: float64 \n",
      "\n",
      "***************Sorted - Value based***************\n",
      "b    0.0\n",
      "a    1.0\n",
      "c    2.0\n",
      "dtype: float64\n"
     ]
    }
   ],
   "source": [
    "data = {'b' : 0., 'a' : 1., 'c' : 2.}\n",
    "s = pd.Series(data)\n",
    "print(\"Original Series\".center(50,\"*\"))\n",
    "print(s, \"\\n\")\n",
    "\n",
    "\n",
    "#Sorting the series using index and values\n",
    "print(\"Sorted - Index based\".center(50,\"*\"))\n",
    "print(s.sort_index(), \"\\n\")\n",
    "\n",
    "\n",
    "print(\"Sorted - Value based\".center(50,\"*\"))\n",
    "print(s.sort_values())\n"
   ]
  },
  {
   "cell_type": "code",
   "execution_count": 78,
   "metadata": {},
   "outputs": [
    {
     "name": "stdout",
     "output_type": "stream",
     "text": [
      "0    40\n",
      "dtype: int64\n"
     ]
    }
   ],
   "source": [
    "#Create a Series from Scalar\n",
    "mark = 40\n",
    "s = pd.Series(mark)\n",
    "print(s)"
   ]
  },
  {
   "cell_type": "code",
   "execution_count": 79,
   "metadata": {},
   "outputs": [
    {
     "name": "stdout",
     "output_type": "stream",
     "text": [
      "A    40\n",
      "B    40\n",
      "C    40\n",
      "dtype: int64\n"
     ]
    }
   ],
   "source": [
    "mark = 40\n",
    "s = pd.Series(mark,index=['A','B','C'])\n",
    "print(s)"
   ]
  },
  {
   "cell_type": "code",
   "execution_count": 80,
   "metadata": {},
   "outputs": [
    {
     "name": "stdout",
     "output_type": "stream",
     "text": [
      "Vanitha     Female\n",
      "Usha        Female\n",
      "Karthika    Female\n",
      "dtype: object\n"
     ]
    }
   ],
   "source": [
    "gender = \"Female\" # Scalar value with str data type\n",
    "s = pd.Series(data=gender, index=[\"Vanitha\", \"Usha\", \"Karthika\"])\n",
    "print(s)"
   ]
  },
  {
   "cell_type": "code",
   "execution_count": 81,
   "metadata": {},
   "outputs": [
    {
     "name": "stdout",
     "output_type": "stream",
     "text": [
      "0    True\n",
      "1    True\n",
      "2    True\n",
      "3    True\n",
      "dtype: bool\n"
     ]
    }
   ],
   "source": [
    "s2 = pd.Series(True, index=[0, 1, 2, 3,])\n",
    "print(s2)"
   ]
  },
  {
   "cell_type": "code",
   "execution_count": 87,
   "metadata": {},
   "outputs": [
    {
     "ename": "ValueError",
     "evalue": "Length of passed values is 3, index implies 4",
     "output_type": "error",
     "traceback": [
      "\u001b[1;31m---------------------------------------------------------------------------\u001b[0m",
      "\u001b[1;31mValueError\u001b[0m                                Traceback (most recent call last)",
      "\u001b[1;32m<ipython-input-87-f93f405a3c88>\u001b[0m in \u001b[0;36m<module>\u001b[1;34m\u001b[0m\n\u001b[0;32m      1\u001b[0m \u001b[1;31m#What happens if the number of series data and number index are mismatched\u001b[0m\u001b[1;33m\u001b[0m\u001b[1;33m\u001b[0m\u001b[1;33m\u001b[0m\u001b[0m\n\u001b[0;32m      2\u001b[0m \u001b[1;33m\u001b[0m\u001b[0m\n\u001b[1;32m----> 3\u001b[1;33m \u001b[0ms\u001b[0m \u001b[1;33m=\u001b[0m \u001b[0mpd\u001b[0m\u001b[1;33m.\u001b[0m\u001b[0mSeries\u001b[0m\u001b[1;33m(\u001b[0m\u001b[0mdata\u001b[0m\u001b[1;33m=\u001b[0m\u001b[1;33m[\u001b[0m\u001b[1;34m\"Nathan\"\u001b[0m\u001b[1;33m,\u001b[0m \u001b[1;34m\"Mel\"\u001b[0m\u001b[1;33m,\u001b[0m \u001b[1;34m\"Lara\"\u001b[0m\u001b[1;33m]\u001b[0m\u001b[1;33m,\u001b[0m \u001b[0mindex\u001b[0m\u001b[1;33m=\u001b[0m\u001b[1;33m[\u001b[0m\u001b[1;34m\"Pandas\"\u001b[0m\u001b[1;33m,\u001b[0m \u001b[1;34m\"Numpy\"\u001b[0m\u001b[1;33m,\u001b[0m \u001b[1;34m\"Python\"\u001b[0m\u001b[1;33m,\u001b[0m \u001b[1;34m\"AI\"\u001b[0m\u001b[1;33m]\u001b[0m\u001b[1;33m)\u001b[0m\u001b[1;33m\u001b[0m\u001b[1;33m\u001b[0m\u001b[0m\n\u001b[0m\u001b[0;32m      4\u001b[0m \u001b[0mprint\u001b[0m\u001b[1;33m(\u001b[0m\u001b[0ms\u001b[0m\u001b[1;33m)\u001b[0m\u001b[1;33m\u001b[0m\u001b[1;33m\u001b[0m\u001b[0m\n\u001b[0;32m      5\u001b[0m \u001b[1;33m\u001b[0m\u001b[0m\n",
      "\u001b[1;32mD:\\Anaconda3\\lib\\site-packages\\pandas\\core\\series.py\u001b[0m in \u001b[0;36m__init__\u001b[1;34m(self, data, index, dtype, name, copy, fastpath)\u001b[0m\n\u001b[0;32m    297\u001b[0m                         raise ValueError(\n\u001b[0;32m    298\u001b[0m                             \u001b[1;34m\"Length of passed values is {val}, \"\u001b[0m\u001b[1;33m\u001b[0m\u001b[1;33m\u001b[0m\u001b[0m\n\u001b[1;32m--> 299\u001b[1;33m                             \u001b[1;34m\"index implies {ind}\"\u001b[0m\u001b[1;33m.\u001b[0m\u001b[0mformat\u001b[0m\u001b[1;33m(\u001b[0m\u001b[0mval\u001b[0m\u001b[1;33m=\u001b[0m\u001b[0mlen\u001b[0m\u001b[1;33m(\u001b[0m\u001b[0mdata\u001b[0m\u001b[1;33m)\u001b[0m\u001b[1;33m,\u001b[0m \u001b[0mind\u001b[0m\u001b[1;33m=\u001b[0m\u001b[0mlen\u001b[0m\u001b[1;33m(\u001b[0m\u001b[0mindex\u001b[0m\u001b[1;33m)\u001b[0m\u001b[1;33m)\u001b[0m\u001b[1;33m\u001b[0m\u001b[1;33m\u001b[0m\u001b[0m\n\u001b[0m\u001b[0;32m    300\u001b[0m                         )\n\u001b[0;32m    301\u001b[0m                 \u001b[1;32mexcept\u001b[0m \u001b[0mTypeError\u001b[0m\u001b[1;33m:\u001b[0m\u001b[1;33m\u001b[0m\u001b[1;33m\u001b[0m\u001b[0m\n",
      "\u001b[1;31mValueError\u001b[0m: Length of passed values is 3, index implies 4"
     ]
    }
   ],
   "source": [
    "#What happens if the number of series data and number index are mismatched\n",
    "\n",
    "s = pd.Series(data=[\"Nathan\", \"Mel\", \"Lara\"], index=[\"Pandas\", \"Numpy\", \"Python\", \"AI\"])\n",
    "print(s)\n",
    "\n",
    "#will throw Value Error"
   ]
  },
  {
   "cell_type": "code",
   "execution_count": 88,
   "metadata": {},
   "outputs": [
    {
     "name": "stdout",
     "output_type": "stream",
     "text": [
      "a       1\n",
      "b     2.3\n",
      "c    Name\n",
      "d       4\n",
      "e    True\n",
      "dtype: object\n",
      "----------------\n",
      "1\n",
      "2.3\n",
      "Name\n",
      "4\n",
      "True\n"
     ]
    }
   ],
   "source": [
    "s = pd.Series([1, 2.3, \"Name\", 4, True],index = ['a','b','c','d','e'])\n",
    "print(s)\n",
    "print(\"----------------\")\n",
    "print(s[0])\n",
    "print(s[1])\n",
    "print(s[2])\n",
    "print(s[3])\n",
    "print(s[4])"
   ]
  },
  {
   "cell_type": "code",
   "execution_count": 85,
   "metadata": {},
   "outputs": [
    {
     "ename": "IndexError",
     "evalue": "index out of bounds",
     "output_type": "error",
     "traceback": [
      "\u001b[1;31m---------------------------------------------------------------------------\u001b[0m",
      "\u001b[1;31mKeyError\u001b[0m                                  Traceback (most recent call last)",
      "\u001b[1;32mD:\\Anaconda3\\lib\\site-packages\\pandas\\core\\indexes\\base.py\u001b[0m in \u001b[0;36mget_value\u001b[1;34m(self, series, key)\u001b[0m\n\u001b[0;32m   4729\u001b[0m         \u001b[1;32mtry\u001b[0m\u001b[1;33m:\u001b[0m\u001b[1;33m\u001b[0m\u001b[1;33m\u001b[0m\u001b[0m\n\u001b[1;32m-> 4730\u001b[1;33m             \u001b[1;32mreturn\u001b[0m \u001b[0mself\u001b[0m\u001b[1;33m.\u001b[0m\u001b[0m_engine\u001b[0m\u001b[1;33m.\u001b[0m\u001b[0mget_value\u001b[0m\u001b[1;33m(\u001b[0m\u001b[0ms\u001b[0m\u001b[1;33m,\u001b[0m \u001b[0mk\u001b[0m\u001b[1;33m,\u001b[0m \u001b[0mtz\u001b[0m\u001b[1;33m=\u001b[0m\u001b[0mgetattr\u001b[0m\u001b[1;33m(\u001b[0m\u001b[0mseries\u001b[0m\u001b[1;33m.\u001b[0m\u001b[0mdtype\u001b[0m\u001b[1;33m,\u001b[0m \u001b[1;34m\"tz\"\u001b[0m\u001b[1;33m,\u001b[0m \u001b[1;32mNone\u001b[0m\u001b[1;33m)\u001b[0m\u001b[1;33m)\u001b[0m\u001b[1;33m\u001b[0m\u001b[1;33m\u001b[0m\u001b[0m\n\u001b[0m\u001b[0;32m   4731\u001b[0m         \u001b[1;32mexcept\u001b[0m \u001b[0mKeyError\u001b[0m \u001b[1;32mas\u001b[0m \u001b[0me1\u001b[0m\u001b[1;33m:\u001b[0m\u001b[1;33m\u001b[0m\u001b[1;33m\u001b[0m\u001b[0m\n",
      "\u001b[1;32mpandas\\_libs\\index.pyx\u001b[0m in \u001b[0;36mpandas._libs.index.IndexEngine.get_value\u001b[1;34m()\u001b[0m\n",
      "\u001b[1;32mpandas\\_libs\\index.pyx\u001b[0m in \u001b[0;36mpandas._libs.index.IndexEngine.get_value\u001b[1;34m()\u001b[0m\n",
      "\u001b[1;32mpandas\\_libs\\index.pyx\u001b[0m in \u001b[0;36mpandas._libs.index.IndexEngine.get_loc\u001b[1;34m()\u001b[0m\n",
      "\u001b[1;32mpandas\\_libs\\hashtable_class_helper.pxi\u001b[0m in \u001b[0;36mpandas._libs.hashtable.PyObjectHashTable.get_item\u001b[1;34m()\u001b[0m\n",
      "\u001b[1;32mpandas\\_libs\\hashtable_class_helper.pxi\u001b[0m in \u001b[0;36mpandas._libs.hashtable.PyObjectHashTable.get_item\u001b[1;34m()\u001b[0m\n",
      "\u001b[1;31mKeyError\u001b[0m: 5",
      "\nDuring handling of the above exception, another exception occurred:\n",
      "\u001b[1;31mIndexError\u001b[0m                                Traceback (most recent call last)",
      "\u001b[1;32m<ipython-input-85-2142ffdfbbbd>\u001b[0m in \u001b[0;36m<module>\u001b[1;34m\u001b[0m\n\u001b[1;32m----> 1\u001b[1;33m \u001b[0mprint\u001b[0m\u001b[1;33m(\u001b[0m\u001b[0ms\u001b[0m\u001b[1;33m[\u001b[0m\u001b[1;36m5\u001b[0m\u001b[1;33m]\u001b[0m\u001b[1;33m)\u001b[0m\u001b[1;33m\u001b[0m\u001b[1;33m\u001b[0m\u001b[0m\n\u001b[0m\u001b[0;32m      2\u001b[0m \u001b[1;31m#will throw Index Error\u001b[0m\u001b[1;33m\u001b[0m\u001b[1;33m\u001b[0m\u001b[1;33m\u001b[0m\u001b[0m\n",
      "\u001b[1;32mD:\\Anaconda3\\lib\\site-packages\\pandas\\core\\series.py\u001b[0m in \u001b[0;36m__getitem__\u001b[1;34m(self, key)\u001b[0m\n\u001b[0;32m   1066\u001b[0m         \u001b[0mkey\u001b[0m \u001b[1;33m=\u001b[0m \u001b[0mcom\u001b[0m\u001b[1;33m.\u001b[0m\u001b[0mapply_if_callable\u001b[0m\u001b[1;33m(\u001b[0m\u001b[0mkey\u001b[0m\u001b[1;33m,\u001b[0m \u001b[0mself\u001b[0m\u001b[1;33m)\u001b[0m\u001b[1;33m\u001b[0m\u001b[1;33m\u001b[0m\u001b[0m\n\u001b[0;32m   1067\u001b[0m         \u001b[1;32mtry\u001b[0m\u001b[1;33m:\u001b[0m\u001b[1;33m\u001b[0m\u001b[1;33m\u001b[0m\u001b[0m\n\u001b[1;32m-> 1068\u001b[1;33m             \u001b[0mresult\u001b[0m \u001b[1;33m=\u001b[0m \u001b[0mself\u001b[0m\u001b[1;33m.\u001b[0m\u001b[0mindex\u001b[0m\u001b[1;33m.\u001b[0m\u001b[0mget_value\u001b[0m\u001b[1;33m(\u001b[0m\u001b[0mself\u001b[0m\u001b[1;33m,\u001b[0m \u001b[0mkey\u001b[0m\u001b[1;33m)\u001b[0m\u001b[1;33m\u001b[0m\u001b[1;33m\u001b[0m\u001b[0m\n\u001b[0m\u001b[0;32m   1069\u001b[0m \u001b[1;33m\u001b[0m\u001b[0m\n\u001b[0;32m   1070\u001b[0m             \u001b[1;32mif\u001b[0m \u001b[1;32mnot\u001b[0m \u001b[0mis_scalar\u001b[0m\u001b[1;33m(\u001b[0m\u001b[0mresult\u001b[0m\u001b[1;33m)\u001b[0m\u001b[1;33m:\u001b[0m\u001b[1;33m\u001b[0m\u001b[1;33m\u001b[0m\u001b[0m\n",
      "\u001b[1;32mD:\\Anaconda3\\lib\\site-packages\\pandas\\core\\indexes\\base.py\u001b[0m in \u001b[0;36mget_value\u001b[1;34m(self, series, key)\u001b[0m\n\u001b[0;32m   4734\u001b[0m \u001b[1;33m\u001b[0m\u001b[0m\n\u001b[0;32m   4735\u001b[0m             \u001b[1;32mtry\u001b[0m\u001b[1;33m:\u001b[0m\u001b[1;33m\u001b[0m\u001b[1;33m\u001b[0m\u001b[0m\n\u001b[1;32m-> 4736\u001b[1;33m                 \u001b[1;32mreturn\u001b[0m \u001b[0mlibindex\u001b[0m\u001b[1;33m.\u001b[0m\u001b[0mget_value_box\u001b[0m\u001b[1;33m(\u001b[0m\u001b[0ms\u001b[0m\u001b[1;33m,\u001b[0m \u001b[0mkey\u001b[0m\u001b[1;33m)\u001b[0m\u001b[1;33m\u001b[0m\u001b[1;33m\u001b[0m\u001b[0m\n\u001b[0m\u001b[0;32m   4737\u001b[0m             \u001b[1;32mexcept\u001b[0m \u001b[0mIndexError\u001b[0m\u001b[1;33m:\u001b[0m\u001b[1;33m\u001b[0m\u001b[1;33m\u001b[0m\u001b[0m\n\u001b[0;32m   4738\u001b[0m                 \u001b[1;32mraise\u001b[0m\u001b[1;33m\u001b[0m\u001b[1;33m\u001b[0m\u001b[0m\n",
      "\u001b[1;32mpandas\\_libs\\index.pyx\u001b[0m in \u001b[0;36mpandas._libs.index.get_value_box\u001b[1;34m()\u001b[0m\n",
      "\u001b[1;32mpandas\\_libs\\index.pyx\u001b[0m in \u001b[0;36mpandas._libs.index.get_value_at\u001b[1;34m()\u001b[0m\n",
      "\u001b[1;32mpandas\\_libs\\util.pxd\u001b[0m in \u001b[0;36mpandas._libs.util.get_value_at\u001b[1;34m()\u001b[0m\n",
      "\u001b[1;32mpandas\\_libs\\util.pxd\u001b[0m in \u001b[0;36mpandas._libs.util.validate_indexer\u001b[1;34m()\u001b[0m\n",
      "\u001b[1;31mIndexError\u001b[0m: index out of bounds"
     ]
    }
   ],
   "source": [
    "print(s[5])\n",
    "#will throw Index Error"
   ]
  },
  {
   "cell_type": "code",
   "execution_count": 89,
   "metadata": {},
   "outputs": [
    {
     "name": "stdout",
     "output_type": "stream",
     "text": [
      "a       1\n",
      "b     2.3\n",
      "c    Name\n",
      "d       4\n",
      "e    True\n",
      "dtype: object\n",
      "----------------\n",
      "1\n",
      "2.3\n",
      "Name\n",
      "4\n",
      "True\n"
     ]
    }
   ],
   "source": [
    "s = pd.Series([1, 2.3, \"Name\", 4, True],index = ['a','b','c','d','e'])\n",
    "print(s)\n",
    "print(\"----------------\")\n",
    "print(s['a'])\n",
    "print(s['b'])\n",
    "print(s[2])\n",
    "print(s[3])\n",
    "print(s[4])"
   ]
  },
  {
   "cell_type": "code",
   "execution_count": null,
   "metadata": {},
   "outputs": [],
   "source": []
  },
  {
   "cell_type": "code",
   "execution_count": null,
   "metadata": {},
   "outputs": [],
   "source": []
  },
  {
   "cell_type": "code",
   "execution_count": null,
   "metadata": {},
   "outputs": [],
   "source": []
  },
  {
   "cell_type": "code",
   "execution_count": null,
   "metadata": {},
   "outputs": [],
   "source": []
  },
  {
   "cell_type": "code",
   "execution_count": null,
   "metadata": {},
   "outputs": [],
   "source": []
  },
  {
   "cell_type": "code",
   "execution_count": null,
   "metadata": {},
   "outputs": [],
   "source": []
  },
  {
   "cell_type": "code",
   "execution_count": null,
   "metadata": {},
   "outputs": [],
   "source": []
  },
  {
   "cell_type": "code",
   "execution_count": null,
   "metadata": {},
   "outputs": [],
   "source": []
  },
  {
   "cell_type": "code",
   "execution_count": null,
   "metadata": {},
   "outputs": [],
   "source": []
  },
  {
   "cell_type": "code",
   "execution_count": null,
   "metadata": {},
   "outputs": [],
   "source": []
  },
  {
   "cell_type": "code",
   "execution_count": null,
   "metadata": {},
   "outputs": [],
   "source": []
  },
  {
   "cell_type": "code",
   "execution_count": null,
   "metadata": {},
   "outputs": [],
   "source": []
  },
  {
   "cell_type": "code",
   "execution_count": null,
   "metadata": {},
   "outputs": [],
   "source": []
  },
  {
   "cell_type": "code",
   "execution_count": null,
   "metadata": {},
   "outputs": [],
   "source": []
  },
  {
   "cell_type": "code",
   "execution_count": null,
   "metadata": {},
   "outputs": [],
   "source": []
  },
  {
   "cell_type": "code",
   "execution_count": null,
   "metadata": {},
   "outputs": [],
   "source": []
  },
  {
   "cell_type": "code",
   "execution_count": null,
   "metadata": {},
   "outputs": [],
   "source": []
  },
  {
   "cell_type": "code",
   "execution_count": null,
   "metadata": {},
   "outputs": [],
   "source": []
  },
  {
   "cell_type": "code",
   "execution_count": null,
   "metadata": {},
   "outputs": [],
   "source": []
  },
  {
   "cell_type": "code",
   "execution_count": null,
   "metadata": {},
   "outputs": [],
   "source": []
  },
  {
   "cell_type": "code",
   "execution_count": null,
   "metadata": {},
   "outputs": [],
   "source": []
  },
  {
   "cell_type": "code",
   "execution_count": null,
   "metadata": {},
   "outputs": [],
   "source": []
  },
  {
   "cell_type": "code",
   "execution_count": null,
   "metadata": {},
   "outputs": [],
   "source": []
  },
  {
   "cell_type": "code",
   "execution_count": null,
   "metadata": {},
   "outputs": [],
   "source": []
  },
  {
   "cell_type": "code",
   "execution_count": null,
   "metadata": {},
   "outputs": [],
   "source": []
  },
  {
   "cell_type": "code",
   "execution_count": null,
   "metadata": {},
   "outputs": [],
   "source": []
  }
 ],
 "metadata": {
  "kernelspec": {
   "display_name": "Python 3",
   "language": "python",
   "name": "python3"
  },
  "language_info": {
   "codemirror_mode": {
    "name": "ipython",
    "version": 3
   },
   "file_extension": ".py",
   "mimetype": "text/x-python",
   "name": "python",
   "nbconvert_exporter": "python",
   "pygments_lexer": "ipython3",
   "version": "3.7.4"
  }
 },
 "nbformat": 4,
 "nbformat_minor": 2
}
