{
 "cells": [
  {
   "cell_type": "code",
   "execution_count": 3,
   "metadata": {},
   "outputs": [],
   "source": [
    "import pandas as pd\n",
    "import numpy as np"
   ]
  },
  {
   "cell_type": "markdown",
   "metadata": {},
   "source": [
    "## Accessing Data from Series with Slicing"
   ]
  },
  {
   "cell_type": "code",
   "execution_count": 4,
   "metadata": {},
   "outputs": [
    {
     "name": "stdout",
     "output_type": "stream",
     "text": [
      "a       1\n",
      "b     2.3\n",
      "c    Name\n",
      "d       4\n",
      "e    True\n",
      "dtype: object\n"
     ]
    }
   ],
   "source": [
    "\n",
    "s = pd.Series([1, 2.3, \"Name\", 4, True],index = ['a','b','c','d','e'])\n",
    "print(s)"
   ]
  },
  {
   "cell_type": "code",
   "execution_count": 5,
   "metadata": {},
   "outputs": [
    {
     "name": "stdout",
     "output_type": "stream",
     "text": [
      "a       1\n",
      "b     2.3\n",
      "c    Name\n",
      "d       4\n",
      "e    True\n",
      "dtype: object\n"
     ]
    }
   ],
   "source": [
    "print(s[:])"
   ]
  },
  {
   "cell_type": "code",
   "execution_count": 7,
   "metadata": {},
   "outputs": [
    {
     "name": "stdout",
     "output_type": "stream",
     "text": [
      "a       1\n",
      "c    Name\n",
      "e    True\n",
      "dtype: object\n"
     ]
    }
   ],
   "source": [
    "print(s[0:6:2])"
   ]
  },
  {
   "cell_type": "code",
   "execution_count": null,
   "metadata": {},
   "outputs": [],
   "source": [
    "print(s[1:4])"
   ]
  },
  {
   "cell_type": "markdown",
   "metadata": {},
   "source": [
    "### Attribute slicing also possible\n",
    "### In attribute slicing the last index also INCLUDED"
   ]
  },
  {
   "cell_type": "code",
   "execution_count": 8,
   "metadata": {},
   "outputs": [
    {
     "name": "stdout",
     "output_type": "stream",
     "text": [
      "c    Name\n",
      "d       4\n",
      "e    True\n",
      "dtype: object\n"
     ]
    }
   ],
   "source": [
    "print(s['c':'e'])"
   ]
  },
  {
   "cell_type": "code",
   "execution_count": 11,
   "metadata": {},
   "outputs": [
    {
     "name": "stdout",
     "output_type": "stream",
     "text": [
      "a       1\n",
      "b     2.3\n",
      "c    Name\n",
      "dtype: object\n"
     ]
    }
   ],
   "source": [
    "print(s[:3])"
   ]
  },
  {
   "cell_type": "code",
   "execution_count": 12,
   "metadata": {},
   "outputs": [
    {
     "name": "stdout",
     "output_type": "stream",
     "text": [
      "c    Name\n",
      "d       4\n",
      "e    True\n",
      "dtype: object\n"
     ]
    }
   ],
   "source": [
    "print(s[-3:])"
   ]
  },
  {
   "cell_type": "code",
   "execution_count": 13,
   "metadata": {},
   "outputs": [
    {
     "name": "stdout",
     "output_type": "stream",
     "text": [
      "a     1\n",
      "cc    3\n",
      "d     4\n",
      "dtype: int64\n"
     ]
    }
   ],
   "source": [
    "#Retrieve multiple elements using a list of index label values.\n",
    "s = pd.Series([ 1, 2, 3, 4, 5 ],index = ['a','b','cc','d','ee'])\n",
    "print(s[['a', 'cc', 'd']])#observe the [[ ]] not []\n"
   ]
  },
  {
   "cell_type": "code",
   "execution_count": 14,
   "metadata": {},
   "outputs": [
    {
     "ename": "KeyError",
     "evalue": "'f'",
     "output_type": "error",
     "traceback": [
      "\u001b[1;31m---------------------------------------------------------------------------\u001b[0m",
      "\u001b[1;31mTypeError\u001b[0m                                 Traceback (most recent call last)",
      "\u001b[1;32mD:\\Anaconda3\\lib\\site-packages\\pandas\\core\\indexes\\base.py\u001b[0m in \u001b[0;36mget_value\u001b[1;34m(self, series, key)\u001b[0m\n\u001b[0;32m   4735\u001b[0m             \u001b[1;32mtry\u001b[0m\u001b[1;33m:\u001b[0m\u001b[1;33m\u001b[0m\u001b[1;33m\u001b[0m\u001b[0m\n\u001b[1;32m-> 4736\u001b[1;33m                 \u001b[1;32mreturn\u001b[0m \u001b[0mlibindex\u001b[0m\u001b[1;33m.\u001b[0m\u001b[0mget_value_box\u001b[0m\u001b[1;33m(\u001b[0m\u001b[0ms\u001b[0m\u001b[1;33m,\u001b[0m \u001b[0mkey\u001b[0m\u001b[1;33m)\u001b[0m\u001b[1;33m\u001b[0m\u001b[1;33m\u001b[0m\u001b[0m\n\u001b[0m\u001b[0;32m   4737\u001b[0m             \u001b[1;32mexcept\u001b[0m \u001b[0mIndexError\u001b[0m\u001b[1;33m:\u001b[0m\u001b[1;33m\u001b[0m\u001b[1;33m\u001b[0m\u001b[0m\n",
      "\u001b[1;32mpandas\\_libs\\index.pyx\u001b[0m in \u001b[0;36mpandas._libs.index.get_value_box\u001b[1;34m()\u001b[0m\n",
      "\u001b[1;32mpandas\\_libs\\index.pyx\u001b[0m in \u001b[0;36mpandas._libs.index.get_value_at\u001b[1;34m()\u001b[0m\n",
      "\u001b[1;32mpandas\\_libs\\util.pxd\u001b[0m in \u001b[0;36mpandas._libs.util.get_value_at\u001b[1;34m()\u001b[0m\n",
      "\u001b[1;32mpandas\\_libs\\util.pxd\u001b[0m in \u001b[0;36mpandas._libs.util.validate_indexer\u001b[1;34m()\u001b[0m\n",
      "\u001b[1;31mTypeError\u001b[0m: 'str' object cannot be interpreted as an integer",
      "\nDuring handling of the above exception, another exception occurred:\n",
      "\u001b[1;31mKeyError\u001b[0m                                  Traceback (most recent call last)",
      "\u001b[1;32m<ipython-input-14-6458e5234646>\u001b[0m in \u001b[0;36m<module>\u001b[1;34m\u001b[0m\n\u001b[0;32m      1\u001b[0m \u001b[0ms\u001b[0m \u001b[1;33m=\u001b[0m \u001b[0mpd\u001b[0m\u001b[1;33m.\u001b[0m\u001b[0mSeries\u001b[0m\u001b[1;33m(\u001b[0m\u001b[1;33m[\u001b[0m \u001b[1;36m1\u001b[0m\u001b[1;33m,\u001b[0m \u001b[1;36m2\u001b[0m\u001b[1;33m,\u001b[0m \u001b[1;36m3\u001b[0m\u001b[1;33m,\u001b[0m \u001b[1;36m4\u001b[0m\u001b[1;33m,\u001b[0m \u001b[1;36m5\u001b[0m \u001b[1;33m]\u001b[0m\u001b[1;33m,\u001b[0m\u001b[0mindex\u001b[0m \u001b[1;33m=\u001b[0m \u001b[1;33m[\u001b[0m\u001b[1;34m'a'\u001b[0m\u001b[1;33m,\u001b[0m\u001b[1;34m'b'\u001b[0m\u001b[1;33m,\u001b[0m\u001b[1;34m'cc'\u001b[0m\u001b[1;33m,\u001b[0m\u001b[1;34m'd'\u001b[0m\u001b[1;33m,\u001b[0m\u001b[1;34m'ee'\u001b[0m\u001b[1;33m]\u001b[0m\u001b[1;33m)\u001b[0m\u001b[1;33m\u001b[0m\u001b[1;33m\u001b[0m\u001b[0m\n\u001b[1;32m----> 2\u001b[1;33m \u001b[0mprint\u001b[0m\u001b[1;33m(\u001b[0m\u001b[0ms\u001b[0m\u001b[1;33m[\u001b[0m\u001b[1;34m'f'\u001b[0m\u001b[1;33m]\u001b[0m\u001b[1;33m)\u001b[0m\u001b[1;33m\u001b[0m\u001b[1;33m\u001b[0m\u001b[0m\n\u001b[0m\u001b[0;32m      3\u001b[0m \u001b[1;31m#if label is not contained will throw key error\u001b[0m\u001b[1;33m\u001b[0m\u001b[1;33m\u001b[0m\u001b[1;33m\u001b[0m\u001b[0m\n",
      "\u001b[1;32mD:\\Anaconda3\\lib\\site-packages\\pandas\\core\\series.py\u001b[0m in \u001b[0;36m__getitem__\u001b[1;34m(self, key)\u001b[0m\n\u001b[0;32m   1066\u001b[0m         \u001b[0mkey\u001b[0m \u001b[1;33m=\u001b[0m \u001b[0mcom\u001b[0m\u001b[1;33m.\u001b[0m\u001b[0mapply_if_callable\u001b[0m\u001b[1;33m(\u001b[0m\u001b[0mkey\u001b[0m\u001b[1;33m,\u001b[0m \u001b[0mself\u001b[0m\u001b[1;33m)\u001b[0m\u001b[1;33m\u001b[0m\u001b[1;33m\u001b[0m\u001b[0m\n\u001b[0;32m   1067\u001b[0m         \u001b[1;32mtry\u001b[0m\u001b[1;33m:\u001b[0m\u001b[1;33m\u001b[0m\u001b[1;33m\u001b[0m\u001b[0m\n\u001b[1;32m-> 1068\u001b[1;33m             \u001b[0mresult\u001b[0m \u001b[1;33m=\u001b[0m \u001b[0mself\u001b[0m\u001b[1;33m.\u001b[0m\u001b[0mindex\u001b[0m\u001b[1;33m.\u001b[0m\u001b[0mget_value\u001b[0m\u001b[1;33m(\u001b[0m\u001b[0mself\u001b[0m\u001b[1;33m,\u001b[0m \u001b[0mkey\u001b[0m\u001b[1;33m)\u001b[0m\u001b[1;33m\u001b[0m\u001b[1;33m\u001b[0m\u001b[0m\n\u001b[0m\u001b[0;32m   1069\u001b[0m \u001b[1;33m\u001b[0m\u001b[0m\n\u001b[0;32m   1070\u001b[0m             \u001b[1;32mif\u001b[0m \u001b[1;32mnot\u001b[0m \u001b[0mis_scalar\u001b[0m\u001b[1;33m(\u001b[0m\u001b[0mresult\u001b[0m\u001b[1;33m)\u001b[0m\u001b[1;33m:\u001b[0m\u001b[1;33m\u001b[0m\u001b[1;33m\u001b[0m\u001b[0m\n",
      "\u001b[1;32mD:\\Anaconda3\\lib\\site-packages\\pandas\\core\\indexes\\base.py\u001b[0m in \u001b[0;36mget_value\u001b[1;34m(self, series, key)\u001b[0m\n\u001b[0;32m   4742\u001b[0m                     \u001b[1;32mraise\u001b[0m \u001b[0mInvalidIndexError\u001b[0m\u001b[1;33m(\u001b[0m\u001b[0mkey\u001b[0m\u001b[1;33m)\u001b[0m\u001b[1;33m\u001b[0m\u001b[1;33m\u001b[0m\u001b[0m\n\u001b[0;32m   4743\u001b[0m                 \u001b[1;32melse\u001b[0m\u001b[1;33m:\u001b[0m\u001b[1;33m\u001b[0m\u001b[1;33m\u001b[0m\u001b[0m\n\u001b[1;32m-> 4744\u001b[1;33m                     \u001b[1;32mraise\u001b[0m \u001b[0me1\u001b[0m\u001b[1;33m\u001b[0m\u001b[1;33m\u001b[0m\u001b[0m\n\u001b[0m\u001b[0;32m   4745\u001b[0m             \u001b[1;32mexcept\u001b[0m \u001b[0mException\u001b[0m\u001b[1;33m:\u001b[0m  \u001b[1;31m# pragma: no cover\u001b[0m\u001b[1;33m\u001b[0m\u001b[1;33m\u001b[0m\u001b[0m\n\u001b[0;32m   4746\u001b[0m                 \u001b[1;32mraise\u001b[0m \u001b[0me1\u001b[0m\u001b[1;33m\u001b[0m\u001b[1;33m\u001b[0m\u001b[0m\n",
      "\u001b[1;32mD:\\Anaconda3\\lib\\site-packages\\pandas\\core\\indexes\\base.py\u001b[0m in \u001b[0;36mget_value\u001b[1;34m(self, series, key)\u001b[0m\n\u001b[0;32m   4728\u001b[0m         \u001b[0mk\u001b[0m \u001b[1;33m=\u001b[0m \u001b[0mself\u001b[0m\u001b[1;33m.\u001b[0m\u001b[0m_convert_scalar_indexer\u001b[0m\u001b[1;33m(\u001b[0m\u001b[0mk\u001b[0m\u001b[1;33m,\u001b[0m \u001b[0mkind\u001b[0m\u001b[1;33m=\u001b[0m\u001b[1;34m\"getitem\"\u001b[0m\u001b[1;33m)\u001b[0m\u001b[1;33m\u001b[0m\u001b[1;33m\u001b[0m\u001b[0m\n\u001b[0;32m   4729\u001b[0m         \u001b[1;32mtry\u001b[0m\u001b[1;33m:\u001b[0m\u001b[1;33m\u001b[0m\u001b[1;33m\u001b[0m\u001b[0m\n\u001b[1;32m-> 4730\u001b[1;33m             \u001b[1;32mreturn\u001b[0m \u001b[0mself\u001b[0m\u001b[1;33m.\u001b[0m\u001b[0m_engine\u001b[0m\u001b[1;33m.\u001b[0m\u001b[0mget_value\u001b[0m\u001b[1;33m(\u001b[0m\u001b[0ms\u001b[0m\u001b[1;33m,\u001b[0m \u001b[0mk\u001b[0m\u001b[1;33m,\u001b[0m \u001b[0mtz\u001b[0m\u001b[1;33m=\u001b[0m\u001b[0mgetattr\u001b[0m\u001b[1;33m(\u001b[0m\u001b[0mseries\u001b[0m\u001b[1;33m.\u001b[0m\u001b[0mdtype\u001b[0m\u001b[1;33m,\u001b[0m \u001b[1;34m\"tz\"\u001b[0m\u001b[1;33m,\u001b[0m \u001b[1;32mNone\u001b[0m\u001b[1;33m)\u001b[0m\u001b[1;33m)\u001b[0m\u001b[1;33m\u001b[0m\u001b[1;33m\u001b[0m\u001b[0m\n\u001b[0m\u001b[0;32m   4731\u001b[0m         \u001b[1;32mexcept\u001b[0m \u001b[0mKeyError\u001b[0m \u001b[1;32mas\u001b[0m \u001b[0me1\u001b[0m\u001b[1;33m:\u001b[0m\u001b[1;33m\u001b[0m\u001b[1;33m\u001b[0m\u001b[0m\n\u001b[0;32m   4732\u001b[0m             \u001b[1;32mif\u001b[0m \u001b[0mlen\u001b[0m\u001b[1;33m(\u001b[0m\u001b[0mself\u001b[0m\u001b[1;33m)\u001b[0m \u001b[1;33m>\u001b[0m \u001b[1;36m0\u001b[0m \u001b[1;32mand\u001b[0m \u001b[1;33m(\u001b[0m\u001b[0mself\u001b[0m\u001b[1;33m.\u001b[0m\u001b[0mholds_integer\u001b[0m\u001b[1;33m(\u001b[0m\u001b[1;33m)\u001b[0m \u001b[1;32mor\u001b[0m \u001b[0mself\u001b[0m\u001b[1;33m.\u001b[0m\u001b[0mis_boolean\u001b[0m\u001b[1;33m(\u001b[0m\u001b[1;33m)\u001b[0m\u001b[1;33m)\u001b[0m\u001b[1;33m:\u001b[0m\u001b[1;33m\u001b[0m\u001b[1;33m\u001b[0m\u001b[0m\n",
      "\u001b[1;32mpandas\\_libs\\index.pyx\u001b[0m in \u001b[0;36mpandas._libs.index.IndexEngine.get_value\u001b[1;34m()\u001b[0m\n",
      "\u001b[1;32mpandas\\_libs\\index.pyx\u001b[0m in \u001b[0;36mpandas._libs.index.IndexEngine.get_value\u001b[1;34m()\u001b[0m\n",
      "\u001b[1;32mpandas\\_libs\\index.pyx\u001b[0m in \u001b[0;36mpandas._libs.index.IndexEngine.get_loc\u001b[1;34m()\u001b[0m\n",
      "\u001b[1;32mpandas\\_libs\\hashtable_class_helper.pxi\u001b[0m in \u001b[0;36mpandas._libs.hashtable.PyObjectHashTable.get_item\u001b[1;34m()\u001b[0m\n",
      "\u001b[1;32mpandas\\_libs\\hashtable_class_helper.pxi\u001b[0m in \u001b[0;36mpandas._libs.hashtable.PyObjectHashTable.get_item\u001b[1;34m()\u001b[0m\n",
      "\u001b[1;31mKeyError\u001b[0m: 'f'"
     ]
    }
   ],
   "source": [
    "s = pd.Series([ 1, 2, 3, 4, 5 ],index = ['a','b','cc','d','ee'])\n",
    "print(s['f'])\n",
    "#if label is not contained will throw key error"
   ]
  },
  {
   "cell_type": "markdown",
   "metadata": {},
   "source": [
    "### Properties of Series"
   ]
  },
  {
   "cell_type": "code",
   "execution_count": 15,
   "metadata": {},
   "outputs": [
    {
     "name": "stdout",
     "output_type": "stream",
     "text": [
      "[ -67  442   68    8 -100]\n",
      "-------------------\n"
     ]
    }
   ],
   "source": [
    "lstOfBankBalance = [-67, 442, 68, 8, -100]\n",
    "idx = [200, 400, 600, 800, 1000]\n",
    "bankData = np.array(lstOfBankBalance)\n",
    "print (bankData)\n",
    "print(\"-------------------\")\n"
   ]
  },
  {
   "cell_type": "code",
   "execution_count": 19,
   "metadata": {},
   "outputs": [
    {
     "name": "stdout",
     "output_type": "stream",
     "text": [
      "After applying index :\n",
      " 200     -67\n",
      "400     442\n",
      "600      68\n",
      "800       8\n",
      "1000   -100\n",
      "dtype: int32\n",
      "-------------------\n",
      " Adding new integer index\n",
      "200      -67.00\n",
      "400      442.00\n",
      "600       68.00\n",
      "800        8.00\n",
      "1000    -100.00\n",
      "9       2222.12\n",
      "dtype: float64\n",
      "-------------------\n",
      " Adding new string value to the index\n",
      "200      -67.00\n",
      "400      442.00\n",
      "600       68.00\n",
      "800        8.00\n",
      "1000    -100.00\n",
      "9       2222.12\n",
      "dtype: float64\n",
      "-------------------\n"
     ]
    }
   ],
   "source": [
    "s = pd.Series(data=bankData,copy=True, index=idx,)\n",
    "print(\"After applying index :\\n\", s)\n",
    "print(\"-------------------\")\n",
    "#\n",
    "print(\" Adding new integer index\")\n",
    "s[9] = 2222.12 # The index 9 is interger// now the entire series's index become int64\n",
    "(s.index)\n",
    "print(s)\n",
    "#\n",
    "print(\"-------------------\")\n",
    "print(\" Adding new string value to the index\") # appending new string element to Series /now the entire series's become object\n",
    "# s[3000] = \"5 percent\"\n",
    "print(s)\n",
    "print(\"-------------------\")"
   ]
  },
  {
   "cell_type": "code",
   "execution_count": 24,
   "metadata": {},
   "outputs": [
    {
     "name": "stdout",
     "output_type": "stream",
     "text": [
      "dtype : float64\n",
      "Length :  6\n",
      "s.size :  6\n",
      "NBYTES :  48\n",
      "s.ndim:  1\n",
      "s.index:  Int64Index([200, 400, 600, 800, 1000, 9], dtype='int64')\n",
      "s.keys():  Int64Index([200, 400, 600, 800, 1000, 9], dtype='int64')\n",
      "s.items():  <zip object at 0x0000024374D7EF88>\n",
      "s.values :  [ -67.    442.     68.      8.   -100.   2222.12]\n",
      "-------------------\n",
      "s.array() :  <PandasArray>\n",
      "[-67.0, 442.0, 68.0, 8.0, -100.0, 2222.12]\n",
      "Length: 6, dtype: float64\n",
      "-------------------\n",
      "s.abs : \n",
      " 200       67.00\n",
      "400      442.00\n",
      "600       68.00\n",
      "800        8.00\n",
      "1000     100.00\n",
      "9       2222.12\n",
      "dtype: float64\n",
      "-------------------\n"
     ]
    }
   ],
   "source": [
    "print(\"dtype :\", s.dtype)\n",
    "print(\"Length : \", len(s))\n",
    "print(\"s.size : \", s.size)\n",
    "print(\"NBYTES : \",s.nbytes)\n",
    "print(\"s.ndim: \", s.ndim)\n",
    "print(\"s.index: \", s.index)\n",
    "print(\"s.keys(): \", s.keys())\n",
    "print(\"s.items(): \", s.items()) #(See the code separately, it gives zip object)\n",
    "print(\"s.values : \", s.values) # values is a property not a method\n",
    "print(\"-------------------\")\n",
    "print(\"s.array() : \", s.array)\n",
    "print(\"-------------------\")\n",
    "print(\"s.abs : \\n\", s.abs()) # gives only absolute numerical value, removes all negatives. make sure the data does not have string\n",
    "print(\"-------------------\")\n"
   ]
  },
  {
   "cell_type": "code",
   "execution_count": 23,
   "metadata": {},
   "outputs": [
    {
     "name": "stdout",
     "output_type": "stream",
     "text": [
      "axes :  [Int64Index([200, 400, 600, 800, 1000, 9], dtype='int64')]\n"
     ]
    }
   ],
   "source": [
    "'''if don’t give explicit index, it takes the index from 0 and (axes\n",
    "attribute) gives the output as [RangeIndex(start=0, stop=5, step=1)], if we give the index\n",
    "explicitly, the output will be differ based on the index'''\n",
    "\n",
    "print(\"axes : \", s.axes) \n"
   ]
  },
  {
   "cell_type": "code",
   "execution_count": 30,
   "metadata": {},
   "outputs": [
    {
     "name": "stdout",
     "output_type": "stream",
     "text": [
      "True\n",
      "True\n",
      "None\n",
      "StudentMarks\n"
     ]
    }
   ],
   "source": [
    "print(s.any()) # s = pd.Series(data=[True,False])\n",
    "print(s.all()) # s = pd.Series(data=[True,False])\n",
    "print(s.name) \n",
    "ss = pd.Series(data=[91,92,39,94,55],copy=True, index=idx, name=\"StudentMarks\")\n",
    "print(ss.name)"
   ]
  },
  {
   "cell_type": "code",
   "execution_count": 31,
   "metadata": {},
   "outputs": [
    {
     "name": "stdout",
     "output_type": "stream",
     "text": [
      "4\n"
     ]
    },
    {
     "name": "stderr",
     "output_type": "stream",
     "text": [
      "D:\\Anaconda3\\lib\\site-packages\\ipykernel_launcher.py:3: FutureWarning: `item` has been deprecated and will be removed in a future version\n",
      "  This is separate from the ipykernel package so we can avoid doing imports until\n"
     ]
    }
   ],
   "source": [
    "da1 = 4\n",
    "s = pd.Series(data=da1)\n",
    "print(s.item())# it is possible only when the Series has only one value"
   ]
  },
  {
   "cell_type": "markdown",
   "metadata": {},
   "source": [
    "## Series. Items()\n",
    "### Output is a zip object\n"
   ]
  },
  {
   "cell_type": "code",
   "execution_count": 33,
   "metadata": {},
   "outputs": [
    {
     "name": "stdout",
     "output_type": "stream",
     "text": [
      "<zip object at 0x0000024374DB17C8>\n",
      "('a', 1)\n",
      "('b', 2.3)\n",
      "[('c', 'Name'), ('d', 4), ('e', True)]\n"
     ]
    }
   ],
   "source": [
    "s = pd.Series([1, 2.3, \"Name\", 4, True],index = ['a','b','c','d','e',])\n",
    "a = s.items()\n",
    "print(a)\n",
    "\n",
    "b = iter(a)\n",
    "print(next(b))\n",
    "print(next(b))\n",
    "print(list(a))"
   ]
  },
  {
   "cell_type": "markdown",
   "metadata": {},
   "source": [
    "### Series.str\n"
   ]
  },
  {
   "cell_type": "code",
   "execution_count": 37,
   "metadata": {},
   "outputs": [
    {
     "name": "stdout",
     "output_type": "stream",
     "text": [
      "0        IMALTA\n",
      "1    LOGANATHAN\n",
      "2         JEGAN\n",
      "3     RAJAGOPAL\n",
      "dtype: object\n",
      "0         [Im, lt, ]\n",
      "1    [Log, n, th, n]\n",
      "2           [Jeg, n]\n",
      "3     [R, j, gop, l]\n",
      "dtype: object\n",
      "0    False\n",
      "1     True\n",
      "2     True\n",
      "3    False\n",
      "dtype: bool\n"
     ]
    }
   ],
   "source": [
    "bankCustermerNames = [\"Imalta\", 'Loganathan', \"Jegan\", \"Rajagopal\"]\n",
    "s = pd.Series(data=bankCustermerNames)\n",
    "upper = s.str.upper()\n",
    "print(upper)\n",
    "print(s.str.split(\"a\"))\n",
    "print(s.str.endswith('n'))\n"
   ]
  },
  {
   "cell_type": "code",
   "execution_count": 38,
   "metadata": {},
   "outputs": [
    {
     "name": "stdout",
     "output_type": "stream",
     "text": [
      "Rajagopal\n"
     ]
    }
   ],
   "source": [
    "for item in s:\n",
    "    if item.startswith('R'):\n",
    "        print(item)"
   ]
  },
  {
   "cell_type": "markdown",
   "metadata": {},
   "source": [
    "### Describe()\n"
   ]
  },
  {
   "cell_type": "code",
   "execution_count": 39,
   "metadata": {},
   "outputs": [
    {
     "name": "stdout",
     "output_type": "stream",
     "text": [
      "original series \n",
      " 20      2.0\n",
      "40      4.0\n",
      "60      6.0\n",
      "80      8.0\n",
      "100    10.0\n",
      "dtype: float64\n",
      "=============\n",
      "count     5.000000\n",
      "mean      6.000000\n",
      "std       3.162278\n",
      "min       2.000000\n",
      "25%       4.000000\n",
      "50%       6.000000\n",
      "75%       8.000000\n",
      "max      10.000000\n",
      "dtype: float64\n"
     ]
    }
   ],
   "source": [
    "lst = [2, 4, 6, 8, 10]\n",
    "idx = [20,40,60,80,100]\n",
    "s = pd.Series(data=lst,dtype=float,copy=True, index=idx) # default index (starts from 0/zero)\n",
    "print(\"original series \\n\", s)\n",
    "print (\"=============\")\n",
    "print(s.describe())\n"
   ]
  },
  {
   "cell_type": "markdown",
   "metadata": {},
   "source": [
    "### Using + and * in Series"
   ]
  },
  {
   "cell_type": "code",
   "execution_count": 41,
   "metadata": {},
   "outputs": [
    {
     "name": "stdout",
     "output_type": "stream",
     "text": [
      "original series \n",
      " 0     2.0\n",
      "1     4.0\n",
      "2     6.0\n",
      "3     8.0\n",
      "4    10.0\n",
      "5     5.0\n",
      "Name: Internal Mark, dtype: float64\n",
      "=============\n",
      "original series \n",
      " 0     24.0\n",
      "1     43.0\n",
      "2     66.0\n",
      "3     86.0\n",
      "4    107.0\n",
      "Name: External Mark, dtype: float64\n",
      "0     26.0\n",
      "1     47.0\n",
      "2     72.0\n",
      "3     94.0\n",
      "4    117.0\n",
      "5      NaN\n",
      "dtype: float64\n",
      "=============\n",
      "0      48.0\n",
      "1     172.0\n",
      "2     396.0\n",
      "3     688.0\n",
      "4    1070.0\n",
      "5       NaN\n",
      "dtype: float64\n"
     ]
    }
   ],
   "source": [
    "InternalMark = [2, 4, 6, 8, 10,5]\n",
    "ExternalMark = [24, 43, 66, 86, 107]\n",
    "idx = [20,40,60,80,100]\n",
    "s1 = pd.Series(data=InternalMark,dtype=float,copy=True, name=\"Internal Mark\") # default index (starts from 0/zero)\n",
    "print(\"original series \\n\", s1)\n",
    "print(\"=============\")\n",
    "s2 = pd.Series(data=ExternalMark,dtype=float,copy=True, name=\"External Mark\") # default index (starts from 0/zero)\n",
    "print(\"original series \\n\", s2)\n",
    "print(s1+s2)\n",
    "print(\"=============\")\n",
    "print(s1*s2)\n"
   ]
  },
  {
   "cell_type": "code",
   "execution_count": null,
   "metadata": {},
   "outputs": [],
   "source": []
  }
 ],
 "metadata": {
  "kernelspec": {
   "display_name": "Python 3",
   "language": "python",
   "name": "python3"
  },
  "language_info": {
   "codemirror_mode": {
    "name": "ipython",
    "version": 3
   },
   "file_extension": ".py",
   "mimetype": "text/x-python",
   "name": "python",
   "nbconvert_exporter": "python",
   "pygments_lexer": "ipython3",
   "version": "3.7.4"
  }
 },
 "nbformat": 4,
 "nbformat_minor": 2
}
