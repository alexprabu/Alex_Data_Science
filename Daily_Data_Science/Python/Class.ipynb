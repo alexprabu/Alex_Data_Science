{
 "cells": [
  {
   "cell_type": "markdown",
   "metadata": {},
   "source": [
    "# Class\n",
    "\n",
    "    A class functions as a template that defines the basic characteristics of a particular object\n",
    "    \n",
    "    Method vs Function??\n",
    "    \n",
    "    "
   ]
  },
  {
   "cell_type": "code",
   "execution_count": 6,
   "metadata": {},
   "outputs": [],
   "source": [
    "# A simplest class\n",
    "\n",
    "class Bank:\n",
    "    pass\n",
    "\n",
    "bankObj = Bank() #Creating instance/object for class"
   ]
  },
  {
   "cell_type": "code",
   "execution_count": null,
   "metadata": {},
   "outputs": [],
   "source": []
  },
  {
   "cell_type": "code",
   "execution_count": 20,
   "metadata": {},
   "outputs": [],
   "source": [
    "class SBI:\n",
    "    headoffice = 'Mumbai' #Class variable\n",
    "    \n",
    "    def create_account(self, name, dob, address): #function inside class\n",
    "        print(name,dob,address)\n",
    "        print(type(alex))\n",
    "        print(SBI.headoffice) #accessing class variable"
   ]
  },
  {
   "cell_type": "code",
   "execution_count": 18,
   "metadata": {},
   "outputs": [],
   "source": [
    "alex = SBI()\n",
    "niral = SBI()"
   ]
  },
  {
   "cell_type": "code",
   "execution_count": 19,
   "metadata": {},
   "outputs": [
    {
     "name": "stdout",
     "output_type": "stream",
     "text": [
      "test 0393 chenn\n",
      "<class '__main__.SBI'>\n",
      "Mumbai\n"
     ]
    }
   ],
   "source": [
    "alex.create_account('test','0393','chenn')"
   ]
  },
  {
   "cell_type": "code",
   "execution_count": null,
   "metadata": {},
   "outputs": [],
   "source": []
  },
  {
   "cell_type": "code",
   "execution_count": null,
   "metadata": {},
   "outputs": [],
   "source": []
  },
  {
   "cell_type": "code",
   "execution_count": null,
   "metadata": {},
   "outputs": [],
   "source": []
  },
  {
   "cell_type": "code",
   "execution_count": 19,
   "metadata": {},
   "outputs": [],
   "source": [
    "class Employee:\n",
    "    gender = \"Male\"\n",
    "    location = \"Newyork\"\n",
    "    \n",
    "    def __init__(self, name, age): #Constructor\n",
    "        #A class has only one constructor\n",
    "        self.name = name #Instance variables (using self) self is like this in Java (current class's instance)\n",
    "        self.age = age\n",
    "            "
   ]
  },
  {
   "cell_type": "code",
   "execution_count": 20,
   "metadata": {},
   "outputs": [
    {
     "name": "stdout",
     "output_type": "stream",
     "text": [
      "Alex 35 Male Newyork\n",
      "Niralya 20 Male Newyork\n"
     ]
    }
   ],
   "source": [
    "emp1 = Employee('Alex', 35) #Initiallize the class instance emp1 \n",
    "emp2 = Employee('Niralya', 20) #for each instance, class variables can be diff\n",
    "print(emp1.name, emp1.age, emp1.gender, emp1.location)\n",
    "print(emp2.name, emp2.age, emp2.gender, emp2.location)\n"
   ]
  },
  {
   "cell_type": "code",
   "execution_count": 24,
   "metadata": {},
   "outputs": [],
   "source": [
    "emp2.gender = \"Female\"\n",
    "emp2.location = \"San Francisco\" #This modifications won't affect emp1 instance's variable"
   ]
  },
  {
   "cell_type": "code",
   "execution_count": 22,
   "metadata": {},
   "outputs": [
    {
     "name": "stdout",
     "output_type": "stream",
     "text": [
      "Alex 35 Male Newyork\n",
      "Niralya 20 Female San Francisco\n"
     ]
    }
   ],
   "source": [
    "print(emp1.name, emp1.age, emp1.gender, emp1.location)\n",
    "print(emp2.name, emp2.age, emp2.gender, emp2.location) "
   ]
  },
  {
   "cell_type": "code",
   "execution_count": null,
   "metadata": {},
   "outputs": [],
   "source": []
  },
  {
   "cell_type": "code",
   "execution_count": 30,
   "metadata": {},
   "outputs": [
    {
     "name": "stdout",
     "output_type": "stream",
     "text": [
      "18000\n"
     ]
    }
   ],
   "source": [
    "class Bank:\n",
    "    def __init__(self, FD, balance):\n",
    "        self.FD = FD\n",
    "        self.balance = balance\n",
    "    def withdraw(self, amount):\n",
    "        self.balance = self.balance - amount\n",
    "        return self.balance\n",
    "\n",
    "    \n",
    "account1 = Bank(50000, 20000)\n",
    "new_balance = account1.withdraw(1000)\n",
    "new_balance = account1.withdraw(1000)\n",
    "print(new_balance)"
   ]
  },
  {
   "cell_type": "code",
   "execution_count": 29,
   "metadata": {},
   "outputs": [
    {
     "name": "stdout",
     "output_type": "stream",
     "text": [
      "18000\n"
     ]
    }
   ],
   "source": []
  },
  {
   "cell_type": "code",
   "execution_count": null,
   "metadata": {},
   "outputs": [],
   "source": []
  },
  {
   "cell_type": "code",
   "execution_count": null,
   "metadata": {},
   "outputs": [],
   "source": []
  },
  {
   "cell_type": "code",
   "execution_count": null,
   "metadata": {},
   "outputs": [],
   "source": []
  },
  {
   "cell_type": "code",
   "execution_count": null,
   "metadata": {},
   "outputs": [],
   "source": []
  },
  {
   "cell_type": "code",
   "execution_count": null,
   "metadata": {},
   "outputs": [],
   "source": []
  },
  {
   "cell_type": "code",
   "execution_count": null,
   "metadata": {},
   "outputs": [],
   "source": []
  }
 ],
 "metadata": {
  "kernelspec": {
   "display_name": "Python 3",
   "language": "python",
   "name": "python3"
  },
  "language_info": {
   "codemirror_mode": {
    "name": "ipython",
    "version": 3
   },
   "file_extension": ".py",
   "mimetype": "text/x-python",
   "name": "python",
   "nbconvert_exporter": "python",
   "pygments_lexer": "ipython3",
   "version": "3.8.5"
  }
 },
 "nbformat": 4,
 "nbformat_minor": 4
}
