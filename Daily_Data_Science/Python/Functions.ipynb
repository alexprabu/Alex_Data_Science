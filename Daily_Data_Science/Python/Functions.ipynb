{
 "cells": [
  {
   "cell_type": "markdown",
   "metadata": {},
   "source": [
    "# Functions\n",
    "    Use def to declare a function\n",
    "    Fuction with parameter\n",
    "    Function without parameter\n",
    "    Fuction with default parameter\n",
    "    No of parameters must match no of arguments\n",
    "    Declaration of ............binding\n",
    "    Recursive functions??? recursions\n",
    "    Can pass a function as argument\n",
    "    ...\n",
    "    ...\n",
    "    ...\n",
    "    ...\n",
    "    **args will return an output in the form of Tuple\n",
    "    Cannot give normal arguments afer default\n",
    "    Cannot give normal arguments after *args but can give default arguments\n",
    "    None is immutable\n",
    "    Mutable object should be shared across function call\n",
    "    Semmantic Error (function parameter default argment value should be immutable, if it's mutable it will throw error)\n",
    "    If return not mentioned in function, it will return None when calling the function\n",
    "    \n",
    "    args - Arguments\n",
    "    kwargs - Keyword Arguments"
   ]
  },
  {
   "cell_type": "markdown",
   "metadata": {},
   "source": [
    "To check what are the default argument values declared in a function we can use ''_defaults_'' method"
   ]
  },
  {
   "cell_type": "code",
   "execution_count": 8,
   "metadata": {},
   "outputs": [],
   "source": [
    "def dispDetails(name, age=35, gender='Male'):\n",
    "    print(name, age, gender)"
   ]
  },
  {
   "cell_type": "code",
   "execution_count": 9,
   "metadata": {},
   "outputs": [
    {
     "name": "stdout",
     "output_type": "stream",
     "text": [
      "Alex 35 Male\n"
     ]
    }
   ],
   "source": [
    "dispDetails(\"Alex\")"
   ]
  },
  {
   "cell_type": "code",
   "execution_count": 10,
   "metadata": {},
   "outputs": [
    {
     "data": {
      "text/plain": [
       "(35, 'Male')"
      ]
     },
     "execution_count": 10,
     "metadata": {},
     "output_type": "execute_result"
    }
   ],
   "source": [
    "dispDetails.__defaults__"
   ]
  },
  {
   "cell_type": "code",
   "execution_count": null,
   "metadata": {},
   "outputs": [],
   "source": []
  },
  {
   "cell_type": "code",
   "execution_count": null,
   "metadata": {},
   "outputs": [],
   "source": []
  },
  {
   "cell_type": "code",
   "execution_count": null,
   "metadata": {},
   "outputs": [],
   "source": []
  },
  {
   "cell_type": "code",
   "execution_count": null,
   "metadata": {},
   "outputs": [],
   "source": []
  },
  {
   "cell_type": "code",
   "execution_count": null,
   "metadata": {},
   "outputs": [],
   "source": []
  },
  {
   "cell_type": "code",
   "execution_count": null,
   "metadata": {},
   "outputs": [],
   "source": []
  },
  {
   "cell_type": "code",
   "execution_count": null,
   "metadata": {},
   "outputs": [],
   "source": []
  },
  {
   "cell_type": "code",
   "execution_count": null,
   "metadata": {},
   "outputs": [],
   "source": []
  },
  {
   "cell_type": "code",
   "execution_count": null,
   "metadata": {},
   "outputs": [],
   "source": []
  },
  {
   "cell_type": "code",
   "execution_count": null,
   "metadata": {},
   "outputs": [],
   "source": []
  },
  {
   "cell_type": "code",
   "execution_count": null,
   "metadata": {},
   "outputs": [],
   "source": []
  },
  {
   "cell_type": "code",
   "execution_count": null,
   "metadata": {},
   "outputs": [],
   "source": []
  },
  {
   "cell_type": "code",
   "execution_count": null,
   "metadata": {},
   "outputs": [],
   "source": []
  },
  {
   "cell_type": "code",
   "execution_count": 1,
   "metadata": {},
   "outputs": [],
   "source": [
    "def func(**kwargs):\n",
    "    print(kwargs)\n",
    "    print(\"\\n\")\n",
    "    \n",
    "    for key in kwargs:\n",
    "        print(key+\": \"+ kwargs.get(key))\n",
    "    print(\"\\n\")    \n",
    "    \n",
    "    for item in kwargs.items():\n",
    "        print(\"item: \", item)"
   ]
  },
  {
   "cell_type": "code",
   "execution_count": 2,
   "metadata": {},
   "outputs": [
    {
     "name": "stdout",
     "output_type": "stream",
     "text": [
      "{'value1': 'Seltos', 'value2': 'Creta', 'value3': 'Kushaq'}\n",
      "\n",
      "\n",
      "value1: Seltos\n",
      "value2: Creta\n",
      "value3: Kushaq\n",
      "\n",
      "\n",
      "item:  ('value1', 'Seltos')\n",
      "item:  ('value2', 'Creta')\n",
      "item:  ('value3', 'Kushaq')\n"
     ]
    }
   ],
   "source": [
    "a = func(value1 = 'Seltos', value2 = 'Creta', value3='Kushaq')"
   ]
  },
  {
   "cell_type": "code",
   "execution_count": 3,
   "metadata": {},
   "outputs": [
    {
     "name": "stdout",
     "output_type": "stream",
     "text": [
      "{'value1': 'Seltos', 'value2': 'Creta', 'value3': 'Kushaq'}\n",
      "\n",
      "\n",
      "value1: Seltos\n",
      "value2: Creta\n",
      "value3: Kushaq\n",
      "\n",
      "\n",
      "item:  ('value1', 'Seltos')\n",
      "item:  ('value2', 'Creta')\n",
      "item:  ('value3', 'Kushaq')\n"
     ]
    }
   ],
   "source": [
    "dict1 = {'value1':'Seltos', 'value2':'Creta', 'value3':'Kushaq'}\n",
    "func(**dict1) #unpacking a dictionary and passing as a parameter. to unpack a dictionary we must to use **"
   ]
  },
  {
   "cell_type": "code",
   "execution_count": 5,
   "metadata": {},
   "outputs": [
    {
     "ename": "TypeError",
     "evalue": "func() argument after * must be an iterable, not type",
     "output_type": "error",
     "traceback": [
      "\u001b[1;31m---------------------------------------------------------------------------\u001b[0m",
      "\u001b[1;31mTypeError\u001b[0m                                 Traceback (most recent call last)",
      "\u001b[1;32m<ipython-input-5-5d374590f033>\u001b[0m in \u001b[0;36m<module>\u001b[1;34m\u001b[0m\n\u001b[1;32m----> 1\u001b[1;33m \u001b[0mfunc\u001b[0m\u001b[1;33m(\u001b[0m\u001b[1;33m*\u001b[0m\u001b[0mdict\u001b[0m\u001b[1;33m)\u001b[0m \u001b[1;31m#will throw error if we pass single star (*) for dictionary arguments\u001b[0m\u001b[1;33m\u001b[0m\u001b[1;33m\u001b[0m\u001b[0m\n\u001b[0m",
      "\u001b[1;31mTypeError\u001b[0m: func() argument after * must be an iterable, not type"
     ]
    }
   ],
   "source": [
    "func(*dict) #will throw error if we pass single star (*) for dictionary arguments"
   ]
  },
  {
   "cell_type": "code",
   "execution_count": null,
   "metadata": {},
   "outputs": [],
   "source": []
  },
  {
   "cell_type": "code",
   "execution_count": null,
   "metadata": {},
   "outputs": [],
   "source": []
  },
  {
   "cell_type": "markdown",
   "metadata": {},
   "source": [
    "## Closure Function\n",
    "\n",
    "   <b>InterviewQ:</b> Closure function is important interview question and important question on Europe data science certification \n",
    "        closure function is always nested function\n",
    "        \n",
    "        \n",
    "        we can create object for functions uising enclosing and enclosed function"
   ]
  },
  {
   "cell_type": "code",
   "execution_count": 62,
   "metadata": {},
   "outputs": [],
   "source": [
    "def rbi(x): #Enclosing Function\n",
    "    def sbi(y): #Enclosed Function\n",
    "        return y+x\n",
    "    return sbi #parent function must return child function's name"
   ]
  },
  {
   "cell_type": "code",
   "execution_count": 63,
   "metadata": {},
   "outputs": [
    {
     "name": "stdout",
     "output_type": "stream",
     "text": [
      "<class 'function'>\n",
      "<class 'function'>\n"
     ]
    }
   ],
   "source": [
    "result1 = rbi(1)\n",
    "print(type(result1))\n",
    "result2 = rbi(5)\n",
    "print(type(result2))\n"
   ]
  },
  {
   "cell_type": "code",
   "execution_count": 64,
   "metadata": {},
   "outputs": [
    {
     "name": "stdout",
     "output_type": "stream",
     "text": [
      "6\n",
      "<class 'int'>\n",
      "10\n",
      "<class 'int'>\n"
     ]
    }
   ],
   "source": [
    "print(result1(5))\n",
    "print(type(result1(5)))\n",
    "\n",
    "print(result2(5))\n",
    "print(type(result2(5)))\n"
   ]
  },
  {
   "cell_type": "code",
   "execution_count": null,
   "metadata": {},
   "outputs": [],
   "source": []
  },
  {
   "cell_type": "code",
   "execution_count": 78,
   "metadata": {},
   "outputs": [],
   "source": [
    "def rbi(x): #Enclosing Function\n",
    "    def sbi(y): #Enclosed Function\n",
    "        return y+x\n",
    "    def iob(y): #Enclosed Function\n",
    "        return y-x\n",
    "    return sbi,iob #parent function must return child function's name"
   ]
  },
  {
   "cell_type": "code",
   "execution_count": 79,
   "metadata": {},
   "outputs": [
    {
     "name": "stdout",
     "output_type": "stream",
     "text": [
      "<class 'function'>\n",
      "<class 'function'>\n"
     ]
    }
   ],
   "source": [
    "result1, result2 = rbi(100)\n",
    "print(type(result1))\n",
    "print(type(result2))\n"
   ]
  },
  {
   "cell_type": "code",
   "execution_count": 80,
   "metadata": {},
   "outputs": [
    {
     "name": "stdout",
     "output_type": "stream",
     "text": [
      "105\n",
      "-94\n"
     ]
    }
   ],
   "source": [
    "print(result1(5))\n",
    "print(result2(6))"
   ]
  },
  {
   "cell_type": "code",
   "execution_count": null,
   "metadata": {},
   "outputs": [],
   "source": []
  }
 ],
 "metadata": {
  "kernelspec": {
   "display_name": "Python 3",
   "language": "python",
   "name": "python3"
  },
  "language_info": {
   "codemirror_mode": {
    "name": "ipython",
    "version": 3
   },
   "file_extension": ".py",
   "mimetype": "text/x-python",
   "name": "python",
   "nbconvert_exporter": "python",
   "pygments_lexer": "ipython3",
   "version": "3.8.5"
  }
 },
 "nbformat": 4,
 "nbformat_minor": 4
}
