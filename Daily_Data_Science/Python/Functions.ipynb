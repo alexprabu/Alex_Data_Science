{
 "cells": [
  {
   "cell_type": "markdown",
   "metadata": {},
   "source": [
    "# Functions\n",
    "    Use def to declare a function\n",
    "    Fuction with parameter\n",
    "    Function without parameter\n",
    "    Fuction with default parameter\n",
    "    No of parameters must match no of arguments\n",
    "    Declaration of ............binding\n",
    "    Recursive functions??? recursions\n",
    "    Can pass a function as argument\n",
    "    ...\n",
    "    ...\n",
    "    ...\n",
    "    ...\n",
    "    **args will return an output in the form of Tuple\n",
    "    Cannot give normal arguments afer default\n",
    "    Cannot give normal arguments after *args but can give default arguments\n",
    "    None is immutable\n",
    "    Mutable object should be shared across function call\n",
    "    Semmantic Error (function parameter default argment value should be immutable, if it's mutable it will throw error)\n",
    "    If return not mentioned in function, it will return None when calling the function\n",
    "    \n",
    "    args - Arguments\n",
    "    kwargs - Keyword Arguments"
   ]
  },
  {
   "cell_type": "code",
   "execution_count": null,
   "metadata": {},
   "outputs": [],
   "source": []
  },
  {
   "cell_type": "code",
   "execution_count": null,
   "metadata": {},
   "outputs": [],
   "source": []
  },
  {
   "cell_type": "code",
   "execution_count": null,
   "metadata": {},
   "outputs": [],
   "source": []
  },
  {
   "cell_type": "code",
   "execution_count": null,
   "metadata": {},
   "outputs": [],
   "source": []
  },
  {
   "cell_type": "code",
   "execution_count": null,
   "metadata": {},
   "outputs": [],
   "source": []
  },
  {
   "cell_type": "code",
   "execution_count": null,
   "metadata": {},
   "outputs": [],
   "source": []
  },
  {
   "cell_type": "code",
   "execution_count": null,
   "metadata": {},
   "outputs": [],
   "source": []
  },
  {
   "cell_type": "code",
   "execution_count": null,
   "metadata": {},
   "outputs": [],
   "source": []
  },
  {
   "cell_type": "code",
   "execution_count": null,
   "metadata": {},
   "outputs": [],
   "source": []
  },
  {
   "cell_type": "code",
   "execution_count": null,
   "metadata": {},
   "outputs": [],
   "source": []
  },
  {
   "cell_type": "code",
   "execution_count": null,
   "metadata": {},
   "outputs": [],
   "source": []
  },
  {
   "cell_type": "code",
   "execution_count": null,
   "metadata": {},
   "outputs": [],
   "source": []
  },
  {
   "cell_type": "code",
   "execution_count": null,
   "metadata": {},
   "outputs": [],
   "source": []
  },
  {
   "cell_type": "code",
   "execution_count": null,
   "metadata": {},
   "outputs": [],
   "source": []
  },
  {
   "cell_type": "code",
   "execution_count": null,
   "metadata": {},
   "outputs": [],
   "source": []
  },
  {
   "cell_type": "code",
   "execution_count": null,
   "metadata": {},
   "outputs": [],
   "source": []
  },
  {
   "cell_type": "code",
   "execution_count": null,
   "metadata": {},
   "outputs": [],
   "source": []
  },
  {
   "cell_type": "code",
   "execution_count": null,
   "metadata": {},
   "outputs": [],
   "source": []
  },
  {
   "cell_type": "code",
   "execution_count": 1,
   "metadata": {},
   "outputs": [],
   "source": [
    "def func(**kwargs):\n",
    "    print(kwargs)\n",
    "    print(\"\\n\")\n",
    "    \n",
    "    for key in kwargs:\n",
    "        print(key+\": \"+ kwargs.get(key))\n",
    "    print(\"\\n\")    \n",
    "    \n",
    "    for item in kwargs.items():\n",
    "        print(\"item: \", item)"
   ]
  },
  {
   "cell_type": "code",
   "execution_count": 2,
   "metadata": {},
   "outputs": [
    {
     "name": "stdout",
     "output_type": "stream",
     "text": [
      "{'value1': 'Seltos', 'value2': 'Creta', 'value3': 'Kushaq'}\n",
      "\n",
      "\n",
      "value1: Seltos\n",
      "value2: Creta\n",
      "value3: Kushaq\n",
      "\n",
      "\n",
      "item:  ('value1', 'Seltos')\n",
      "item:  ('value2', 'Creta')\n",
      "item:  ('value3', 'Kushaq')\n"
     ]
    }
   ],
   "source": [
    "a = func(value1 = 'Seltos', value2 = 'Creta', value3='Kushaq')"
   ]
  },
  {
   "cell_type": "code",
   "execution_count": 3,
   "metadata": {},
   "outputs": [
    {
     "name": "stdout",
     "output_type": "stream",
     "text": [
      "{'value1': 'Seltos', 'value2': 'Creta', 'value3': 'Kushaq'}\n",
      "\n",
      "\n",
      "value1: Seltos\n",
      "value2: Creta\n",
      "value3: Kushaq\n",
      "\n",
      "\n",
      "item:  ('value1', 'Seltos')\n",
      "item:  ('value2', 'Creta')\n",
      "item:  ('value3', 'Kushaq')\n"
     ]
    }
   ],
   "source": [
    "dict1 = {'value1':'Seltos', 'value2':'Creta', 'value3':'Kushaq'}\n",
    "func(**dict1) #unpacking a dictionary and passing as a parameter. to unpack a dictionary we must to use **"
   ]
  },
  {
   "cell_type": "code",
   "execution_count": 5,
   "metadata": {},
   "outputs": [
    {
     "ename": "TypeError",
     "evalue": "func() argument after * must be an iterable, not type",
     "output_type": "error",
     "traceback": [
      "\u001b[1;31m---------------------------------------------------------------------------\u001b[0m",
      "\u001b[1;31mTypeError\u001b[0m                                 Traceback (most recent call last)",
      "\u001b[1;32m<ipython-input-5-5d374590f033>\u001b[0m in \u001b[0;36m<module>\u001b[1;34m\u001b[0m\n\u001b[1;32m----> 1\u001b[1;33m \u001b[0mfunc\u001b[0m\u001b[1;33m(\u001b[0m\u001b[1;33m*\u001b[0m\u001b[0mdict\u001b[0m\u001b[1;33m)\u001b[0m \u001b[1;31m#will throw error if we pass single star (*) for dictionary arguments\u001b[0m\u001b[1;33m\u001b[0m\u001b[1;33m\u001b[0m\u001b[0m\n\u001b[0m",
      "\u001b[1;31mTypeError\u001b[0m: func() argument after * must be an iterable, not type"
     ]
    }
   ],
   "source": [
    "func(*dict) #will throw error if we pass single star (*) for dictionary arguments"
   ]
  },
  {
   "cell_type": "code",
   "execution_count": null,
   "metadata": {},
   "outputs": [],
   "source": []
  },
  {
   "cell_type": "code",
   "execution_count": null,
   "metadata": {},
   "outputs": [],
   "source": []
  },
  {
   "cell_type": "code",
   "execution_count": null,
   "metadata": {},
   "outputs": [],
   "source": []
  },
  {
   "cell_type": "code",
   "execution_count": null,
   "metadata": {},
   "outputs": [],
   "source": []
  },
  {
   "cell_type": "code",
   "execution_count": null,
   "metadata": {},
   "outputs": [],
   "source": []
  },
  {
   "cell_type": "code",
   "execution_count": null,
   "metadata": {},
   "outputs": [],
   "source": []
  },
  {
   "cell_type": "code",
   "execution_count": null,
   "metadata": {},
   "outputs": [],
   "source": []
  },
  {
   "cell_type": "code",
   "execution_count": null,
   "metadata": {},
   "outputs": [],
   "source": []
  },
  {
   "cell_type": "code",
   "execution_count": null,
   "metadata": {},
   "outputs": [],
   "source": []
  }
 ],
 "metadata": {
  "kernelspec": {
   "display_name": "Python 3",
   "language": "python",
   "name": "python3"
  },
  "language_info": {
   "codemirror_mode": {
    "name": "ipython",
    "version": 3
   },
   "file_extension": ".py",
   "mimetype": "text/x-python",
   "name": "python",
   "nbconvert_exporter": "python",
   "pygments_lexer": "ipython3",
   "version": "3.8.5"
  }
 },
 "nbformat": 4,
 "nbformat_minor": 4
}
