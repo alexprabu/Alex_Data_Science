{
 "cells": [
  {
   "cell_type": "markdown",
   "metadata": {},
   "source": [
    "# Functions\n",
    "    Use def to declare a function\n",
    "    No of parameters must match no of arguments\n",
    "    Declaration of ............binding\n",
    "    Recursive functions??? recursions\n",
    "    Can pass a function as argument\n",
    "    ...\n",
    "    ...\n",
    "    ...\n",
    "    ...\n",
    "    **args will return an output in the form of Tuple\n",
    "    Cannot give normal arguments afer default\n",
    "    Cannot give normal arguments after *args but can give default arguments\n",
    "    None is immutable\n",
    "    Mutable object should be shared across function call\n",
    "    Semmantic Error (function parameter default argment value should be immutable, if it's mutable it will throw error)"
   ]
  }
 ],
 "metadata": {
  "kernelspec": {
   "display_name": "Python 3",
   "language": "python",
   "name": "python3"
  },
  "language_info": {
   "codemirror_mode": {
    "name": "ipython",
    "version": 3
   },
   "file_extension": ".py",
   "mimetype": "text/x-python",
   "name": "python",
   "nbconvert_exporter": "python",
   "pygments_lexer": "ipython3",
   "version": "3.8.5"
  }
 },
 "nbformat": 4,
 "nbformat_minor": 4
}
