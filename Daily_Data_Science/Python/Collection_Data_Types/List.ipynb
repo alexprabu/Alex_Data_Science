{
 "cells": [
  {
   "cell_type": "markdown",
   "metadata": {},
   "source": [
    "# List\n",
    "    Ordered\n",
    "    Indexed\n",
    "    Duplicates Allowed\n",
    "    "
   ]
  },
  {
   "cell_type": "code",
   "execution_count": 1,
   "metadata": {},
   "outputs": [],
   "source": [
    "silapathikaram = [\"சிலப்பதிகாரம்\", 21, \"Sr.Data Analyst\", \"Single\", \"Ph.D\", \"Canara Bank\", \"sb_54\", 21, 21]"
   ]
  },
  {
   "cell_type": "code",
   "execution_count": 2,
   "metadata": {},
   "outputs": [],
   "source": [
    "set1 = set(silapathikaram)"
   ]
  },
  {
   "cell_type": "code",
   "execution_count": 3,
   "metadata": {},
   "outputs": [
    {
     "name": "stdout",
     "output_type": "stream",
     "text": [
      "{'sb_54', 'சிலப்பதிகாரம்', 'Single', 21, 'Sr.Data Analyst', 'Canara Bank', 'Ph.D'}\n"
     ]
    }
   ],
   "source": [
    "print(set1)"
   ]
  },
  {
   "cell_type": "code",
   "execution_count": 4,
   "metadata": {},
   "outputs": [
    {
     "data": {
      "text/plain": [
       "'sb_54'"
      ]
     },
     "execution_count": 4,
     "metadata": {},
     "output_type": "execute_result"
    }
   ],
   "source": [
    "set1.pop()"
   ]
  },
  {
   "cell_type": "code",
   "execution_count": 5,
   "metadata": {},
   "outputs": [
    {
     "name": "stdout",
     "output_type": "stream",
     "text": [
      "{'சிலப்பதிகாரம்', 'Single', 21, 'Sr.Data Analyst', 'Canara Bank', 'Ph.D'}\n"
     ]
    }
   ],
   "source": [
    "print(set1)"
   ]
  },
  {
   "cell_type": "code",
   "execution_count": 6,
   "metadata": {},
   "outputs": [],
   "source": [
    "lst = [\"சிலப்பதிகாரம்\", 21, \"Sr.Data Analyst\", \"Single\", \"Ph.D\", \"Canara Bank\", \"sb_54\", False]"
   ]
  },
  {
   "cell_type": "code",
   "execution_count": 7,
   "metadata": {},
   "outputs": [
    {
     "name": "stdout",
     "output_type": "stream",
     "text": [
      "21\n",
      "False\n",
      "[31, 10]\n",
      "['சிலப்பதிகாரம்AAA', 'Sr.Data AnalystAAA', 'SingleAAA', 'Ph.DAAA', 'Canara BankAAA', 'sb_54AAA']\n"
     ]
    }
   ],
   "source": [
    "intLst = []\n",
    "strLst = []\n",
    "for item in lst:\n",
    "    if isinstance(item, int) == True:\n",
    "        print(item)\n",
    "        intLst.append(item+10)\n",
    "    else:\n",
    "        strLst.append(item+'AAA')\n",
    "print(intLst)\n",
    "print(strLst)"
   ]
  },
  {
   "cell_type": "code",
   "execution_count": 15,
   "metadata": {},
   "outputs": [],
   "source": [
    "lst = [2,3,4,5,6,7,8,9,10,11,]"
   ]
  },
  {
   "cell_type": "code",
   "execution_count": 16,
   "metadata": {},
   "outputs": [],
   "source": [
    "lstCm = [(element+100) for element in lst if element>8]"
   ]
  },
  {
   "cell_type": "code",
   "execution_count": 17,
   "metadata": {},
   "outputs": [
    {
     "name": "stdout",
     "output_type": "stream",
     "text": [
      "[109, 110, 111]\n"
     ]
    }
   ],
   "source": [
    "print(lstCm)"
   ]
  },
  {
   "cell_type": "code",
   "execution_count": null,
   "metadata": {},
   "outputs": [],
   "source": []
  },
  {
   "cell_type": "code",
   "execution_count": null,
   "metadata": {},
   "outputs": [],
   "source": []
  }
 ],
 "metadata": {
  "kernelspec": {
   "display_name": "Python 3",
   "language": "python",
   "name": "python3"
  },
  "language_info": {
   "codemirror_mode": {
    "name": "ipython",
    "version": 3
   },
   "file_extension": ".py",
   "mimetype": "text/x-python",
   "name": "python",
   "nbconvert_exporter": "python",
   "pygments_lexer": "ipython3",
   "version": "3.8.5"
  }
 },
 "nbformat": 4,
 "nbformat_minor": 4
}
