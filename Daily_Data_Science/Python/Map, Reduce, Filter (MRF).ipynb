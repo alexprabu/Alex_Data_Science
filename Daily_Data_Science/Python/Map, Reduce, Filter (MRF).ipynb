{
 "cells": [
  {
   "cell_type": "markdown",
   "metadata": {},
   "source": [
    "# MRF (Map, Reduce, Filter functions)\n",
    "        \n",
    "        comments will go here\n",
    "\n"
   ]
  },
  {
   "cell_type": "markdown",
   "metadata": {},
   "source": [
    "## Map"
   ]
  },
  {
   "cell_type": "code",
   "execution_count": null,
   "metadata": {},
   "outputs": [],
   "source": []
  },
  {
   "cell_type": "code",
   "execution_count": null,
   "metadata": {},
   "outputs": [],
   "source": []
  },
  {
   "cell_type": "code",
   "execution_count": null,
   "metadata": {},
   "outputs": [],
   "source": []
  },
  {
   "cell_type": "code",
   "execution_count": null,
   "metadata": {},
   "outputs": [],
   "source": []
  },
  {
   "cell_type": "markdown",
   "metadata": {},
   "source": [
    "### using built in function"
   ]
  },
  {
   "cell_type": "code",
   "execution_count": 20,
   "metadata": {},
   "outputs": [
    {
     "name": "stdout",
     "output_type": "stream",
     "text": [
      "[1.0, 2.0, 3.0, 4.0, 5.0]\n"
     ]
    }
   ],
   "source": [
    "list1 = [1,2,3,4,5]\n",
    "m = map(float, list1)\n",
    "print(list(m))"
   ]
  },
  {
   "cell_type": "markdown",
   "metadata": {},
   "source": [
    "### using lambda function"
   ]
  },
  {
   "cell_type": "code",
   "execution_count": 24,
   "metadata": {},
   "outputs": [
    {
     "name": "stdout",
     "output_type": "stream",
     "text": [
      "[1, 4, 9, 16, 25]\n"
     ]
    }
   ],
   "source": [
    "map1 = map(lambda x: x**2, list1)\n",
    "print(list(map1))"
   ]
  },
  {
   "cell_type": "markdown",
   "metadata": {},
   "source": [
    "### using user defined function"
   ]
  },
  {
   "cell_type": "code",
   "execution_count": 33,
   "metadata": {},
   "outputs": [],
   "source": [
    "def add(x, y):\n",
    "    return x+y"
   ]
  },
  {
   "cell_type": "code",
   "execution_count": 35,
   "metadata": {},
   "outputs": [
    {
     "name": "stdout",
     "output_type": "stream",
     "text": [
      "[2, 4, 6, 8, 10]\n"
     ]
    }
   ],
   "source": [
    "list1 = [1,2,3,4,5]\n",
    "list2 = [1,2,3,4,5]\n",
    "\n",
    "map2 = map(add, list1, list2)\n",
    "print(list(map2))"
   ]
  },
  {
   "cell_type": "code",
   "execution_count": null,
   "metadata": {},
   "outputs": [],
   "source": []
  },
  {
   "cell_type": "code",
   "execution_count": 42,
   "metadata": {},
   "outputs": [],
   "source": [
    "list2 = ['Alex','Sugi','Debbie','Niralya'] # need to print list of lists(each char of string will be another list's item)\n",
    "\n",
    "map3 =  map(lambda x: list(x), list2) \n",
    "map4 = map(list, list2) #very short and correct method "
   ]
  },
  {
   "cell_type": "code",
   "execution_count": 40,
   "metadata": {},
   "outputs": [
    {
     "name": "stdout",
     "output_type": "stream",
     "text": [
      "[['A', 'l', 'e', 'x'], ['S', 'u', 'g', 'i'], ['D', 'e', 'b', 'b', 'i', 'e'], ['N', 'i', 'r', 'a', 'l', 'y', 'a']]\n",
      "[['A', 'l', 'e', 'x'], ['S', 'u', 'g', 'i'], ['D', 'e', 'b', 'b', 'i', 'e'], ['N', 'i', 'r', 'a', 'l', 'y', 'a']]\n"
     ]
    }
   ],
   "source": [
    "print(list(map3))\n",
    "print(list(map4))"
   ]
  },
  {
   "cell_type": "markdown",
   "metadata": {},
   "source": [
    "## Reduce"
   ]
  },
  {
   "cell_type": "code",
   "execution_count": null,
   "metadata": {},
   "outputs": [],
   "source": []
  },
  {
   "cell_type": "code",
   "execution_count": null,
   "metadata": {},
   "outputs": [],
   "source": []
  },
  {
   "cell_type": "code",
   "execution_count": null,
   "metadata": {},
   "outputs": [],
   "source": []
  },
  {
   "cell_type": "code",
   "execution_count": null,
   "metadata": {},
   "outputs": [],
   "source": []
  },
  {
   "cell_type": "code",
   "execution_count": null,
   "metadata": {},
   "outputs": [],
   "source": []
  },
  {
   "cell_type": "markdown",
   "metadata": {},
   "source": [
    "## Filter\n",
    "        \n",
    "        \n",
    "        filter function will return only True or False"
   ]
  },
  {
   "cell_type": "code",
   "execution_count": null,
   "metadata": {},
   "outputs": [],
   "source": []
  },
  {
   "cell_type": "code",
   "execution_count": 21,
   "metadata": {},
   "outputs": [
    {
     "name": "stdout",
     "output_type": "stream",
     "text": [
      "<filter object at 0x0000015FF7BA9940>\n",
      "[40, 35, 69, 88, 96, 55, 36]\n"
     ]
    }
   ],
   "source": [
    "def pass_fail(marks):\n",
    "    if marks >= 35:\n",
    "        return True\n",
    "    else:\n",
    "        return False\n",
    "    \n",
    "student_marks = [40,21,35,69,88,96,55,21,36]\n",
    "result = filter(pass_fail, student_marks)\n",
    "print(result)\n",
    "print(list(result)) # will return only pass values"
   ]
  },
  {
   "cell_type": "code",
   "execution_count": 22,
   "metadata": {},
   "outputs": [
    {
     "name": "stdout",
     "output_type": "stream",
     "text": [
      "{'a': 1, 'b': 2, 'c': 3}\n"
     ]
    }
   ],
   "source": [
    "#Creating a dictionary object with two lists using zip function (list1 as key, list 2 as value)\n",
    "\n",
    "lst1 = ['a','b','c']\n",
    "lst2 = [1,2,3]\n",
    "d = dict(zip(lst1,lst2))\n",
    "print(d)"
   ]
  },
  {
   "cell_type": "code",
   "execution_count": null,
   "metadata": {},
   "outputs": [],
   "source": []
  },
  {
   "cell_type": "code",
   "execution_count": null,
   "metadata": {},
   "outputs": [],
   "source": []
  },
  {
   "cell_type": "code",
   "execution_count": 23,
   "metadata": {},
   "outputs": [],
   "source": [
    "class D:\n",
    "    multiplier = 2\n",
    "    \n",
    "    @classmethod\n",
    "    def ClassMethod(self, x): # Class method's first parmeter always class object\n",
    "        print(\"Class Method\")\n",
    "        return self.multiplier * 10\n",
    "    \n",
    "    @staticmethod\n",
    "    def staticMethod(a, b): #Static method should not have self, because static method is not at all a class method\n",
    "        print('Static Method')\n",
    "        \n",
    "    def normalMethod(self):\n",
    "        print(\"normal method\")"
   ]
  },
  {
   "cell_type": "code",
   "execution_count": null,
   "metadata": {},
   "outputs": [],
   "source": []
  }
 ],
 "metadata": {
  "kernelspec": {
   "display_name": "Python 3",
   "language": "python",
   "name": "python3"
  },
  "language_info": {
   "codemirror_mode": {
    "name": "ipython",
    "version": 3
   },
   "file_extension": ".py",
   "mimetype": "text/x-python",
   "name": "python",
   "nbconvert_exporter": "python",
   "pygments_lexer": "ipython3",
   "version": "3.8.5"
  }
 },
 "nbformat": 4,
 "nbformat_minor": 4
}
