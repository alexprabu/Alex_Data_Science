{
 "cells": [
  {
   "cell_type": "markdown",
   "metadata": {},
   "source": [
    "# Itertools Module\n",
    "\n",
    "    Permutations and Combinations\n",
    "    "
   ]
  },
  {
   "cell_type": "code",
   "execution_count": 6,
   "metadata": {},
   "outputs": [],
   "source": [
    "import itertools"
   ]
  },
  {
   "cell_type": "code",
   "execution_count": 7,
   "metadata": {},
   "outputs": [],
   "source": [
    "a = [1,2,3,4,5]"
   ]
  },
  {
   "cell_type": "code",
   "execution_count": 11,
   "metadata": {},
   "outputs": [
    {
     "name": "stdout",
     "output_type": "stream",
     "text": [
      "<itertools.combinations object at 0x00000236A4035590>\n",
      "[(1,), (2,), (3,), (4,), (5,)]\n"
     ]
    }
   ],
   "source": [
    "b = itertools.combinations(a, 1)\n",
    "\n",
    "\n",
    "print(b)\n",
    "print(list(b))"
   ]
  },
  {
   "cell_type": "code",
   "execution_count": 16,
   "metadata": {},
   "outputs": [
    {
     "name": "stdout",
     "output_type": "stream",
     "text": [
      "[(1, 2), (1, 3), (1, 4), (1, 5), (2, 3), (2, 4), (2, 5), (3, 4), (3, 5), (4, 5)]\n"
     ]
    }
   ],
   "source": [
    "b = itertools.combinations(a, 2)\n",
    "print(list(b))"
   ]
  },
  {
   "cell_type": "code",
   "execution_count": 17,
   "metadata": {},
   "outputs": [
    {
     "name": "stdout",
     "output_type": "stream",
     "text": [
      "[(1, 2, 3), (1, 2, 4), (1, 2, 5), (1, 3, 4), (1, 3, 5), (1, 4, 5), (2, 3, 4), (2, 3, 5), (2, 4, 5), (3, 4, 5)]\n"
     ]
    }
   ],
   "source": [
    "b = itertools.combinations(a, 3)\n",
    "print(list(b))"
   ]
  },
  {
   "cell_type": "code",
   "execution_count": 18,
   "metadata": {},
   "outputs": [
    {
     "name": "stdout",
     "output_type": "stream",
     "text": [
      "[(1, 2, 3, 4), (1, 2, 3, 5), (1, 2, 4, 5), (1, 3, 4, 5), (2, 3, 4, 5)]\n"
     ]
    }
   ],
   "source": [
    "b = itertools.combinations(a, 4)\n",
    "print(list(b))"
   ]
  },
  {
   "cell_type": "code",
   "execution_count": 19,
   "metadata": {},
   "outputs": [
    {
     "name": "stdout",
     "output_type": "stream",
     "text": [
      "[(1, 2, 3, 4, 5)]\n"
     ]
    }
   ],
   "source": [
    "b = itertools.combinations(a, 5)\n",
    "print(list(b))"
   ]
  },
  {
   "cell_type": "code",
   "execution_count": null,
   "metadata": {},
   "outputs": [],
   "source": []
  },
  {
   "cell_type": "code",
   "execution_count": null,
   "metadata": {},
   "outputs": [],
   "source": []
  },
  {
   "cell_type": "code",
   "execution_count": 14,
   "metadata": {},
   "outputs": [
    {
     "name": "stdout",
     "output_type": "stream",
     "text": [
      "[('Alex',), ('Sugi',), ('Debbie',), ('Niralya',)]\n"
     ]
    }
   ],
   "source": [
    "members = ['Alex', 'Sugi', 'Debbie', 'Niralya']\n",
    "\n",
    "comb = itertools.combinations(members, 1)\n",
    "\n",
    "print(list(comb))"
   ]
  },
  {
   "cell_type": "code",
   "execution_count": 15,
   "metadata": {},
   "outputs": [
    {
     "name": "stdout",
     "output_type": "stream",
     "text": [
      "[('Alex', 'Sugi'), ('Alex', 'Debbie'), ('Alex', 'Niralya'), ('Sugi', 'Debbie'), ('Sugi', 'Niralya'), ('Debbie', 'Niralya')]\n"
     ]
    }
   ],
   "source": [
    "members = ['Alex', 'Sugi', 'Debbie', 'Niralya']\n",
    "\n",
    "comb = itertools.combinations(members, 2)\n",
    "\n",
    "print(list(comb))"
   ]
  },
  {
   "cell_type": "code",
   "execution_count": 20,
   "metadata": {},
   "outputs": [
    {
     "name": "stdout",
     "output_type": "stream",
     "text": [
      "[('Alex', 'Sugi', 'Debbie'), ('Alex', 'Sugi', 'Niralya'), ('Alex', 'Debbie', 'Niralya'), ('Sugi', 'Debbie', 'Niralya')]\n"
     ]
    }
   ],
   "source": [
    "members = ['Alex', 'Sugi', 'Debbie', 'Niralya']\n",
    "\n",
    "comb = itertools.combinations(members, 3)\n",
    "\n",
    "print(list(comb))"
   ]
  },
  {
   "cell_type": "code",
   "execution_count": null,
   "metadata": {},
   "outputs": [],
   "source": [
    "members = ['Alex', 'Sugi', 'Debbie', 'Niralya']\n",
    "\n",
    "comb = itertools.combinations(members, 3)\n",
    "\n",
    "print(list(comb))"
   ]
  },
  {
   "cell_type": "code",
   "execution_count": null,
   "metadata": {},
   "outputs": [],
   "source": []
  },
  {
   "cell_type": "code",
   "execution_count": null,
   "metadata": {},
   "outputs": [],
   "source": []
  },
  {
   "cell_type": "markdown",
   "metadata": {},
   "source": [
    "Can generate combinations in Homogenious as well as  Hetrogenious data"
   ]
  },
  {
   "cell_type": "code",
   "execution_count": 27,
   "metadata": {},
   "outputs": [
    {
     "name": "stdout",
     "output_type": "stream",
     "text": [
      "[('Alex',), ('Sugi',), ('Debbie',), ('Niralya',), (1,), (2,), (3,), (4,), (True,), (False,)] \n",
      "\n",
      "[('Alex', 'Sugi'), ('Alex', 'Debbie'), ('Alex', 'Niralya'), ('Alex', 1), ('Alex', 2), ('Alex', 3), ('Alex', 4), ('Alex', True), ('Alex', False), ('Sugi', 'Debbie'), ('Sugi', 'Niralya'), ('Sugi', 1), ('Sugi', 2), ('Sugi', 3), ('Sugi', 4), ('Sugi', True), ('Sugi', False), ('Debbie', 'Niralya'), ('Debbie', 1), ('Debbie', 2), ('Debbie', 3), ('Debbie', 4), ('Debbie', True), ('Debbie', False), ('Niralya', 1), ('Niralya', 2), ('Niralya', 3), ('Niralya', 4), ('Niralya', True), ('Niralya', False), (1, 2), (1, 3), (1, 4), (1, True), (1, False), (2, 3), (2, 4), (2, True), (2, False), (3, 4), (3, True), (3, False), (4, True), (4, False), (True, False)]\n"
     ]
    }
   ],
   "source": [
    "lst = ['Alex', 'Sugi', 'Debbie', 'Niralya', 1, 2, 3, 4, True, False]\n",
    "\n",
    "combinations_1 = itertools.combinations(lst, 1)\n",
    "print(list(combinations_1), \"\\n\")\n",
    "\n",
    "combinations_2 = itertools.combinations(lst, 2)\n",
    "print(list(combinations_2))\n"
   ]
  },
  {
   "cell_type": "code",
   "execution_count": null,
   "metadata": {},
   "outputs": [],
   "source": []
  },
  {
   "cell_type": "code",
   "execution_count": 29,
   "metadata": {},
   "outputs": [],
   "source": [
    "combinations = itertools.combinations(range(3), 2)"
   ]
  },
  {
   "cell_type": "code",
   "execution_count": 30,
   "metadata": {},
   "outputs": [
    {
     "name": "stdout",
     "output_type": "stream",
     "text": [
      "[(0, 1), (0, 2), (1, 2)]\n"
     ]
    }
   ],
   "source": [
    "print(list(combinations))"
   ]
  },
  {
   "cell_type": "code",
   "execution_count": null,
   "metadata": {},
   "outputs": [],
   "source": []
  },
  {
   "cell_type": "code",
   "execution_count": null,
   "metadata": {},
   "outputs": [],
   "source": []
  },
  {
   "cell_type": "code",
   "execution_count": null,
   "metadata": {},
   "outputs": [],
   "source": []
  },
  {
   "cell_type": "code",
   "execution_count": null,
   "metadata": {},
   "outputs": [],
   "source": []
  },
  {
   "cell_type": "code",
   "execution_count": null,
   "metadata": {},
   "outputs": [],
   "source": []
  },
  {
   "cell_type": "code",
   "execution_count": null,
   "metadata": {},
   "outputs": [],
   "source": []
  }
 ],
 "metadata": {
  "kernelspec": {
   "display_name": "Python 3",
   "language": "python",
   "name": "python3"
  },
  "language_info": {
   "codemirror_mode": {
    "name": "ipython",
    "version": 3
   },
   "file_extension": ".py",
   "mimetype": "text/x-python",
   "name": "python",
   "nbconvert_exporter": "python",
   "pygments_lexer": "ipython3",
   "version": "3.8.5"
  }
 },
 "nbformat": 4,
 "nbformat_minor": 4
}
