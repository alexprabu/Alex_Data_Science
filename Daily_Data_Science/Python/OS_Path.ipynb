{
 "cells": [
  {
   "cell_type": "markdown",
   "metadata": {},
   "source": [
    "# os.path\n",
    "\n",
    "        Warning: below examples are applicable on windows OS\n",
    "        Certification: expect 1 or 2 questions from os path"
   ]
  },
  {
   "cell_type": "code",
   "execution_count": 19,
   "metadata": {},
   "outputs": [],
   "source": [
    "import os.path"
   ]
  },
  {
   "cell_type": "code",
   "execution_count": 34,
   "metadata": {},
   "outputs": [
    {
     "name": "stdout",
     "output_type": "stream",
     "text": [
      "System\\Users\\Alex\n"
     ]
    }
   ],
   "source": [
    "a = os.path.join('System','Users','Alex')\n",
    "print(a)"
   ]
  },
  {
   "cell_type": "code",
   "execution_count": 21,
   "metadata": {},
   "outputs": [
    {
     "name": "stdout",
     "output_type": "stream",
     "text": [
      "D:\\Alex\\DS\\data_science\\Daily_Data_Science\\Python\\OS_Path.ipynb\n"
     ]
    }
   ],
   "source": [
    "this_file = os.path.join(os.getcwd(), 'OS_Path.ipynb')\n",
    "print(this_file)"
   ]
  },
  {
   "cell_type": "code",
   "execution_count": 35,
   "metadata": {},
   "outputs": [
    {
     "name": "stdout",
     "output_type": "stream",
     "text": [
      "D:\\Alex\\DS\\data_science\\Daily_Data_Science\\Python\n"
     ]
    }
   ],
   "source": [
    "print(os.getcwd()) # cwd - current working directory"
   ]
  },
  {
   "cell_type": "code",
   "execution_count": 23,
   "metadata": {},
   "outputs": [
    {
     "name": "stdout",
     "output_type": "stream",
     "text": [
      "D:\\Alex\\DS\\data_science\\Daily_Data_Science\\Python\n"
     ]
    }
   ],
   "source": [
    "print(os.path.dirname(this_file))"
   ]
  },
  {
   "cell_type": "code",
   "execution_count": 24,
   "metadata": {},
   "outputs": [
    {
     "name": "stdout",
     "output_type": "stream",
     "text": [
      "OS_Path.ipynb\n"
     ]
    }
   ],
   "source": [
    "print(os.path.basename(this_file))"
   ]
  },
  {
   "cell_type": "code",
   "execution_count": 25,
   "metadata": {},
   "outputs": [
    {
     "name": "stdout",
     "output_type": "stream",
     "text": [
      "<class 'tuple'>\n",
      "('D:\\\\Alex\\\\DS\\\\data_science\\\\Daily_Data_Science\\\\Python', 'OS_Path.ipynb')\n"
     ]
    }
   ],
   "source": [
    "sp = os.path.split(this_file)\n",
    "print(type(sp))\n",
    "print(sp)"
   ]
  },
  {
   "cell_type": "code",
   "execution_count": 26,
   "metadata": {},
   "outputs": [
    {
     "name": "stdout",
     "output_type": "stream",
     "text": [
      "('D:\\\\Alex\\\\DS\\\\data_science\\\\Daily_Data_Science\\\\Python\\\\OS_Path', '.ipynb')\n"
     ]
    }
   ],
   "source": [
    "print(os.path.splitext(this_file))"
   ]
  },
  {
   "cell_type": "code",
   "execution_count": 27,
   "metadata": {},
   "outputs": [
    {
     "name": "stdout",
     "output_type": "stream",
     "text": [
      "True\n"
     ]
    }
   ],
   "source": [
    "print(os.path.lexists(this_file))"
   ]
  },
  {
   "cell_type": "markdown",
   "metadata": {},
   "source": [
    "## Relative Path & Absolute Path"
   ]
  },
  {
   "cell_type": "code",
   "execution_count": 37,
   "metadata": {},
   "outputs": [
    {
     "name": "stdout",
     "output_type": "stream",
     "text": [
      "D:\\Alex\\DS\\data_science\\Daily_Data_Science\\Python\\OS_Path.ipynb\n"
     ]
    }
   ],
   "source": [
    "print(os.path.abspath(this_file))"
   ]
  },
  {
   "cell_type": "code",
   "execution_count": 38,
   "metadata": {},
   "outputs": [
    {
     "name": "stdout",
     "output_type": "stream",
     "text": [
      "OS_Path.ipynb\n"
     ]
    }
   ],
   "source": [
    "print(os.path.relpath(this_file))"
   ]
  },
  {
   "cell_type": "code",
   "execution_count": 39,
   "metadata": {},
   "outputs": [
    {
     "name": "stdout",
     "output_type": "stream",
     "text": [
      "D:\\Alex\\DS\\data_science\\Daily_Data_Science\\Python\\OS_Path.ipynb\n"
     ]
    }
   ],
   "source": [
    "print(os.path.realpath(this_file))"
   ]
  },
  {
   "cell_type": "code",
   "execution_count": null,
   "metadata": {},
   "outputs": [],
   "source": []
  },
  {
   "cell_type": "code",
   "execution_count": null,
   "metadata": {},
   "outputs": [],
   "source": []
  },
  {
   "cell_type": "code",
   "execution_count": null,
   "metadata": {},
   "outputs": [],
   "source": []
  },
  {
   "cell_type": "code",
   "execution_count": null,
   "metadata": {},
   "outputs": [],
   "source": []
  },
  {
   "cell_type": "markdown",
   "metadata": {},
   "source": [
    "## Important interview question"
   ]
  },
  {
   "cell_type": "markdown",
   "metadata": {},
   "source": [
    "Python will show \"exit with zero\" if program executes with no errors \n",
    "\n",
    "'Process finished with exit code 0'"
   ]
  }
 ],
 "metadata": {
  "kernelspec": {
   "display_name": "Python 3",
   "language": "python",
   "name": "python3"
  },
  "language_info": {
   "codemirror_mode": {
    "name": "ipython",
    "version": 3
   },
   "file_extension": ".py",
   "mimetype": "text/x-python",
   "name": "python",
   "nbconvert_exporter": "python",
   "pygments_lexer": "ipython3",
   "version": "3.8.5"
  }
 },
 "nbformat": 4,
 "nbformat_minor": 4
}
