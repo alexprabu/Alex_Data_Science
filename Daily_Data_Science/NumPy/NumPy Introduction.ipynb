{
 "cells": [
  {
   "cell_type": "markdown",
   "metadata": {},
   "source": [
    "# NumPy Introduction\n",
    "\n",
    "  <ul>\n",
    "    <li>Numerical Python</li>\n",
    "    <li>NumPy is the fundamental package for array computing with Python</li>\n",
    "    <li>Latest version: 1.21.4 (Nov 2021)</li>\n",
    "    <li>Official website: https://www.numpy.org</li>\n",
    "    <li>Created by Travis E. Olipant et al.</li>\n",
    "    <li>Created in 2005</li>\n",
    "    <li>Open Source</li>\n",
    "    <li>It also has functions for working in domain of Linear Algebra, Fourier Transform and Matrices</li>\n",
    "    <li>NumPy is very important to learn advanced tools like SciPy, Scikit-Learn, Matplotlib, TensorFlow</li>\n",
    "    <li>NumPy is a replacement for MatLab. These three combinations (NumPy, SciPy, Matplotlib) replaced MatLab </li>\n",
    "  </ul>\n",
    "    \n",
    "    \n",
    "    "
   ]
  },
  {
   "cell_type": "markdown",
   "metadata": {},
   "source": [
    "# Why NumPy\n",
    "   <ul>\n",
    "        <li>In Python we have lists to serve the purpose of Arrays, but they are slow to process</li>\n",
    "        <li>NumPy aims to produce an array object that is 50x fasther than traditional python lists</li>\n",
    "        <li>The array object in NumPy is called ndarray (n - dimensional array), it provides a lot of supporting functions that make working with ndarray very easily\n",
    "        <li>NumPy is a python library and is written partially in Python, but most of the parts that require faster computation are written in C or C++\n",
    "    <li>Broadcasting functions (?)</li>\n",
    "   </ul>\n",
    "   \n",
    "   \n",
    "   \n",
    "   \n",
    "    Why NumPy arrays are faster than lists?\n",
    "        NumPy arrays are stored at one continous place in memory unlike lists, so processes can access and manipulate them very efficiently\n",
    "        This behaviour is called \"Locality of reference\" in Computer Science\n",
    "        Also it is optimised to work with latest CPU architectures\n",
    "        Faster to read less bytes of memory\n",
    "        No type checking when iterating through the objects\n",
    "        SIMD Vector Processing\n",
    "        Effective cache utilization\n",
    "        \n",
    "        \n",
    "<font color='purple'><b>Important: </b></font> Refer Melcose sir's notes"
   ]
  },
  {
   "cell_type": "markdown",
   "metadata": {},
   "source": [
    "Need clear understanding on the below things,\n",
    "   <ol>\n",
    "    <li>Scalar</li>\n",
    "    <li>Vector (1D array)</li>\n",
    "    <li>Matrix (2D Array) (Rows and Columns)</li>\n",
    "    <li>3D Array</li>\n",
    "    <li>ND Array</li>\n",
    "   </ol>\n",
    "        \n",
    "   Also Hetrogeneous (List) and Homegeneous (NumPy arrays)\n",
    "   \n",
    "   More than 1D is called as Tensor in NumPy\n",
    "   Scalar can be called as 0D array (0 dimension array)"
   ]
  },
  {
   "attachments": {
    "arrays.png": {
     "image/png": "[encoded data removed]"
    }
   },
   "cell_type": "markdown",
   "metadata": {},
   "source": [
    "![arrays.png](attachment:arrays.png)"
   ]
  },
  {
   "cell_type": "code",
   "execution_count": 3,
   "metadata": {},
   "outputs": [
    {
     "data": {
      "text/plain": [
       "'0b101'"
      ]
     },
     "execution_count": 3,
     "metadata": {},
     "output_type": "execute_result"
    }
   ],
   "source": [
    "#we can use bin() method to get binary representation of given integer.\n",
    "\n",
    "bin(5)"
   ]
  },
  {
   "cell_type": "code",
   "execution_count": 1,
   "metadata": {},
   "outputs": [],
   "source": [
    "import numpy as np"
   ]
  },
  {
   "cell_type": "code",
   "execution_count": null,
   "metadata": {},
   "outputs": [],
   "source": []
  },
  {
   "cell_type": "code",
   "execution_count": null,
   "metadata": {},
   "outputs": [],
   "source": []
  },
  {
   "cell_type": "code",
   "execution_count": null,
   "metadata": {},
   "outputs": [],
   "source": []
  },
  {
   "cell_type": "code",
   "execution_count": null,
   "metadata": {},
   "outputs": [],
   "source": []
  },
  {
   "cell_type": "code",
   "execution_count": null,
   "metadata": {},
   "outputs": [],
   "source": []
  },
  {
   "cell_type": "code",
   "execution_count": null,
   "metadata": {},
   "outputs": [],
   "source": []
  },
  {
   "cell_type": "code",
   "execution_count": null,
   "metadata": {},
   "outputs": [],
   "source": []
  },
  {
   "cell_type": "code",
   "execution_count": null,
   "metadata": {},
   "outputs": [],
   "source": []
  },
  {
   "cell_type": "code",
   "execution_count": null,
   "metadata": {},
   "outputs": [],
   "source": []
  },
  {
   "cell_type": "code",
   "execution_count": null,
   "metadata": {},
   "outputs": [],
   "source": []
  }
 ],
 "metadata": {
  "kernelspec": {
   "display_name": "Python 3",
   "language": "python",
   "name": "python3"
  },
  "language_info": {
   "codemirror_mode": {
    "name": "ipython",
    "version": 3
   },
   "file_extension": ".py",
   "mimetype": "text/x-python",
   "name": "python",
   "nbconvert_exporter": "python",
   "pygments_lexer": "ipython3",
   "version": "3.7.4"
  }
 },
 "nbformat": 4,
 "nbformat_minor": 4
}
